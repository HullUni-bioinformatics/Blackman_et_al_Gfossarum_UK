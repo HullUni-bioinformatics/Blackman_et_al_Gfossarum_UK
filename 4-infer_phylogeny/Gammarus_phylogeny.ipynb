{
 "cells": [
  {
   "cell_type": "markdown",
   "metadata": {},
   "source": [
    "### Maximum Likelihood tree inference"
   ]
  },
  {
   "cell_type": "markdown",
   "metadata": {},
   "source": [
    "Sequences generated in for this study are in the following files:\n",
    "\n",
    " - `sequences/Gammarus_sp_SANGER.fasta` #Sanger sequences\n",
    " - `../3-extract_haplotypes/Gammarus_sp_from_metaBEAT.fasta` #haplotyes extracted from metabarcoding data\n",
    " \n",
    "Other Gammarid COI sequences from Weiss et al. 2014 are at:\n",
    " - `../1-download_reference/Gammarus_COI_Weiss_et_al_2013.gb`"
   ]
  },
  {
   "cell_type": "markdown",
   "metadata": {},
   "source": [
    "Find the Reprophylo manual [here](https://docs.google.com/document/d/1Q-8B0cvkZw2zMkuP0Af4zZ7FiAvBQPDdGbrLLMgtx_4/edit#)."
   ]
  },
  {
   "cell_type": "markdown",
   "metadata": {},
   "source": [
    "Import reprophylo functions."
   ]
  },
  {
   "cell_type": "code",
   "execution_count": 1,
   "metadata": {
    "collapsed": true
   },
   "outputs": [],
   "source": [
    "from reprophylo import *"
   ]
  },
  {
   "cell_type": "markdown",
   "metadata": {},
   "source": [
    "Specifying the locus/loci to be used in the analyses."
   ]
  },
  {
   "cell_type": "markdown",
   "metadata": {},
   "source": [
    "The Genbank input files may contain sequences for a range of genes (say you have downloaded full mitochondrial genomes), but you are only interested in a particular gene (say COI). \n",
    "\n",
    "So, first we'll want to get an overview of all the genes present in your input Genbank file. Reprophylo has a function for that.\n",
    "\n",
    "The function will write tentative locus descriptions to the file `loci.csv`, which you may modify, e.g. exclude certain genes from the loci file, or synonymize gene names if necessary."
   ]
  },
  {
   "cell_type": "code",
   "execution_count": 2,
   "metadata": {
    "collapsed": false
   },
   "outputs": [
    {
     "name": "stdout",
     "output_type": "stream",
     "text": [
      "\n",
      "There are 2 gene names (or gene product names) detected\n",
      "----------------------------------\n",
      "Gene and count sorted by gene name\n",
      "----------------------------------\n",
      "63 instances of CDS,COI\n",
      "3 instances of CDS,cytochrome c oxidase subunit I\n",
      "-------------------------------\n",
      "Gene and count sorted by counts\n",
      "-------------------------------\n",
      "63 instances of CDS,COI\n",
      "3 instances of CDS,cytochrome c oxidase subunit I\n"
     ]
    }
   ],
   "source": [
    "list_loci_in_genbank('../1-download_reference/Gammarus_COI_Weiss_et_al_2013.gb', 'loci.csv')"
   ]
  },
  {
   "cell_type": "markdown",
   "metadata": {},
   "source": [
    "The function finds 2 unique gene names. Reprophylo internally contains a list of synoyms for common genes and in this case understands that the two gene names are synonymous. The tentative list of loci that it produces in the file `loci.csv` thus contains only a description for one locus."
   ]
  },
  {
   "cell_type": "code",
   "execution_count": 3,
   "metadata": {
    "collapsed": false
   },
   "outputs": [
    {
     "name": "stdout",
     "output_type": "stream",
     "text": [
      "dna,CDS,MT-CO1,COI,cytochrome c oxidase subunit I\r\n"
     ]
    }
   ],
   "source": [
    "!cat loci.csv"
   ]
  },
  {
   "cell_type": "markdown",
   "metadata": {},
   "source": [
    "Start a new Reprophylo project, specifying/characterizing the loci to be processed via the `loci.csv` file that we have prepared."
   ]
  },
  {
   "cell_type": "code",
   "execution_count": 4,
   "metadata": {
    "collapsed": false
   },
   "outputs": [
    {
     "name": "stderr",
     "output_type": "stream",
     "text": [
      "DEBUG:Cloud:Log file (/root/.picloud/cloud.log) opened\n"
     ]
    }
   ],
   "source": [
    "pj = Project('loci.csv', pickle='my_project.pickle', git=False)"
   ]
  },
  {
   "cell_type": "markdown",
   "metadata": {},
   "source": [
    "Check if the Reprophylo project was created correctly."
   ]
  },
  {
   "cell_type": "code",
   "execution_count": 5,
   "metadata": {
    "collapsed": false
   },
   "outputs": [
    {
     "name": "stdout",
     "output_type": "stream",
     "text": [
      "Project object with the loci MT-CO1,\n"
     ]
    }
   ],
   "source": [
    "print pj"
   ]
  },
  {
   "cell_type": "markdown",
   "metadata": {},
   "source": [
    "Reading in the sequences from Weiss et al. 2013 from Genbank format."
   ]
  },
  {
   "cell_type": "code",
   "execution_count": 6,
   "metadata": {
    "collapsed": false
   },
   "outputs": [
    {
     "name": "stderr",
     "output_type": "stream",
     "text": [
      "/home/reprophylo/reprophylo.py:1015: UserWarning: Version control off\n",
      "  warnings.warn('Version control off')\n"
     ]
    }
   ],
   "source": [
    "input_files=['../1-download_reference/Gammarus_COI_Weiss_et_al_2013.gb']\n",
    "pj.read_embl_genbank(input_files)"
   ]
  },
  {
   "cell_type": "markdown",
   "metadata": {},
   "source": [
    "All sequences are now stored in memory as 'sequence records'. "
   ]
  },
  {
   "cell_type": "markdown",
   "metadata": {},
   "source": [
    "How many sequences does our dataset contain?"
   ]
  },
  {
   "cell_type": "code",
   "execution_count": 7,
   "metadata": {
    "collapsed": false
   },
   "outputs": [
    {
     "name": "stdout",
     "output_type": "stream",
     "text": [
      "66\n"
     ]
    }
   ],
   "source": [
    "print len(pj.records)"
   ]
  },
  {
   "cell_type": "markdown",
   "metadata": {},
   "source": [
    "Reading in the new sequences produced from Sanger sequencing or metabarcoding. They will be added to the sequence records with the id 'denovo'"
   ]
  },
  {
   "cell_type": "code",
   "execution_count": 8,
   "metadata": {
    "collapsed": false
   },
   "outputs": [
    {
     "data": {
      "text/plain": [
       "8"
      ]
     },
     "execution_count": 8,
     "metadata": {},
     "output_type": "execute_result"
    }
   ],
   "source": [
    "denovo_sequence_filenames=['sequences/Gammarus_sp_SANGER.fasta', \n",
    " '../3-extract_haplotypes/Gammarus_sp_from_metaBEAT.fasta']\n",
    "\n",
    "pj.read_denovo(denovo_sequence_filenames, 'dna', format='fasta')"
   ]
  },
  {
   "cell_type": "code",
   "execution_count": 9,
   "metadata": {
    "collapsed": false
   },
   "outputs": [
    {
     "name": "stdout",
     "output_type": "stream",
     "text": [
      "74\n"
     ]
    }
   ],
   "source": [
    "print len(pj.records)"
   ]
  },
  {
   "cell_type": "markdown",
   "metadata": {},
   "source": [
    "We are assuming that the sequences that came from Genbank are already in the correct orientation, but we should check that our custom sequences need to be inverted. "
   ]
  },
  {
   "cell_type": "markdown",
   "metadata": {},
   "source": [
    "We'll use the `blast` program and a few functions to do that."
   ]
  },
  {
   "cell_type": "markdown",
   "metadata": {},
   "source": [
    "Install the `blast` program."
   ]
  },
  {
   "cell_type": "code",
   "execution_count": 10,
   "metadata": {
    "collapsed": false
   },
   "outputs": [
    {
     "name": "stdout",
     "output_type": "stream",
     "text": [
      "Reading package lists... Done\n",
      "Building dependency tree       \n",
      "Reading state information... Done\n",
      "ncbi-blast+ is already the newest version.\n",
      "0 upgraded, 0 newly installed, 0 to remove and 287 not upgraded.\n"
     ]
    }
   ],
   "source": [
    "!apt-get install ncbi-blast+"
   ]
  },
  {
   "cell_type": "code",
   "execution_count": 11,
   "metadata": {
    "collapsed": false
   },
   "outputs": [],
   "source": [
    "!mkdir temp"
   ]
  },
  {
   "cell_type": "code",
   "execution_count": 12,
   "metadata": {
    "collapsed": true
   },
   "outputs": [],
   "source": [
    "from Bio import SeqIO\n",
    "\n",
    "output_handle = open(\"temp/test.fasta\", \"w\")\n",
    "SeqIO.write(pj.records, output_handle, \"fasta\")\n",
    "output_handle.close()"
   ]
  },
  {
   "cell_type": "code",
   "execution_count": 13,
   "metadata": {
    "collapsed": false
   },
   "outputs": [
    {
     "name": "stdout",
     "output_type": "stream",
     "text": [
      "\r\n",
      "\r\n",
      "Building a new DB, current time: 09/21/2016 00:45:20\r\n",
      "New DB name:   temp/all\r\n",
      "New DB title:  temp/test.fasta\r\n",
      "Sequence type: Nucleotide\r\n",
      "Keep Linkouts: T\r\n",
      "Keep MBits: T\r\n",
      "Maximum file size: 1000000000B\r\n",
      "Adding sequences from FASTA; added 74 sequences in 0.00287414 seconds.\r\n"
     ]
    }
   ],
   "source": [
    "!makeblastdb -in temp/test.fasta -dbtype nucl -out temp/all"
   ]
  },
  {
   "cell_type": "code",
   "execution_count": 14,
   "metadata": {
    "collapsed": false
   },
   "outputs": [],
   "source": [
    "!blastn -db temp/all -query temp/test.fasta -outfmt '6 qseqid sseqid qstart qend sstart send' -out temp/test.blastn.out"
   ]
  },
  {
   "cell_type": "markdown",
   "metadata": {},
   "source": [
    "Identify any denovo sequences that match with non-denovo sequences in reverse complement."
   ]
  },
  {
   "cell_type": "code",
   "execution_count": 15,
   "metadata": {
    "collapsed": false
   },
   "outputs": [
    {
     "name": "stdout",
     "output_type": "stream",
     "text": [
      "Records to invert:\n",
      "['denovo0', 'denovo1', 'denovo2', 'denovo3', 'denovo4', 'denovo5']\n"
     ]
    }
   ],
   "source": [
    "blastout=open('temp/test.blastn.out')\n",
    "\n",
    "to_invert=[]\n",
    "for line in blastout:\n",
    "    col=line.split(\"\\t\")\n",
    "    if (col[-2] > col[-1]) and ('denovo' in col[0]) and (not 'denovo' in col[1]):\n",
    "        to_invert.append(col[0])\n",
    "        \n",
    "to_invert=list(set(to_invert))\n",
    "print \"Records to invert:\\n%s\" %to_invert\n",
    "\n",
    "blastout.close()"
   ]
  },
  {
   "cell_type": "markdown",
   "metadata": {},
   "source": [
    "Reverse complement records."
   ]
  },
  {
   "cell_type": "code",
   "execution_count": 16,
   "metadata": {
    "collapsed": false
   },
   "outputs": [
    {
     "name": "stdout",
     "output_type": "stream",
     "text": [
      "There are records to invert\n",
      "\n",
      "\t-> denovo0\n",
      "\t-> denovo1\n",
      "\t-> denovo2\n",
      "\t-> denovo3\n",
      "\t-> denovo4\n",
      "\t-> denovo5\n"
     ]
    }
   ],
   "source": [
    "if to_invert:\n",
    "    print \"There are records to invert\\n\"\n",
    "    for r in pj.records:\n",
    "        if r.id in to_invert:\n",
    "            print \"\\t-> %s\" %r.id\n",
    "            r.seq = r.seq.reverse_complement()\n",
    "            to_invert.remove(r.id)\n",
    "else:\n",
    "    print \"Nothing to invert\\n\""
   ]
  },
  {
   "cell_type": "markdown",
   "metadata": {},
   "source": [
    "Remove temporal directory."
   ]
  },
  {
   "cell_type": "code",
   "execution_count": 17,
   "metadata": {
    "collapsed": true
   },
   "outputs": [],
   "source": [
    "!rm -rf temp"
   ]
  },
  {
   "cell_type": "markdown",
   "metadata": {},
   "source": [
    "Now, lets print a summary of the number of sequences per species."
   ]
  },
  {
   "cell_type": "code",
   "execution_count": 18,
   "metadata": {
    "collapsed": false
   },
   "outputs": [],
   "source": [
    "pj.species_vs_loci('species.csv')"
   ]
  },
  {
   "cell_type": "code",
   "execution_count": 19,
   "metadata": {
    "collapsed": false
   },
   "outputs": [
    {
     "name": "stdout",
     "output_type": "stream",
     "text": [
      "species\tMT-CO1\r",
      "\r\n",
      "Gammarus balcanicus\t1\r",
      "\r\n",
      "Gammarus duebeni\t1\r",
      "\r\n",
      "Gammarus fossarum\t54\r",
      "\r\n",
      "Gammarus glabratus\t1\r",
      "\r\n",
      "Gammarus pulex\t6\r",
      "\r\n",
      "Gammarus pulex gallicus\t1\r",
      "\r\n",
      "Gammarus roeselii\t1\r",
      "\r\n",
      "Gammarus tigrinus\t1\r",
      "\r\n",
      "undef\t0\r",
      "\r\n"
     ]
    }
   ],
   "source": [
    "!cat species.csv"
   ]
  },
  {
   "cell_type": "markdown",
   "metadata": {},
   "source": [
    "Some sequences seem to be missing. This is because the `species_by_loci` function. Only considers sequence records that are identified with the correct gene identifier. We need to add this for our custom sequences so that reprophylo understands that these sequences are to be analysed together with the COI sequences that we have loaded from the Genbank data."
   ]
  },
  {
   "cell_type": "code",
   "execution_count": 20,
   "metadata": {
    "collapsed": true
   },
   "outputs": [],
   "source": [
    "for r in pj.records:\n",
    "    if 'denovo' in r.id:\n",
    "        pj.add_feature_to_record(r.id, 'CDS', qualifiers={'gene': 'MT-CO1'})"
   ]
  },
  {
   "cell_type": "code",
   "execution_count": 21,
   "metadata": {
    "collapsed": true
   },
   "outputs": [],
   "source": [
    "pj.species_vs_loci('species.csv')"
   ]
  },
  {
   "cell_type": "code",
   "execution_count": 22,
   "metadata": {
    "collapsed": false
   },
   "outputs": [
    {
     "name": "stdout",
     "output_type": "stream",
     "text": [
      "species\tMT-CO1\r",
      "\r\n",
      "Gammarus balcanicus\t1\r",
      "\r\n",
      "Gammarus duebeni\t1\r",
      "\r\n",
      "Gammarus fossarum\t54\r",
      "\r\n",
      "Gammarus glabratus\t1\r",
      "\r\n",
      "Gammarus pulex\t6\r",
      "\r\n",
      "Gammarus pulex gallicus\t1\r",
      "\r\n",
      "Gammarus roeselii\t1\r",
      "\r\n",
      "Gammarus tigrinus\t1\r",
      "\r\n",
      "undef\t8\r",
      "\r\n"
     ]
    }
   ],
   "source": [
    "!cat species.csv"
   ]
  },
  {
   "cell_type": "markdown",
   "metadata": {},
   "source": [
    "Better, but our custom sequences are now assigned to an undefied species. We'll need to add the species to the record. We will look in the original header of the sequence for the species name and add the appropriate organism name to the sequence record."
   ]
  },
  {
   "cell_type": "code",
   "execution_count": 23,
   "metadata": {
    "collapsed": false
   },
   "outputs": [],
   "source": [
    "for r in pj.records:\n",
    "    source=r.features[0]\n",
    "    if 'denovo' in r.id:\n",
    "        if 'pulex' in source.qualifiers['original_id'][0]:\n",
    "            r.features[0].qualifiers['organism'] = ['Gammarus pulex']\n",
    "        elif 'fossarum' in source.qualifiers['original_id'][0]:\n",
    "            r.features[0].qualifiers['organism'] = ['Gammarus fossarum']\n"
   ]
  },
  {
   "cell_type": "code",
   "execution_count": 24,
   "metadata": {
    "collapsed": true
   },
   "outputs": [],
   "source": [
    "pj.species_vs_loci('species.csv')"
   ]
  },
  {
   "cell_type": "code",
   "execution_count": 25,
   "metadata": {
    "collapsed": false
   },
   "outputs": [
    {
     "name": "stdout",
     "output_type": "stream",
     "text": [
      "species\tMT-CO1\r",
      "\r\n",
      "Gammarus balcanicus\t1\r",
      "\r\n",
      "Gammarus duebeni\t1\r",
      "\r\n",
      "Gammarus fossarum\t60\r",
      "\r\n",
      "Gammarus glabratus\t1\r",
      "\r\n",
      "Gammarus pulex\t8\r",
      "\r\n",
      "Gammarus pulex gallicus\t1\r",
      "\r\n",
      "Gammarus roeselii\t1\r",
      "\r\n",
      "Gammarus tigrinus\t1\r",
      "\r\n"
     ]
    }
   ],
   "source": [
    "!cat species.csv"
   ]
  },
  {
   "cell_type": "markdown",
   "metadata": {},
   "source": [
    "There! Now, let's produce some stats for the sequences in our dataset."
   ]
  },
  {
   "cell_type": "code",
   "execution_count": 26,
   "metadata": {
    "collapsed": true
   },
   "outputs": [],
   "source": [
    "pj.extract_by_locus()"
   ]
  },
  {
   "cell_type": "code",
   "execution_count": 27,
   "metadata": {
    "collapsed": false,
    "scrolled": true
   },
   "outputs": [
    {
     "name": "stdout",
     "output_type": "stream",
     "text": [
      "Distribution Of Sequence Lengths\n",
      "Distribution Of Sequence Statistic \"Gc_Content\"\n"
     ]
    },
    {
     "name": "stderr",
     "output_type": "stream",
     "text": [
      "/usr/lib/pymodules/python2.7/matplotlib/figure.py:371: UserWarning: matplotlib is currently using a non-GUI backend, so cannot show the figure\n",
      "  \"matplotlib is currently using a non-GUI backend, \"\n"
     ]
    },
    {
     "data": {
      "image/png": "[encoded data removed]",
      "text/plain": [
       "<matplotlib.figure.Figure at 0x7f7208d53850>"
      ]
     },
     "metadata": {},
     "output_type": "display_data"
    },
    {
     "data": {
      "image/png": "[encoded data removed]",
      "text/plain": [
       "<matplotlib.figure.Figure at 0x7f7208c44c50>"
      ]
     },
     "metadata": {},
     "output_type": "display_data"
    }
   ],
   "source": [
    "%matplotlib inline\n",
    "pj.report_seq_stats()\n"
   ]
  },
  {
   "cell_type": "markdown",
   "metadata": {},
   "source": [
    "Configure sequence alignment with mafft."
   ]
  },
  {
   "cell_type": "code",
   "execution_count": 28,
   "metadata": {
    "collapsed": false
   },
   "outputs": [
    {
     "name": "stdout",
     "output_type": "stream",
     "text": [
      "mafft --localpair --maxiterate 1000 840991474418721.95_MT-CO1.fasta\n"
     ]
    }
   ],
   "source": [
    "mafft_linsi = AlnConf(pj, \n",
    "                      method_name='mafftLinsi', \n",
    "                      CDSAlign=False, \n",
    "                      program_name='mafft', \n",
    "                      cmd='mafft', \n",
    "                      loci=['MT-CO1'], \n",
    "                      cline_args={'localpair': True, 'maxiterate': 1000})"
   ]
  },
  {
   "cell_type": "markdown",
   "metadata": {},
   "source": [
    "Execute sequence alignment process."
   ]
  },
  {
   "cell_type": "code",
   "execution_count": 29,
   "metadata": {
    "collapsed": true
   },
   "outputs": [],
   "source": [
    "pj.align([mafft_linsi])"
   ]
  },
  {
   "cell_type": "markdown",
   "metadata": {},
   "source": [
    "Display information about the alignment method."
   ]
  },
  {
   "cell_type": "code",
   "execution_count": 30,
   "metadata": {
    "collapsed": false
   },
   "outputs": [
    {
     "name": "stdout",
     "output_type": "stream",
     "text": [
      "AlnConf named mafftLinsi with ID 840991474418721.95\n",
      "Loci: MT-CO1 \n",
      "Created on: Wed Sep 21 00:45:21 2016\n",
      "Commands:\n",
      "MT-CO1: mafft --localpair --maxiterate 1000 840991474418721.95_MT-CO1.fasta\n",
      "\n",
      "Environment:\n",
      "Platform: Linux-3.13.0-54-generic-x86_64-with-Ubuntu-14.04-trusty\n",
      " Processor: x86_64\n",
      " Python build: defaultMar 22 2014 22:59:56\n",
      " Python compiler: GCC 4.8.2\n",
      " Python implementation: CPython\n",
      " Python version: 2.7.6\n",
      " ete2 version: 2.2.1072\n",
      " biopython version: 1.68\n",
      " dendropy version: 3.12.2\n",
      " cloud version: 2.8.5\n",
      " reprophylo version 1.3\n",
      " User: chrishah-office\n",
      " Program and version: MAFFT v7.123b\n",
      " Program reference:Katoh\n",
      " Standley 2013 (Molecular Biology and Evolution 30:772-780) MAFFT multiple sequence alignment software version 7: improvements in performance and usability.\n",
      "execution time:\n",
      "10.5745439529\n",
      "\n",
      "\n",
      "==============================\n",
      "Core Methods section sentence:\n",
      "==============================\n",
      "The dataset(s) MT-CO1 were aligned using the program MAFFT v7.123b [1].\n",
      "\n",
      "Reference:\n",
      "Katoh, Standley 2013 (Molecular Biology and Evolution 30:772-780) MAFFT multiple sequence alignment software version 7: improvements in performance and usability.\n",
      "\n"
     ]
    }
   ],
   "source": [
    "print pj.used_methods['mafftLinsi']"
   ]
  },
  {
   "cell_type": "markdown",
   "metadata": {},
   "source": [
    "Write alignment to file for checking in e.g. `Aliview`."
   ]
  },
  {
   "cell_type": "code",
   "execution_count": 31,
   "metadata": {
    "collapsed": false
   },
   "outputs": [
    {
     "data": {
      "text/plain": [
       "['MT-CO1@mafftLinsi_aln.fasta']"
      ]
     },
     "execution_count": 31,
     "metadata": {},
     "output_type": "execute_result"
    }
   ],
   "source": [
    "pj.write_alns(id=['record_id', 'source_organism'], format='fasta')"
   ]
  },
  {
   "cell_type": "markdown",
   "metadata": {},
   "source": [
    "The sequences in our alignment are of different lengths. Sequences obtained via eDNA metabarcoding approach are shorter (~313bp). To explore the effect of different algnment trimming settings we'll trim the alignemnt with  different paramters to keep only columns that are present in more than 70, 80, 90, 95 and 99% of samples. "
   ]
  },
  {
   "cell_type": "markdown",
   "metadata": {},
   "source": [
    "Configure alignemnt trimming."
   ]
  },
  {
   "cell_type": "markdown",
   "metadata": {},
   "source": [
    "Keep columns which are at least 70% complete."
   ]
  },
  {
   "cell_type": "code",
   "execution_count": 32,
   "metadata": {
    "collapsed": false
   },
   "outputs": [
    {
     "name": "stdout",
     "output_type": "stream",
     "text": [
      "trimal -in 875621474418732.68_MT-CO1@mafftLinsi.fasta -gt 0.7\n"
     ]
    }
   ],
   "source": [
    "gt70trimal = TrimalConf(pj, method_name='gt70', program_name='trimal', cmd='trimal', alns=['MT-CO1@mafftLinsi'], trimal_commands={'gt': 0.7})"
   ]
  },
  {
   "cell_type": "markdown",
   "metadata": {},
   "source": [
    "Keep columns which are at least 80% complete."
   ]
  },
  {
   "cell_type": "code",
   "execution_count": 33,
   "metadata": {
    "collapsed": false
   },
   "outputs": [
    {
     "name": "stdout",
     "output_type": "stream",
     "text": [
      "trimal -in 314651474418732.69_MT-CO1@mafftLinsi.fasta -gt 0.8\n"
     ]
    }
   ],
   "source": [
    "gt80trimal = TrimalConf(pj, method_name='gt80', program_name='trimal', cmd='trimal', alns=['MT-CO1@mafftLinsi'], trimal_commands={'gt': 0.8})"
   ]
  },
  {
   "cell_type": "markdown",
   "metadata": {},
   "source": [
    "Keep columns which are at least 90% complete."
   ]
  },
  {
   "cell_type": "code",
   "execution_count": 34,
   "metadata": {
    "collapsed": false
   },
   "outputs": [
    {
     "name": "stdout",
     "output_type": "stream",
     "text": [
      "trimal -in 197301474418732.71_MT-CO1@mafftLinsi.fasta -gt 0.9\n"
     ]
    }
   ],
   "source": [
    "gt90trimal = TrimalConf(pj, method_name='gt90', program_name='trimal', cmd='trimal', alns=['MT-CO1@mafftLinsi'], trimal_commands={'gt': 0.9})"
   ]
  },
  {
   "cell_type": "markdown",
   "metadata": {},
   "source": [
    "Keep columns which are at least 95% complete."
   ]
  },
  {
   "cell_type": "code",
   "execution_count": 35,
   "metadata": {
    "collapsed": false
   },
   "outputs": [
    {
     "name": "stdout",
     "output_type": "stream",
     "text": [
      "trimal -in 876601474418732.73_MT-CO1@mafftLinsi.fasta -gt 0.95\n"
     ]
    }
   ],
   "source": [
    "gt95trimal = TrimalConf(pj, method_name='gt95', program_name='trimal', cmd='trimal', alns=['MT-CO1@mafftLinsi'], trimal_commands={'gt': 0.95})"
   ]
  },
  {
   "cell_type": "markdown",
   "metadata": {},
   "source": [
    "Keep columns which are at least 99% complete."
   ]
  },
  {
   "cell_type": "code",
   "execution_count": 36,
   "metadata": {
    "collapsed": false
   },
   "outputs": [
    {
     "name": "stdout",
     "output_type": "stream",
     "text": [
      "trimal -in 954261474418732.76_MT-CO1@mafftLinsi.fasta -gt 0.99\n"
     ]
    }
   ],
   "source": [
    "gt99trimal = TrimalConf(pj, method_name='gt99', program_name='trimal', cmd='trimal', alns=['MT-CO1@mafftLinsi'], trimal_commands={'gt': 0.99})"
   ]
  },
  {
   "cell_type": "markdown",
   "metadata": {},
   "source": [
    "Execute alignemnt trimming."
   ]
  },
  {
   "cell_type": "code",
   "execution_count": 37,
   "metadata": {
    "collapsed": false
   },
   "outputs": [],
   "source": [
    "pj.trim([gt70trimal,gt80trimal,gt90trimal,gt95trimal,gt99trimal])"
   ]
  },
  {
   "cell_type": "code",
   "execution_count": 38,
   "metadata": {
    "collapsed": false
   },
   "outputs": [
    {
     "name": "stdout",
     "output_type": "stream",
     "text": [
      "TrimalConf named gt70 with ID 875621474418732.68\n",
      "Alignments: MT-CO1@mafftLinsi \n",
      "Created on: Wed Sep 21 00:45:32 2016\n",
      "Commands:\n",
      "MT-CO1@mafftLinsi@gt70: trimal -in 875621474418732.68_MT-CO1@mafftLinsi.fasta -gt 0.7\n",
      "\n",
      "Environment:Platform: Linux-3.13.0-54-generic-x86_64-with-Ubuntu-14.04-trusty\n",
      " Processor: x86_64\n",
      " Python build: defaultMar 22 2014 22:59:56\n",
      " Python compiler: GCC 4.8.2\n",
      " Python implementation: CPython\n",
      " Python version: 2.7.6\n",
      " ete2 version: 2.2.1072\n",
      " biopython version: 1.68\n",
      " dendropy version: 3.12.2\n",
      " cloud version: 2.8.5\n",
      " reprophylo version 1.3\n",
      " User: chrishah-office\n",
      " Program and version: trimAl 1.2rev59\n",
      " Program reference: Salvador Capella-Gutierrez; Jose M. Silla-Martinez; Toni Gabaldon. trimAl: a tool for automated alignment trimming in large-scale phylogenetic analyses. Bioinformatics 2009 25: 1972-1973.\n",
      "execution time:\n",
      "0.386928081512\n",
      "\n",
      "==============================\n",
      "Core Methods section sentence:\n",
      "==============================\n",
      "The alignment(s) MT-CO1@mafftLinsi were trimmed using the program trimAl 1.2rev59 [1].\n",
      "\n",
      "Reference:\n",
      "Salvador Capella-Gutierrez; Jose M. Silla-Martinez; Toni Gabaldon. trimAl: a tool for automated alignment trimming in large-scale phylogenetic analyses. Bioinformatics 2009 25: 1972-1973.\n",
      "\n"
     ]
    }
   ],
   "source": [
    "print pj.used_methods['gt70']"
   ]
  },
  {
   "cell_type": "code",
   "execution_count": 39,
   "metadata": {
    "collapsed": false
   },
   "outputs": [
    {
     "data": {
      "text/plain": [
       "['MT-CO1@mafftLinsi@gt70_trimmed_aln.fasta',\n",
       " 'MT-CO1@mafftLinsi@gt80_trimmed_aln.fasta',\n",
       " 'MT-CO1@mafftLinsi@gt90_trimmed_aln.fasta',\n",
       " 'MT-CO1@mafftLinsi@gt99_trimmed_aln.fasta',\n",
       " 'MT-CO1@mafftLinsi@gt95_trimmed_aln.fasta']"
      ]
     },
     "execution_count": 39,
     "metadata": {},
     "output_type": "execute_result"
    }
   ],
   "source": [
    "pj.write_trimmed_alns(id=['record_id', 'source_organism'], format='fasta')"
   ]
  },
  {
   "cell_type": "markdown",
   "metadata": {},
   "source": [
    "Pickle the project."
   ]
  },
  {
   "cell_type": "code",
   "execution_count": 40,
   "metadata": {
    "collapsed": false
   },
   "outputs": [
    {
     "data": {
      "text/plain": [
       "'my_project.pickle'"
      ]
     },
     "execution_count": 40,
     "metadata": {},
     "output_type": "execute_result"
    }
   ],
   "source": [
    "pickle_pj(pj, 'my_project.pickle')"
   ]
  },
  {
   "cell_type": "markdown",
   "metadata": {},
   "source": [
    "Configure tree building."
   ]
  },
  {
   "cell_type": "code",
   "execution_count": 41,
   "metadata": {
    "collapsed": false
   },
   "outputs": [
    {
     "name": "stdout",
     "output_type": "stream",
     "text": [
      "{'MT-CO1@mafftLinsi@gt70': <<class 'Bio.Align.MultipleSeqAlignment'> instance (74 records of length 639, IUPACAmbiguousDNA()) at 7f72087cf5d0>, 'MT-CO1@mafftLinsi@gt80': <<class 'Bio.Align.MultipleSeqAlignment'> instance (74 records of length 605, IUPACAmbiguousDNA()) at 7f72087780d0>, 'MT-CO1@mafftLinsi@gt90': <<class 'Bio.Align.MultipleSeqAlignment'> instance (74 records of length 536, IUPACAmbiguousDNA()) at 7f7208728950>, 'MT-CO1@mafftLinsi@gt99': <<class 'Bio.Align.MultipleSeqAlignment'> instance (74 records of length 214, IUPACAmbiguousDNA()) at 7f7208767a90>, 'MT-CO1@mafftLinsi@gt95': <<class 'Bio.Align.MultipleSeqAlignment'> instance (74 records of length 508, IUPACAmbiguousDNA()) at 7f720872d210>}\n"
     ]
    }
   ],
   "source": [
    "print pj.trimmed_alignments"
   ]
  },
  {
   "cell_type": "code",
   "execution_count": 42,
   "metadata": {
    "collapsed": false
   },
   "outputs": [
    {
     "name": "stdout",
     "output_type": "stream",
     "text": [
      "raxmlHPC-PTHREADS-SSE3 -f a -m GTRGAMMA -n 333791474418734.69_MT-CO1@mafftLinsi@gt700 -p 209 -s 333791474418734.69_MT-CO1@mafftLinsi@gt70.fasta -T 4 -x 227 -N 100\n",
      "raxmlHPC-PTHREADS-SSE3 -f a -m GTRGAMMA -n 333791474418734.69_MT-CO1@mafftLinsi@gt800 -p 388 -s 333791474418734.69_MT-CO1@mafftLinsi@gt80.fasta -T 4 -x 843 -N 100\n",
      "raxmlHPC-PTHREADS-SSE3 -f a -m GTRGAMMA -n 333791474418734.69_MT-CO1@mafftLinsi@gt900 -p 356 -s 333791474418734.69_MT-CO1@mafftLinsi@gt90.fasta -T 4 -x 353 -N 100\n",
      "raxmlHPC-PTHREADS-SSE3 -f a -m GTRGAMMA -n 333791474418734.69_MT-CO1@mafftLinsi@gt990 -p 848 -s 333791474418734.69_MT-CO1@mafftLinsi@gt99.fasta -T 4 -x 270 -N 100\n",
      "raxmlHPC-PTHREADS-SSE3 -f a -m GTRGAMMA -n 333791474418734.69_MT-CO1@mafftLinsi@gt950 -p 210 -s 333791474418734.69_MT-CO1@mafftLinsi@gt95.fasta -T 4 -x 461 -N 100\n"
     ]
    }
   ],
   "source": [
    "raxml = RaxmlConf(pj, method_name='mafftLinsi-trimal', \n",
    "                 program_name='raxmlHPC-PTHREADS-SSE3',\n",
    "                 keepfiles=True,\n",
    "                 cmd='raxmlHPC-PTHREADS-SSE3',\n",
    "                 preset='fa',\n",
    "                 alns=['MT-CO1@mafftLinsi@gt70','MT-CO1@mafftLinsi@gt80','MT-CO1@mafftLinsi@gt90','MT-CO1@mafftLinsi@gt95','MT-CO1@mafftLinsi@gt99'],\n",
    "                 model='GAMMA',\n",
    "                 threads=4,\n",
    "                 cline_args={'-#': 100})"
   ]
  },
  {
   "cell_type": "markdown",
   "metadata": {},
   "source": [
    "Execute tree building."
   ]
  },
  {
   "cell_type": "code",
   "execution_count": 43,
   "metadata": {
    "collapsed": true
   },
   "outputs": [],
   "source": [
    "pj.tree([raxml])"
   ]
  },
  {
   "cell_type": "code",
   "execution_count": 44,
   "metadata": {
    "collapsed": false
   },
   "outputs": [
    {
     "name": "stdout",
     "output_type": "stream",
     "text": [
      "RaxmlConf named mafftLinsi-trimal with ID 333791474418734.69\n",
      "Alignments: MT-CO1@mafftLinsi@gt70,MT-CO1@mafftLinsi@gt80,MT-CO1@mafftLinsi@gt90,MT-CO1@mafftLinsi@gt99,MT-CO1@mafftLinsi@gt95 \n",
      "Created on: Wed Sep 21 00:45:34 2016\n",
      "Commands:\n",
      "MT-CO1@mafftLinsi@gt70:\n",
      "raxmlHPC-PTHREADS-SSE3 -f a -m GTRGAMMA -n 333791474418734.69_MT-CO1@mafftLinsi@gt700 -p 209 -s 333791474418734.69_MT-CO1@mafftLinsi@gt70.fasta -T 4 -x 227 -N 100\n",
      "MT-CO1@mafftLinsi@gt80:\n",
      "raxmlHPC-PTHREADS-SSE3 -f a -m GTRGAMMA -n 333791474418734.69_MT-CO1@mafftLinsi@gt800 -p 388 -s 333791474418734.69_MT-CO1@mafftLinsi@gt80.fasta -T 4 -x 843 -N 100\n",
      "MT-CO1@mafftLinsi@gt90:\n",
      "raxmlHPC-PTHREADS-SSE3 -f a -m GTRGAMMA -n 333791474418734.69_MT-CO1@mafftLinsi@gt900 -p 356 -s 333791474418734.69_MT-CO1@mafftLinsi@gt90.fasta -T 4 -x 353 -N 100\n",
      "MT-CO1@mafftLinsi@gt99:\n",
      "raxmlHPC-PTHREADS-SSE3 -f a -m GTRGAMMA -n 333791474418734.69_MT-CO1@mafftLinsi@gt990 -p 848 -s 333791474418734.69_MT-CO1@mafftLinsi@gt99.fasta -T 4 -x 270 -N 100\n",
      "MT-CO1@mafftLinsi@gt95:\n",
      "raxmlHPC-PTHREADS-SSE3 -f a -m GTRGAMMA -n 333791474418734.69_MT-CO1@mafftLinsi@gt950 -p 210 -s 333791474418734.69_MT-CO1@mafftLinsi@gt95.fasta -T 4 -x 461 -N 100\n",
      "\n",
      "Environment:\n",
      "Platform: Linux-3.13.0-54-generic-x86_64-with-Ubuntu-14.04-trusty\n",
      " Processor: x86_64\n",
      " Python build: defaultMar 22 2014 22:59:56\n",
      " Python compiler: GCC 4.8.2\n",
      " Python implementation: CPython\n",
      " Python version: 2.7.6\n",
      " ete2 version: 2.2.1072\n",
      " biopython version: 1.68\n",
      " dendropy version: 3.12.2\n",
      " cloud version: 2.8.5\n",
      " reprophylo version 1.3\n",
      " User: chrishah-office\n",
      " Program and version: raxmlHPC-PTHREADS-SSE3RAxML version 8.0.12\n",
      " Program reference: A. Stamatakis: RAxML Version 8: A tool for Phylogenetic Analysis and Post-Analysis of Large Phylogenies. In Bioinformatics\n",
      " 2014.\n",
      "execution time:\n",
      "522.299234867\n",
      "\n",
      "==============================\n",
      "Core Methods section sentence:\n",
      "==============================\n",
      "Phylogenetic trees were reconstructed from the dataset(s) MT-CO1@mafftLinsi@gt70;MT-CO1@mafftLinsi@gt80;MT-CO1@mafftLinsi@gt90;MT-CO1@mafftLinsi@gt99;MT-CO1@mafftLinsi@gt95 using the program raxmlHPC-PTHREADS-SSE3RAxML version 8.0.12 [1].\n",
      "\n",
      "Reference:\n",
      "A. Stamatakis: RAxML Version 8: A tool for Phylogenetic Analysis and Post-Analysis of Large Phylogenies. In Bioinformatics, 2014.\n",
      "\n"
     ]
    }
   ],
   "source": [
    "print pj.used_methods['mafftLinsi-trimal']"
   ]
  },
  {
   "cell_type": "code",
   "execution_count": 45,
   "metadata": {
    "collapsed": false
   },
   "outputs": [
    {
     "data": {
      "text/plain": [
       "'my_project.pickle'"
      ]
     },
     "execution_count": 45,
     "metadata": {},
     "output_type": "execute_result"
    }
   ],
   "source": [
    "pickle_pj(pj, 'my_project.pickle')"
   ]
  },
  {
   "cell_type": "markdown",
   "metadata": {},
   "source": [
    "Annotate ML trees."
   ]
  },
  {
   "cell_type": "markdown",
   "metadata": {},
   "source": [
    "Define outgroups."
   ]
  },
  {
   "cell_type": "code",
   "execution_count": 46,
   "metadata": {
    "collapsed": false
   },
   "outputs": [
    {
     "name": "stdout",
     "output_type": "stream",
     "text": [
      "species\tMT-CO1\r",
      "\r\n",
      "Gammarus balcanicus\t1\r",
      "\r\n",
      "Gammarus duebeni\t1\r",
      "\r\n",
      "Gammarus fossarum\t60\r",
      "\r\n",
      "Gammarus glabratus\t1\r",
      "\r\n",
      "Gammarus pulex\t8\r",
      "\r\n",
      "Gammarus pulex gallicus\t1\r",
      "\r\n",
      "Gammarus roeselii\t1\r",
      "\r\n",
      "Gammarus tigrinus\t1\r",
      "\r\n"
     ]
    }
   ],
   "source": [
    "!cat species.csv"
   ]
  },
  {
   "cell_type": "code",
   "execution_count": 47,
   "metadata": {
    "collapsed": true
   },
   "outputs": [],
   "source": [
    "pj.add_qualifier_from_source('organism')\n"
   ]
  },
  {
   "cell_type": "code",
   "execution_count": 48,
   "metadata": {
    "collapsed": true
   },
   "outputs": [],
   "source": [
    "for species in ['balcanicus', 'duebeni', 'glabratus', 'roeselii', 'tigrinus']:\n",
    "    pj.if_this_then_that(species, 'organism', 'outgroup', 'outgroup',\n",
    "                         mode='part')"
   ]
  },
  {
   "cell_type": "markdown",
   "metadata": {},
   "source": [
    "Specify colors for branchsupport."
   ]
  },
  {
   "cell_type": "code",
   "execution_count": 49,
   "metadata": {
    "collapsed": true
   },
   "outputs": [],
   "source": [
    "supports = {'black': [100,95],\n",
    "            'dimgray': [95,75],\n",
    "            'silver': [75,50]}\n"
   ]
  },
  {
   "cell_type": "markdown",
   "metadata": {},
   "source": [
    "Add a new qualifier 'origin' that contains either 'Sanger' or 'metabarcoding' for the newly generated sequences. Also we add another qualifier 'origin_abr' that contains the symbols * or +, respectively.\n",
    "\n"
   ]
  },
  {
   "cell_type": "code",
   "execution_count": 50,
   "metadata": {
    "collapsed": false
   },
   "outputs": [
    {
     "name": "stdout",
     "output_type": "stream",
     "text": [
      "denovo0\n",
      "origin -> Sanger\n",
      "denovo1\n",
      "origin -> Sanger\n",
      "denovo2\n",
      "origin -> Sanger\n",
      "denovo3\n",
      "origin -> Sanger\n",
      "denovo4\n",
      "origin -> Sanger\n",
      "denovo5\n",
      "origin -> Sanger\n",
      "denovo6\n",
      "origin -> metabarcoding\n",
      "denovo7\n",
      "origin -> metabarcoding\n"
     ]
    }
   ],
   "source": [
    "for r in pj.records:\n",
    "    if 'denovo' in r.id:\n",
    "        ## all the Sanger sequences contain the string 'HCO2198' in the sequence header\n",
    "        if 'HCO2198' in r.description:\n",
    "            print r.id\n",
    "            print \"origin -> Sanger\"\n",
    "            for f in r.features:\n",
    "                f.qualifiers['origin'] = ['Sanger']\n",
    "                f.qualifiers['origin_abr'] = ['*']\n",
    "        ## if they are don't contain 'HCO2198' they originate from metabarcoding\n",
    "        else:\n",
    "            print r.id\n",
    "            print \"origin -> metabarcoding\"\n",
    "            for f in r.features:\n",
    "                f.qualifiers['origin'] = ['metabarcoding']\n",
    "                f.qualifiers['origin_abr'] = ['+']\n",
    "    #if they are not 'denovo' then they were from a previous study\n",
    "    else:\n",
    "#        print r.id\n",
    "#        print \"origin -> previous study\"\n",
    "        for f in r.features:\n",
    "            f.qualifiers['origin'] = ['']\n",
    "            f.qualifiers['origin_abr'] = ['']"
   ]
  },
  {
   "cell_type": "markdown",
   "metadata": {},
   "source": [
    "Annotate tree."
   ]
  },
  {
   "cell_type": "markdown",
   "metadata": {},
   "source": [
    "Format tree to add symbols * or + to leaf name to indicate 'Sanger' or 'metabarcoding' sequences, respectively."
   ]
  },
  {
   "cell_type": "code",
   "execution_count": 51,
   "metadata": {
    "collapsed": false
   },
   "outputs": [],
   "source": [
    "pj.clear_tree_annotations()\n",
    "pj.annotate('.', 'mid', 'mid', \n",
    "            ['source_organism', 'record_id','origin_abr'], \n",
    "            node_support_dict=supports, multifurc=None,\n",
    "            html='./mafftLinsi-trimal-raxml.html')"
   ]
  },
  {
   "cell_type": "code",
   "execution_count": 52,
   "metadata": {
    "collapsed": true
   },
   "outputs": [],
   "source": [
    "!cp *_MT-CO1@mafftLinsi@gt90.png mafftLinsi_trimal-gt90_ML-raxml-symbols.png"
   ]
  },
  {
   "cell_type": "code",
   "execution_count": 53,
   "metadata": {
    "collapsed": true
   },
   "outputs": [],
   "source": [
    "!cp *_MT-CO1@mafftLinsi@gt95.png mafftLinsi_trimal-gt95_ML-raxml-symbols.png"
   ]
  },
  {
   "cell_type": "markdown",
   "metadata": {},
   "source": [
    "Color the tree labels according to origin of the sequences."
   ]
  },
  {
   "cell_type": "code",
   "execution_count": 54,
   "metadata": {
    "collapsed": true
   },
   "outputs": [],
   "source": [
    "leaf_colors = {'Sanger':'red', 'metabarcoding': 'blue'}"
   ]
  },
  {
   "cell_type": "code",
   "execution_count": 55,
   "metadata": {
    "collapsed": false
   },
   "outputs": [],
   "source": [
    "pj.clear_tree_annotations()\n",
    "pj.annotate('.', 'mid', 'mid', \n",
    "            ['source_organism', 'record_id'], \n",
    "            node_support_dict=supports, multifurc=None,\n",
    "            leaf_node_color_meta = 'origin', leaf_label_colors = leaf_colors,\n",
    "            html='./mafftLinsi-trimal-raxml.html')"
   ]
  },
  {
   "cell_type": "code",
   "execution_count": 56,
   "metadata": {
    "collapsed": true
   },
   "outputs": [],
   "source": [
    "!cp *_MT-CO1@mafftLinsi@gt90.png mafftLinsi_trimal-gt90_ML-raxml-colors.png"
   ]
  },
  {
   "cell_type": "code",
   "execution_count": 57,
   "metadata": {
    "collapsed": true
   },
   "outputs": [],
   "source": [
    "!cp *_MT-CO1@mafftLinsi@gt95.png mafftLinsi_trimal-gt95_ML-raxml-colors.png"
   ]
  },
  {
   "cell_type": "markdown",
   "metadata": {},
   "source": [
    "Write out a table in csv text format containing all available metadata for all available sequences."
   ]
  },
  {
   "cell_type": "code",
   "execution_count": 58,
   "metadata": {
    "collapsed": true
   },
   "outputs": [],
   "source": [
    "pj.write('metadata.tsv', format='csv')"
   ]
  },
  {
   "cell_type": "markdown",
   "metadata": {},
   "source": [
    "Pickle the latest version of the project so you can pick it up again later if you need to."
   ]
  },
  {
   "cell_type": "code",
   "execution_count": 60,
   "metadata": {
    "collapsed": false
   },
   "outputs": [
    {
     "data": {
      "text/plain": [
       "'my_project.pickle'"
      ]
     },
     "execution_count": 60,
     "metadata": {},
     "output_type": "execute_result"
    }
   ],
   "source": [
    "pickle_pj(pj, 'my_project.pickle')"
   ]
  },
  {
   "cell_type": "markdown",
   "metadata": {},
   "source": [
    "Crop the initial alignment to the length of the shortest sequence obtained via metabarcoding."
   ]
  },
  {
   "cell_type": "code",
   "execution_count": 62,
   "metadata": {
    "collapsed": false
   },
   "outputs": [
    {
     "name": "stdout",
     "output_type": "stream",
     "text": [
      "{'MT-CO1@mafftLinsi': <<class 'Bio.Align.MultipleSeqAlignment'> instance (74 records of length 675, IUPACProtein()) at 7f7208bdff10>}\n"
     ]
    }
   ],
   "source": [
    "print pj.alignments"
   ]
  },
  {
   "cell_type": "code",
   "execution_count": 63,
   "metadata": {
    "collapsed": false
   },
   "outputs": [
    {
     "name": "stdout",
     "output_type": "stream",
     "text": [
      "returning alignment object MT-CO1@mafftLinsi\n",
      "342 653\n"
     ]
    }
   ],
   "source": [
    "from Bio import AlignIO\n",
    "\n",
    "aln = pj.fa('MT-CO1@mafftLinsi')\n",
    "\n",
    "start = 0\n",
    "end=aln.get_alignment_length()\n",
    "\n",
    "for r in aln:\n",
    "    if \"_\".join(r.id.split(\"_\")[:-1]) in ['denovo6','denovo7']:\n",
    "#        print r.id,r.seq\n",
    "        for i in range(len(r.seq)):            \n",
    "            if r.seq[i] == '-':\n",
    "#                print i,r.seq[i]\n",
    "                if i > start:\n",
    "                    start=i\n",
    "            elif not r.seq[i] == '-':\n",
    "#                print \"BREAK\"\n",
    "                break\n",
    "#        print r.id,r.seq\n",
    "        for i in reversed(range(len(r.seq))):\n",
    "           \n",
    "            if r.seq[i] == '-':\n",
    "#                print i,r.seq[i]\n",
    "                if i < end:\n",
    "                    end=i\n",
    "            elif not r.seq[i] == '-':\n",
    "#                print \"BREAK\"\n",
    "                break\n",
    "                    \n",
    "print start,end\n",
    "\n",
    "mb_clipped_aln = aln[:,start+1:end]\n"
   ]
  },
  {
   "cell_type": "code",
   "execution_count": 64,
   "metadata": {
    "collapsed": false
   },
   "outputs": [],
   "source": [
    "pj.trimmed_alignments['MT-CO1@mafftLinsi@MBclipped'] = mb_clipped_aln"
   ]
  },
  {
   "cell_type": "code",
   "execution_count": 65,
   "metadata": {
    "collapsed": false
   },
   "outputs": [
    {
     "data": {
      "text/plain": [
       "{'MT-CO1@mafftLinsi@MBclipped': <<class 'Bio.Align.MultipleSeqAlignment'> instance (74 records of length 310, SingleLetterAlphabet()) at 7f7208599310>,\n",
       " 'MT-CO1@mafftLinsi@gt70': <<class 'Bio.Align.MultipleSeqAlignment'> instance (74 records of length 639, IUPACAmbiguousDNA()) at 7f72087cf5d0>,\n",
       " 'MT-CO1@mafftLinsi@gt80': <<class 'Bio.Align.MultipleSeqAlignment'> instance (74 records of length 605, IUPACAmbiguousDNA()) at 7f72087780d0>,\n",
       " 'MT-CO1@mafftLinsi@gt90': <<class 'Bio.Align.MultipleSeqAlignment'> instance (74 records of length 536, IUPACAmbiguousDNA()) at 7f7208728950>,\n",
       " 'MT-CO1@mafftLinsi@gt95': <<class 'Bio.Align.MultipleSeqAlignment'> instance (74 records of length 508, IUPACAmbiguousDNA()) at 7f720872d210>,\n",
       " 'MT-CO1@mafftLinsi@gt99': <<class 'Bio.Align.MultipleSeqAlignment'> instance (74 records of length 214, IUPACAmbiguousDNA()) at 7f7208767a90>}"
      ]
     },
     "execution_count": 65,
     "metadata": {},
     "output_type": "execute_result"
    }
   ],
   "source": [
    "pj.trimmed_alignments"
   ]
  },
  {
   "cell_type": "markdown",
   "metadata": {},
   "source": [
    "Configure raxml."
   ]
  },
  {
   "cell_type": "code",
   "execution_count": 66,
   "metadata": {
    "collapsed": false
   },
   "outputs": [
    {
     "name": "stdout",
     "output_type": "stream",
     "text": [
      "raxmlHPC-PTHREADS-SSE3 -f a -m GTRGAMMA -n 278281474446075.77_MT-CO1@mafftLinsi@MBclipped0 -p 648 -s 278281474446075.77_MT-CO1@mafftLinsi@MBclipped.fasta -T 4 -x 147 -N 100\n"
     ]
    }
   ],
   "source": [
    "raxml = RaxmlConf(pj, method_name='mafftLinsi-trimal-MBclipped', \n",
    "                 program_name='raxmlHPC-PTHREADS-SSE3',\n",
    "                 keepfiles=True,\n",
    "                 cmd='raxmlHPC-PTHREADS-SSE3',\n",
    "                 preset='fa',\n",
    "                 alns=['MT-CO1@mafftLinsi@MBclipped'],\n",
    "                 model='GAMMA',\n",
    "                 threads=4,\n",
    "                 cline_args={'-#': 100})"
   ]
  },
  {
   "cell_type": "code",
   "execution_count": 67,
   "metadata": {
    "collapsed": true
   },
   "outputs": [],
   "source": [
    "pj.tree([raxml])"
   ]
  },
  {
   "cell_type": "code",
   "execution_count": 68,
   "metadata": {
    "collapsed": true
   },
   "outputs": [],
   "source": [
    "pj.clear_tree_annotations()\n",
    "pj.annotate('.', 'mid', 'mid', \n",
    "            ['source_organism', 'record_id'], \n",
    "            node_support_dict=supports, multifurc=None,\n",
    "            leaf_node_color_meta = 'origin', leaf_label_colors = leaf_colors,\n",
    "            html='./mafftLinsi-trimal-raxml.html')"
   ]
  },
  {
   "cell_type": "code",
   "execution_count": 69,
   "metadata": {
    "collapsed": true
   },
   "outputs": [],
   "source": [
    "!cp *_MT-CO1@mafftLinsi@MBclipped.png mafftLinsi_trimal_MBclipped_ML-raxml-colors.png"
   ]
  },
  {
   "cell_type": "code",
   "execution_count": 70,
   "metadata": {
    "collapsed": false
   },
   "outputs": [
    {
     "data": {
      "text/plain": [
       "'my_project.pickle'"
      ]
     },
     "execution_count": 70,
     "metadata": {},
     "output_type": "execute_result"
    }
   ],
   "source": [
    "pickle_pj(pj, 'my_project.pickle')"
   ]
  },
  {
   "cell_type": "code",
   "execution_count": null,
   "metadata": {
    "collapsed": true
   },
   "outputs": [],
   "source": []
  }
 ],
 "metadata": {
  "kernelspec": {
   "display_name": "Python 2",
   "language": "python",
   "name": "python2"
  },
  "language_info": {
   "codemirror_mode": {
    "name": "ipython",
    "version": 2
   },
   "file_extension": ".py",
   "mimetype": "text/x-python",
   "name": "python",
   "nbconvert_exporter": "python",
   "pygments_lexer": "ipython2",
   "version": "2.7.6"
  }
 },
 "nbformat": 4,
 "nbformat_minor": 0
}
