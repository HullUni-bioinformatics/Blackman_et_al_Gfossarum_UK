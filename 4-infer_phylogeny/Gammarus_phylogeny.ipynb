{
 "cells": [
  {
   "cell_type": "markdown",
   "metadata": {},
   "source": [
    "### Maximum Likelihood tree inference"
   ]
  },
  {
   "cell_type": "markdown",
   "metadata": {},
   "source": [
    "Sequences generated in for this study are in the following files:\n",
    "\n",
    " - `sequences/Gammarus_sp_SANGER.nr.fasta` #Sanger sequences\n",
    " - `../3-extract_haplotypes/Gammarus_sp_from_metaBEAT.fasta` #haplotyes extracted from metabarcoding data\n",
    " \n",
    "Other Gammarid COI sequences from Weiss et al. 2014 are at:\n",
    " - `../1-download_reference/Gammarus_COI_refseqs.gb`"
   ]
  },
  {
   "cell_type": "markdown",
   "metadata": {},
   "source": [
    "Find the Reprophylo manual [here](https://docs.google.com/document/d/1Q-8B0cvkZw2zMkuP0Af4zZ7FiAvBQPDdGbrLLMgtx_4/edit#)."
   ]
  },
  {
   "cell_type": "markdown",
   "metadata": {},
   "source": [
    "Import reprophylo functions."
   ]
  },
  {
   "cell_type": "code",
   "execution_count": 1,
   "metadata": {
    "collapsed": true
   },
   "outputs": [],
   "source": [
    "from reprophylo import *"
   ]
  },
  {
   "cell_type": "markdown",
   "metadata": {},
   "source": [
    "Specifying the locus/loci to be used in the analyses."
   ]
  },
  {
   "cell_type": "markdown",
   "metadata": {},
   "source": [
    "The Genbank input files may contain sequences for a range of genes (say you have downloaded full mitochondrial genomes), but you are only interested in a particular gene (say COI). \n",
    "\n",
    "So, first we'll want to get an overview of all the genes present in your input Genbank file. Reprophylo has a function for that.\n",
    "\n",
    "The function will write tentative locus descriptions to the file `loci.csv`, which you may modify, e.g. exclude certain genes from the loci file, or synonymize gene names if necessary."
   ]
  },
  {
   "cell_type": "code",
   "execution_count": 2,
   "metadata": {
    "collapsed": false
   },
   "outputs": [
    {
     "name": "stdout",
     "output_type": "stream",
     "text": [
      "\n",
      "There are 2 gene names (or gene product names) detected\n",
      "----------------------------------\n",
      "Gene and count sorted by gene name\n",
      "----------------------------------\n",
      "27 instances of CDS,COI\n",
      "72 instances of CDS,cytochrome oxidase subunit 1\n",
      "-------------------------------\n",
      "Gene and count sorted by counts\n",
      "-------------------------------\n",
      "72 instances of CDS,cytochrome oxidase subunit 1\n",
      "27 instances of CDS,COI\n"
     ]
    }
   ],
   "source": [
    "list_loci_in_genbank('../1-download_references/Gammarus_COI_refseqs.gb', 'loci.csv')"
   ]
  },
  {
   "cell_type": "markdown",
   "metadata": {},
   "source": [
    "The function summarizes all gene names detected in the Genbank file. Reprophylo internally already contains a list of synoyms for common genes and attempts to summarize all unique gene names in the file `loci.csv`. "
   ]
  },
  {
   "cell_type": "code",
   "execution_count": 3,
   "metadata": {
    "collapsed": false
   },
   "outputs": [
    {
     "name": "stdout",
     "output_type": "stream",
     "text": [
      "dna,CDS,MT-CO1,COI\r\n",
      "dna,CDS,cytochrome_oxidase_subunit_1,cytochrome oxidase subunit 1\r\n"
     ]
    }
   ],
   "source": [
    "!cat loci.csv"
   ]
  },
  {
   "cell_type": "markdown",
   "metadata": {},
   "source": [
    "Based on the file `loci.csv` produced by the function we prepare a file `target_loci.csv` that contains all synonyms for the COI gene that appear in the Genbank file. "
   ]
  },
  {
   "cell_type": "code",
   "execution_count": 4,
   "metadata": {
    "collapsed": false
   },
   "outputs": [
    {
     "name": "stdout",
     "output_type": "stream",
     "text": [
      "Overwriting target_loci.csv\n"
     ]
    }
   ],
   "source": [
    "%%file target_loci.csv\n",
    "dna,CDS,MT-CO1,COI,1\n",
    "dna,CDS,cytochrome_oxidase_subunit_1,cytochrome oxidase subunit 1,1"
   ]
  },
  {
   "cell_type": "markdown",
   "metadata": {},
   "source": [
    "Start a new Reprophylo project, specifying/characterizing the loci to be processed via the `loci.csv` file that we have prepared."
   ]
  },
  {
   "cell_type": "code",
   "execution_count": 5,
   "metadata": {
    "collapsed": false
   },
   "outputs": [
    {
     "name": "stderr",
     "output_type": "stream",
     "text": [
      "DEBUG:Cloud:Log file (/root/.picloud/cloud.log) opened\n"
     ]
    }
   ],
   "source": [
    "pj = Project('target_loci.csv', pickle='my_project.pickle', git=False)"
   ]
  },
  {
   "cell_type": "markdown",
   "metadata": {},
   "source": [
    "Check if the Reprophylo project was created correctly."
   ]
  },
  {
   "cell_type": "code",
   "execution_count": 6,
   "metadata": {
    "collapsed": false
   },
   "outputs": [
    {
     "name": "stdout",
     "output_type": "stream",
     "text": [
      "Project object with the loci MT-CO1,\n"
     ]
    }
   ],
   "source": [
    "print pj"
   ]
  },
  {
   "cell_type": "markdown",
   "metadata": {},
   "source": [
    "Reading in the sequences from Genbank format."
   ]
  },
  {
   "cell_type": "code",
   "execution_count": 7,
   "metadata": {
    "collapsed": false
   },
   "outputs": [
    {
     "name": "stderr",
     "output_type": "stream",
     "text": [
      "/home/reprophylo/reprophylo.py:1015: UserWarning: Version control off\n",
      "  warnings.warn('Version control off')\n"
     ]
    }
   ],
   "source": [
    "input_files=['../1-download_references/Gammarus_COI_refseqs.gb']\n",
    "pj.read_embl_genbank(input_files)"
   ]
  },
  {
   "cell_type": "markdown",
   "metadata": {},
   "source": [
    "All sequences are now stored in memory as 'sequence records'. "
   ]
  },
  {
   "cell_type": "markdown",
   "metadata": {},
   "source": [
    "How many sequences does our dataset contain?"
   ]
  },
  {
   "cell_type": "code",
   "execution_count": 8,
   "metadata": {
    "collapsed": false
   },
   "outputs": [
    {
     "name": "stdout",
     "output_type": "stream",
     "text": [
      "99\n"
     ]
    }
   ],
   "source": [
    "print len(pj.records)"
   ]
  },
  {
   "cell_type": "markdown",
   "metadata": {},
   "source": [
    "Reading in the new sequences produced from Sanger sequencing or metabarcoding. They will be added to the sequence records with the id 'denovo'"
   ]
  },
  {
   "cell_type": "code",
   "execution_count": 9,
   "metadata": {
    "collapsed": false
   },
   "outputs": [
    {
     "data": {
      "text/plain": [
       "19"
      ]
     },
     "execution_count": 9,
     "metadata": {},
     "output_type": "execute_result"
    }
   ],
   "source": [
    "denovo_sequence_filenames=['sequences/Gammarus_sp_SANGER.nr.fasta', \n",
    " '../3-extract_haplotypes/Gammarus_sp_from_metaBEAT.fasta']\n",
    "\n",
    "pj.read_denovo(denovo_sequence_filenames, 'dna', format='fasta')"
   ]
  },
  {
   "cell_type": "code",
   "execution_count": 10,
   "metadata": {
    "collapsed": false
   },
   "outputs": [
    {
     "name": "stdout",
     "output_type": "stream",
     "text": [
      "118\n"
     ]
    }
   ],
   "source": [
    "print len(pj.records)"
   ]
  },
  {
   "cell_type": "markdown",
   "metadata": {},
   "source": [
    "We are assuming that the sequences that came from Genbank are already in the correct orientation, but we should check that our custom sequences need to be inverted. "
   ]
  },
  {
   "cell_type": "markdown",
   "metadata": {},
   "source": [
    "We'll use the `blast` program and a few functions to do that."
   ]
  },
  {
   "cell_type": "markdown",
   "metadata": {},
   "source": [
    "`blastn` is installed in the image. Otherwise on ubuntu install like so:"
   ]
  },
  {
   "cell_type": "code",
   "execution_count": 11,
   "metadata": {
    "collapsed": false
   },
   "outputs": [
    {
     "name": "stdout",
     "output_type": "stream",
     "text": [
      "Reading package lists... Done\n",
      "Building dependency tree       \n",
      "Reading state information... Done\n",
      "ncbi-blast+ is already the newest version.\n",
      "0 upgraded, 0 newly installed, 0 to remove and 287 not upgraded.\n"
     ]
    }
   ],
   "source": [
    "!apt-get install ncbi-blast+"
   ]
  },
  {
   "cell_type": "code",
   "execution_count": 12,
   "metadata": {
    "collapsed": false
   },
   "outputs": [],
   "source": [
    "!mkdir temp"
   ]
  },
  {
   "cell_type": "markdown",
   "metadata": {},
   "source": [
    "Write all sequences to file `temp.fasta`."
   ]
  },
  {
   "cell_type": "code",
   "execution_count": 13,
   "metadata": {
    "collapsed": true
   },
   "outputs": [],
   "source": [
    "from Bio import SeqIO\n",
    "\n",
    "output_handle = open(\"temp/test.fasta\", \"w\")\n",
    "SeqIO.write(pj.records, output_handle, \"fasta\")\n",
    "output_handle.close()"
   ]
  },
  {
   "cell_type": "markdown",
   "metadata": {},
   "source": [
    "Convert `temp.fasta` to blast database."
   ]
  },
  {
   "cell_type": "code",
   "execution_count": 14,
   "metadata": {
    "collapsed": false
   },
   "outputs": [
    {
     "name": "stdout",
     "output_type": "stream",
     "text": [
      "\r\n",
      "\r\n",
      "Building a new DB, current time: 01/13/2017 09:32:29\r\n",
      "New DB name:   temp/all\r\n",
      "New DB title:  temp/test.fasta\r\n",
      "Sequence type: Nucleotide\r\n",
      "Keep Linkouts: T\r\n",
      "Keep MBits: T\r\n",
      "Maximum file size: 1000000000B\r\n",
      "Adding sequences from FASTA; added 118 sequences in 0.00350595 seconds.\r\n"
     ]
    }
   ],
   "source": [
    "!makeblastdb -in temp/test.fasta -dbtype nucl -out temp/all"
   ]
  },
  {
   "cell_type": "markdown",
   "metadata": {},
   "source": [
    "Perform blast search."
   ]
  },
  {
   "cell_type": "code",
   "execution_count": 15,
   "metadata": {
    "collapsed": false
   },
   "outputs": [],
   "source": [
    "!blastn -db temp/all -query temp/test.fasta -outfmt '6 qseqid sseqid qstart qend sstart send' -out temp/test.blastn.out"
   ]
  },
  {
   "cell_type": "markdown",
   "metadata": {},
   "source": [
    "Identify any denovo sequences that match with non-denovo sequences in reverse complement."
   ]
  },
  {
   "cell_type": "code",
   "execution_count": 16,
   "metadata": {
    "collapsed": false
   },
   "outputs": [
    {
     "name": "stdout",
     "output_type": "stream",
     "text": [
      "Records to invert:\n",
      "['denovo0', 'denovo1', 'denovo2', 'denovo3', 'denovo4']\n"
     ]
    }
   ],
   "source": [
    "blastout=open('temp/test.blastn.out')\n",
    "\n",
    "to_invert=[]\n",
    "for line in blastout:\n",
    "    col=line.strip().split(\"\\t\")\n",
    "    if 'denovo' in col[0]:\n",
    "#        print col\n",
    "        if (int(col[-2]) > int(col[-1])) and (not 'denovo' in col[1]):\n",
    "#            print \"## invert ##\"\n",
    "            to_invert.append(col[0])\n",
    "        \n",
    "to_invert=list(set(to_invert))\n",
    "print \"Records to invert:\\n%s\" %to_invert\n",
    "\n",
    "blastout.close()"
   ]
  },
  {
   "cell_type": "markdown",
   "metadata": {},
   "source": [
    "Reverse complement records."
   ]
  },
  {
   "cell_type": "code",
   "execution_count": 17,
   "metadata": {
    "collapsed": false
   },
   "outputs": [
    {
     "name": "stdout",
     "output_type": "stream",
     "text": [
      "There are records to invert\n",
      "\n",
      "\t-> denovo0\n",
      "\t-> denovo1\n",
      "\t-> denovo2\n",
      "\t-> denovo3\n",
      "\t-> denovo4\n"
     ]
    }
   ],
   "source": [
    "if to_invert:\n",
    "    print \"There are records to invert\\n\"\n",
    "    for r in pj.records:\n",
    "        if r.id in to_invert:\n",
    "            print \"\\t-> %s\" %r.id\n",
    "            r.seq = r.seq.reverse_complement()\n",
    "            to_invert.remove(r.id)\n",
    "else:\n",
    "    print \"Nothing to invert\\n\""
   ]
  },
  {
   "cell_type": "markdown",
   "metadata": {},
   "source": [
    "Remove temporal directory."
   ]
  },
  {
   "cell_type": "code",
   "execution_count": 18,
   "metadata": {
    "collapsed": true
   },
   "outputs": [],
   "source": [
    "!rm -rf temp"
   ]
  },
  {
   "cell_type": "markdown",
   "metadata": {},
   "source": [
    "Now, lets print a summary of the number of sequences per species."
   ]
  },
  {
   "cell_type": "code",
   "execution_count": 19,
   "metadata": {
    "collapsed": false
   },
   "outputs": [],
   "source": [
    "pj.species_vs_loci('species.csv')"
   ]
  },
  {
   "cell_type": "code",
   "execution_count": 20,
   "metadata": {
    "collapsed": false
   },
   "outputs": [
    {
     "name": "stdout",
     "output_type": "stream",
     "text": [
      "species\tMT-CO1\r",
      "\r\n",
      "Gammarus balcanicus\t1\r",
      "\r\n",
      "Gammarus cf. fossarum A DCC-2015\t3\r",
      "\r\n",
      "Gammarus cf. fossarum B DCC-2015\t2\r",
      "\r\n",
      "Gammarus cf. fossarum C DCC-2015\t1\r",
      "\r\n",
      "Gammarus cf. fossarum D DCC-2015\t5\r",
      "\r\n",
      "Gammarus cf. fossarum E DCC-2015\t13\r",
      "\r\n",
      "Gammarus cf. fossarum F DCC-2015\t5\r",
      "\r\n",
      "Gammarus cf. fossarum G DCC-2015\t7\r",
      "\r\n",
      "Gammarus cf. fossarum H DCC-2015\t11\r",
      "\r\n",
      "Gammarus cf. fossarum I DCC-2015\t3\r",
      "\r\n",
      "Gammarus cf. fossarum J DCC-2015\t1\r",
      "\r\n",
      "Gammarus cf. fossarum K DCC-2015\t4\r",
      "\r\n",
      "Gammarus cf. fossarum L DCC-2015\t3\r",
      "\r\n",
      "Gammarus cf. fossarum M DCC-2015\t5\r",
      "\r\n",
      "Gammarus cf. fossarum N DCC-2015\t3\r",
      "\r\n",
      "Gammarus cf. fossarum O DCC-2015\t3\r",
      "\r\n",
      "Gammarus cf. fossarum P DCC-2015\t3\r",
      "\r\n",
      "Gammarus fossarum\t17\r",
      "\r\n",
      "Gammarus glabratus\t1\r",
      "\r\n",
      "Gammarus pulex\t6\r",
      "\r\n",
      "Gammarus roeselii\t1\r",
      "\r\n",
      "Gammarus tigrinus\t1\r",
      "\r\n",
      "undef\t0\r",
      "\r\n"
     ]
    }
   ],
   "source": [
    "!cat species.csv"
   ]
  },
  {
   "cell_type": "markdown",
   "metadata": {},
   "source": [
    "Some sequences seem to be missing. This is because the `species_by_loci` function only considers sequence records that are identified with the correct gene identifier. We need to add this for our custom sequences so that reprophylo understands that these sequences are to be analysed together with the COI sequences that we have loaded from the Genbank data."
   ]
  },
  {
   "cell_type": "code",
   "execution_count": 21,
   "metadata": {
    "collapsed": true
   },
   "outputs": [],
   "source": [
    "for r in pj.records:\n",
    "    if 'denovo' in r.id:\n",
    "        pj.add_feature_to_record(r.id, 'CDS', qualifiers={'gene': 'MT-CO1'})"
   ]
  },
  {
   "cell_type": "code",
   "execution_count": 22,
   "metadata": {
    "collapsed": true
   },
   "outputs": [],
   "source": [
    "pj.species_vs_loci('species.csv')"
   ]
  },
  {
   "cell_type": "code",
   "execution_count": 23,
   "metadata": {
    "collapsed": false
   },
   "outputs": [
    {
     "name": "stdout",
     "output_type": "stream",
     "text": [
      "species\tMT-CO1\r",
      "\r\n",
      "Gammarus balcanicus\t1\r",
      "\r\n",
      "Gammarus cf. fossarum A DCC-2015\t3\r",
      "\r\n",
      "Gammarus cf. fossarum B DCC-2015\t2\r",
      "\r\n",
      "Gammarus cf. fossarum C DCC-2015\t1\r",
      "\r\n",
      "Gammarus cf. fossarum D DCC-2015\t5\r",
      "\r\n",
      "Gammarus cf. fossarum E DCC-2015\t13\r",
      "\r\n",
      "Gammarus cf. fossarum F DCC-2015\t5\r",
      "\r\n",
      "Gammarus cf. fossarum G DCC-2015\t7\r",
      "\r\n",
      "Gammarus cf. fossarum H DCC-2015\t11\r",
      "\r\n",
      "Gammarus cf. fossarum I DCC-2015\t3\r",
      "\r\n",
      "Gammarus cf. fossarum J DCC-2015\t1\r",
      "\r\n",
      "Gammarus cf. fossarum K DCC-2015\t4\r",
      "\r\n",
      "Gammarus cf. fossarum L DCC-2015\t3\r",
      "\r\n",
      "Gammarus cf. fossarum M DCC-2015\t5\r",
      "\r\n",
      "Gammarus cf. fossarum N DCC-2015\t3\r",
      "\r\n",
      "Gammarus cf. fossarum O DCC-2015\t3\r",
      "\r\n",
      "Gammarus cf. fossarum P DCC-2015\t3\r",
      "\r\n",
      "Gammarus fossarum\t17\r",
      "\r\n",
      "Gammarus glabratus\t1\r",
      "\r\n",
      "Gammarus pulex\t6\r",
      "\r\n",
      "Gammarus roeselii\t1\r",
      "\r\n",
      "Gammarus tigrinus\t1\r",
      "\r\n",
      "undef\t19\r",
      "\r\n"
     ]
    }
   ],
   "source": [
    "!cat species.csv"
   ]
  },
  {
   "cell_type": "markdown",
   "metadata": {},
   "source": [
    "Better, but our custom sequences are now assigned to an undefied species. We'll need to add the species to the record. We will look in the original header of the sequence for the species name and add the appropriate organism name to the sequence record."
   ]
  },
  {
   "cell_type": "code",
   "execution_count": 24,
   "metadata": {
    "collapsed": false
   },
   "outputs": [],
   "source": [
    "for r in pj.records:\n",
    "    source=r.features[0]\n",
    "    if 'denovo' in r.id:\n",
    "        if 'pulex' in source.qualifiers['original_id'][0]:\n",
    "            r.features[0].qualifiers['organism'] = ['Gammarus pulex']\n",
    "        elif 'fossarum' in source.qualifiers['original_id'][0]:\n",
    "            r.features[0].qualifiers['organism'] = ['Gammarus fossarum']\n"
   ]
  },
  {
   "cell_type": "code",
   "execution_count": 25,
   "metadata": {
    "collapsed": true
   },
   "outputs": [],
   "source": [
    "pj.species_vs_loci('species.csv')"
   ]
  },
  {
   "cell_type": "code",
   "execution_count": 26,
   "metadata": {
    "collapsed": false
   },
   "outputs": [
    {
     "name": "stdout",
     "output_type": "stream",
     "text": [
      "species\tMT-CO1\r",
      "\r\n",
      "Gammarus balcanicus\t1\r",
      "\r\n",
      "Gammarus cf. fossarum A DCC-2015\t3\r",
      "\r\n",
      "Gammarus cf. fossarum B DCC-2015\t2\r",
      "\r\n",
      "Gammarus cf. fossarum C DCC-2015\t1\r",
      "\r\n",
      "Gammarus cf. fossarum D DCC-2015\t5\r",
      "\r\n",
      "Gammarus cf. fossarum E DCC-2015\t13\r",
      "\r\n",
      "Gammarus cf. fossarum F DCC-2015\t5\r",
      "\r\n",
      "Gammarus cf. fossarum G DCC-2015\t7\r",
      "\r\n",
      "Gammarus cf. fossarum H DCC-2015\t11\r",
      "\r\n",
      "Gammarus cf. fossarum I DCC-2015\t3\r",
      "\r\n",
      "Gammarus cf. fossarum J DCC-2015\t1\r",
      "\r\n",
      "Gammarus cf. fossarum K DCC-2015\t4\r",
      "\r\n",
      "Gammarus cf. fossarum L DCC-2015\t3\r",
      "\r\n",
      "Gammarus cf. fossarum M DCC-2015\t5\r",
      "\r\n",
      "Gammarus cf. fossarum N DCC-2015\t3\r",
      "\r\n",
      "Gammarus cf. fossarum O DCC-2015\t3\r",
      "\r\n",
      "Gammarus cf. fossarum P DCC-2015\t3\r",
      "\r\n",
      "Gammarus fossarum\t26\r",
      "\r\n",
      "Gammarus glabratus\t1\r",
      "\r\n",
      "Gammarus pulex\t16\r",
      "\r\n",
      "Gammarus roeselii\t1\r",
      "\r\n",
      "Gammarus tigrinus\t1\r",
      "\r\n"
     ]
    }
   ],
   "source": [
    "!cat species.csv"
   ]
  },
  {
   "cell_type": "markdown",
   "metadata": {},
   "source": [
    "_Gammarus fossarum_ is considered a complex of cryptic species. To make our lives easier for the analyses we'll correct the tentative species names _Gammarus cf. fossarum_ as used by Copilas-Ciocianu and Petrusek 2015 to simply _G. fossarum_."
   ]
  },
  {
   "cell_type": "code",
   "execution_count": 27,
   "metadata": {
    "collapsed": false
   },
   "outputs": [],
   "source": [
    "for r in pj.records:\n",
    "    source=r.features[0]\n",
    "    if 'Gammarus cf. fossarum' in source.qualifiers['organism'][0]:\n",
    "        #keep the original tentative identification in separate qualifier\n",
    "        source.qualifiers['tentative'] = [source.qualifiers['organism'][0]]\n",
    "        #rename organism to simply Gammarus fossarum\n",
    "        source.qualifiers['organism'] = ['Gammarus fossarum']"
   ]
  },
  {
   "cell_type": "code",
   "execution_count": 28,
   "metadata": {
    "collapsed": true
   },
   "outputs": [],
   "source": [
    "pj.species_vs_loci('species.csv')"
   ]
  },
  {
   "cell_type": "code",
   "execution_count": 29,
   "metadata": {
    "collapsed": false
   },
   "outputs": [
    {
     "name": "stdout",
     "output_type": "stream",
     "text": [
      "species\tMT-CO1\r",
      "\r\n",
      "Gammarus balcanicus\t1\r",
      "\r\n",
      "Gammarus fossarum\t98\r",
      "\r\n",
      "Gammarus glabratus\t1\r",
      "\r\n",
      "Gammarus pulex\t16\r",
      "\r\n",
      "Gammarus roeselii\t1\r",
      "\r\n",
      "Gammarus tigrinus\t1\r",
      "\r\n"
     ]
    }
   ],
   "source": [
    "!cat species.csv"
   ]
  },
  {
   "cell_type": "markdown",
   "metadata": {},
   "source": [
    "There! Now, let's produce some stats for the sequences in our dataset."
   ]
  },
  {
   "cell_type": "code",
   "execution_count": 31,
   "metadata": {
    "collapsed": true
   },
   "outputs": [],
   "source": [
    "pj.extract_by_locus()"
   ]
  },
  {
   "cell_type": "code",
   "execution_count": 32,
   "metadata": {
    "collapsed": false,
    "scrolled": true
   },
   "outputs": [
    {
     "name": "stdout",
     "output_type": "stream",
     "text": [
      "Distribution Of Sequence Lengths\n",
      "Distribution Of Sequence Statistic \"Gc_Content\"\n"
     ]
    },
    {
     "name": "stderr",
     "output_type": "stream",
     "text": [
      "/usr/lib/pymodules/python2.7/matplotlib/figure.py:371: UserWarning: matplotlib is currently using a non-GUI backend, so cannot show the figure\n",
      "  \"matplotlib is currently using a non-GUI backend, \"\n"
     ]
    },
    {
     "data": {
      "image/png": "[encoded data removed]",
      "text/plain": [
       "<matplotlib.figure.Figure at 0x7feb58f22190>"
      ]
     },
     "metadata": {},
     "output_type": "display_data"
    },
    {
     "data": {
      "image/png": "[encoded data removed]",
      "text/plain": [
       "<matplotlib.figure.Figure at 0x7feb58e17390>"
      ]
     },
     "metadata": {},
     "output_type": "display_data"
    }
   ],
   "source": [
    "%matplotlib inline\n",
    "pj.report_seq_stats()\n"
   ]
  },
  {
   "cell_type": "markdown",
   "metadata": {},
   "source": [
    "The sequences in the dataset are of different lengths. Sequences downloaded from Genbank (generated by Hou et al. 2007; Hou et al. 2011; Weiss et al. 2014; Copilas-Ciocianu & Petrusek 2015) are mostly full length COI barcoding fragments (Folmer et al. 1994). Sanger sequences produced by the current were also based on the full length COI barcode. Sequences obtained via eDNA metabarcoding approach are shorter (~313bp)."
   ]
  },
  {
   "cell_type": "markdown",
   "metadata": {},
   "source": [
    "We will generate three separate alignments.\n",
    " - 'ALL': All sequences from Genbank and current study (Sanger Folmer- and metabarcoding mini-barcode fragment)\n",
    " - 'FOLMER': Sequences from Genbank and current study Sanger Folmer fragments only\n",
    " - 'MINIBC': Sequences from Genbank and current study metabarcoding mini-barcode fragments only"
   ]
  },
  {
   "cell_type": "markdown",
   "metadata": {},
   "source": [
    "Configure and run sequence alignment 'ALL' with mafft."
   ]
  },
  {
   "cell_type": "code",
   "execution_count": 33,
   "metadata": {
    "collapsed": false
   },
   "outputs": [
    {
     "name": "stdout",
     "output_type": "stream",
     "text": [
      "mafft --localpair --maxiterate 1000 287521484299993.59_MT-CO1.fasta\n"
     ]
    }
   ],
   "source": [
    "mafft_linsi = AlnConf(pj, \n",
    "                      method_name='ALL', \n",
    "                      CDSAlign=False, \n",
    "                      program_name='mafft', \n",
    "                      cmd='mafft', \n",
    "                      loci=['MT-CO1'], \n",
    "                      cline_args={'localpair': True, 'maxiterate': 1000})"
   ]
  },
  {
   "cell_type": "markdown",
   "metadata": {},
   "source": [
    "Execute sequence alignment process."
   ]
  },
  {
   "cell_type": "code",
   "execution_count": 34,
   "metadata": {
    "collapsed": true
   },
   "outputs": [],
   "source": [
    "pj.align([mafft_linsi])"
   ]
  },
  {
   "cell_type": "markdown",
   "metadata": {},
   "source": [
    "Display information about the alignment method."
   ]
  },
  {
   "cell_type": "code",
   "execution_count": 35,
   "metadata": {
    "collapsed": false
   },
   "outputs": [
    {
     "name": "stdout",
     "output_type": "stream",
     "text": [
      "AlnConf named ALL with ID 287521484299993.59\n",
      "Loci: MT-CO1 \n",
      "Created on: Fri Jan 13 09:33:13 2017\n",
      "Commands:\n",
      "MT-CO1: mafft --localpair --maxiterate 1000 287521484299993.59_MT-CO1.fasta\n",
      "\n",
      "Environment:\n",
      "Platform: Linux-4.4.0-53-generic-x86_64-with-Ubuntu-14.04-trusty\n",
      " Processor: x86_64\n",
      " Python build: defaultMar 22 2014 22:59:56\n",
      " Python compiler: GCC 4.8.2\n",
      " Python implementation: CPython\n",
      " Python version: 2.7.6\n",
      " ete2 version: 2.2.1072\n",
      " biopython version: 1.68\n",
      " dendropy version: 3.12.2\n",
      " cloud version: 2.8.5\n",
      " reprophylo version 1.3\n",
      " User: chrishah-OptiPlex-7040\n",
      " Program and version: MAFFT v7.123b\n",
      " Program reference:Katoh\n",
      " Standley 2013 (Molecular Biology and Evolution 30:772-780) MAFFT multiple sequence alignment software version 7: improvements in performance and usability.\n",
      "execution time:\n",
      "17.9483218193\n",
      "\n",
      "\n",
      "==============================\n",
      "Core Methods section sentence:\n",
      "==============================\n",
      "The dataset(s) MT-CO1 were aligned using the program MAFFT v7.123b [1].\n",
      "\n",
      "Reference:\n",
      "Katoh, Standley 2013 (Molecular Biology and Evolution 30:772-780) MAFFT multiple sequence alignment software version 7: improvements in performance and usability.\n",
      "\n"
     ]
    }
   ],
   "source": [
    "print pj.used_methods['ALL']"
   ]
  },
  {
   "cell_type": "markdown",
   "metadata": {},
   "source": [
    "Produce the alignemnt 'FOLMER', i.e. remove all minibarcode sequences. These have the ids >= 'denovo5'."
   ]
  },
  {
   "cell_type": "code",
   "execution_count": 48,
   "metadata": {
    "collapsed": false
   },
   "outputs": [
    {
     "name": "stdout",
     "output_type": "stream",
     "text": [
      "denovo0 R_Taff_G.pulex_HCO2198\n",
      "denovo1 Little_Stour_G_fossarum_2_HCO2198\n",
      "denovo2 R_Taff_G_fossarum_1_HCO2198\n",
      "denovo3 R_Taff_G_fossarum_2_HCO2198\n",
      "denovo4 Little_Stour_G_fossarum_1_HCO2198\n",
      "denovo5 Gammarus_pulex|Gp_UK_Mb01\n",
      "denovo6 Gammarus_pulex|Gp_UK_Mb02\n",
      "denovo7 Gammarus_pulex|Gp_UK_Mb03\n",
      "denovo8 Gammarus_pulex|Gp_UK_Mb04\n",
      "denovo9 Gammarus_pulex|Gp_UK_Mb05\n",
      "denovo10 Gammarus_pulex|Gp_UK_Mb06\n",
      "denovo11 Gammarus_pulex|Gp_UK_Mb07\n",
      "denovo12 Gammarus_pulex|Gp_UK_Mb08\n",
      "denovo13 Gammarus_pulex|Gp_UK_Mb09\n",
      "denovo14 Gammarus_fossarum|Gf_UK_Mb01\n",
      "denovo15 Gammarus_fossarum|Gf_UK_Mb02\n",
      "denovo16 Gammarus_fossarum|Gf_UK_Mb03\n",
      "denovo17 Gammarus_fossarum|Gf_UK_Mb04\n",
      "denovo18 Gammarus_fossarum|Gf_UK_Mb05\n"
     ]
    }
   ],
   "source": [
    "for r in pj.records:\n",
    "    if 'denovo' in r.id:\n",
    "        print r.id,r.description"
   ]
  },
  {
   "cell_type": "code",
   "execution_count": 49,
   "metadata": {
    "collapsed": false
   },
   "outputs": [],
   "source": [
    "#Empty sequence object\n",
    "seqobject = []\n",
    "\n",
    "#Add all records except the record ids >= 'denovo6' to new object\n",
    "for r in pj.records_by_locus['MT-CO1']:\n",
    "    if 'denovo' in r.id:\n",
    "        denovoID=int(r.id.replace('denovo','').replace('_f0',''))\n",
    "#        print denovoID\n",
    "        if denovoID >= 5:\n",
    "            pass\n",
    "        else:\n",
    "            seqobject.append(r)\n",
    "    else:\n",
    "        seqobject.append(r)\n",
    "\n",
    "#Replace original object with new \n",
    "pj.records_by_locus['MT-CO1'] = seqobject"
   ]
  },
  {
   "cell_type": "markdown",
   "metadata": {},
   "source": [
    "Configure and run alignment."
   ]
  },
  {
   "cell_type": "code",
   "execution_count": 50,
   "metadata": {
    "collapsed": false
   },
   "outputs": [
    {
     "name": "stdout",
     "output_type": "stream",
     "text": [
      "mafft --localpair --maxiterate 1000 647731484300507.53_MT-CO1.fasta\n"
     ]
    }
   ],
   "source": [
    "mafft_linsi = AlnConf(pj, \n",
    "                      method_name='FOLMER', \n",
    "                      CDSAlign=False, \n",
    "                      program_name='mafft', \n",
    "                      cmd='mafft', \n",
    "                      loci=['MT-CO1'], \n",
    "                      cline_args={'localpair': True, 'maxiterate': 1000})"
   ]
  },
  {
   "cell_type": "code",
   "execution_count": 51,
   "metadata": {
    "collapsed": true
   },
   "outputs": [],
   "source": [
    "pj.align([mafft_linsi])"
   ]
  },
  {
   "cell_type": "markdown",
   "metadata": {},
   "source": [
    "Restore original alignemnt object."
   ]
  },
  {
   "cell_type": "code",
   "execution_count": 60,
   "metadata": {
    "collapsed": true
   },
   "outputs": [],
   "source": [
    "pj.extract_by_locus()"
   ]
  },
  {
   "cell_type": "markdown",
   "metadata": {},
   "source": [
    "Produce the alignemnt 'MINIBC', i.e. remove all minibarcode sequences. These have ids <= 'denovo4'."
   ]
  },
  {
   "cell_type": "code",
   "execution_count": 61,
   "metadata": {
    "collapsed": false
   },
   "outputs": [],
   "source": [
    "#Empty sequence object\n",
    "seqobject = []\n",
    "\n",
    "#Add all records except the record ids >= 'denovo6' to new object\n",
    "for r in pj.records_by_locus['MT-CO1']:\n",
    "    if 'denovo' in r.id:\n",
    "        denovoID=int(r.id.replace('denovo','').replace('_f0',''))\n",
    "#        print denovoID\n",
    "        if denovoID <= 4:\n",
    "            pass\n",
    "        else:\n",
    "            seqobject.append(r)\n",
    "    else:\n",
    "        seqobject.append(r)\n",
    "\n",
    "#Replace original object with new \n",
    "pj.records_by_locus['MT-CO1'] = seqobject"
   ]
  },
  {
   "cell_type": "markdown",
   "metadata": {},
   "source": [
    "Configure and run alignment."
   ]
  },
  {
   "cell_type": "code",
   "execution_count": 62,
   "metadata": {
    "collapsed": false
   },
   "outputs": [
    {
     "name": "stdout",
     "output_type": "stream",
     "text": [
      "mafft --localpair --maxiterate 1000 276191484300646.68_MT-CO1.fasta\n"
     ]
    }
   ],
   "source": [
    "mafft_linsi = AlnConf(pj, \n",
    "                      method_name='MINIBC', \n",
    "                      CDSAlign=False, \n",
    "                      program_name='mafft', \n",
    "                      cmd='mafft', \n",
    "                      loci=['MT-CO1'], \n",
    "                      cline_args={'localpair': True, 'maxiterate': 1000})"
   ]
  },
  {
   "cell_type": "code",
   "execution_count": 63,
   "metadata": {
    "collapsed": true
   },
   "outputs": [],
   "source": [
    "pj.align([mafft_linsi])"
   ]
  },
  {
   "cell_type": "markdown",
   "metadata": {},
   "source": [
    "Restore original alignment object."
   ]
  },
  {
   "cell_type": "code",
   "execution_count": 64,
   "metadata": {
    "collapsed": true
   },
   "outputs": [],
   "source": [
    "pj.extract_by_locus()"
   ]
  },
  {
   "cell_type": "markdown",
   "metadata": {},
   "source": [
    "Write alignments to files for checking in e.g. `Aliview`."
   ]
  },
  {
   "cell_type": "code",
   "execution_count": 65,
   "metadata": {
    "collapsed": false
   },
   "outputs": [
    {
     "data": {
      "text/plain": [
       "['MT-CO1@MINIBC_aln.fasta', 'MT-CO1@FOLMER_aln.fasta', 'MT-CO1@ALL_aln.fasta']"
      ]
     },
     "execution_count": 65,
     "metadata": {},
     "output_type": "execute_result"
    }
   ],
   "source": [
    "pj.write_alns(id=['record_id', 'source_organism'], format='fasta')"
   ]
  },
  {
   "cell_type": "markdown",
   "metadata": {},
   "source": [
    "Trim each of the three alignemnts to remove any positions that are not covered by at least 70, 80, and 90% of the records."
   ]
  },
  {
   "cell_type": "code",
   "execution_count": 66,
   "metadata": {
    "collapsed": false
   },
   "outputs": [
    {
     "name": "stdout",
     "output_type": "stream",
     "text": [
      "trimal -in 178771484300685.65_MT-CO1@MINIBC.fasta -gt 0.7\n",
      "trimal -in 178771484300685.65_MT-CO1@FOLMER.fasta -gt 0.7\n",
      "trimal -in 178771484300685.65_MT-CO1@ALL.fasta -gt 0.7\n"
     ]
    }
   ],
   "source": [
    "gt70trimal = TrimalConf(pj, \n",
    "                        method_name='gt70', \n",
    "                        program_name='trimal', \n",
    "                        cmd='trimal', \n",
    "                        alns=['MT-CO1@ALL', 'MT-CO1@FOLMER', 'MT-CO1@MINIBC'], \n",
    "                        trimal_commands={'gt': 0.7})"
   ]
  },
  {
   "cell_type": "code",
   "execution_count": 67,
   "metadata": {
    "collapsed": false
   },
   "outputs": [
    {
     "name": "stdout",
     "output_type": "stream",
     "text": [
      "trimal -in 658571484300688.13_MT-CO1@MINIBC.fasta -gt 0.8\n",
      "trimal -in 658571484300688.13_MT-CO1@FOLMER.fasta -gt 0.8\n",
      "trimal -in 658571484300688.13_MT-CO1@ALL.fasta -gt 0.8\n"
     ]
    }
   ],
   "source": [
    "gt80trimal = TrimalConf(pj, \n",
    "                        method_name='gt80', \n",
    "                        program_name='trimal', \n",
    "                        cmd='trimal', \n",
    "                        alns=['MT-CO1@ALL', 'MT-CO1@FOLMER', 'MT-CO1@MINIBC'], \n",
    "                        trimal_commands={'gt': 0.8})"
   ]
  },
  {
   "cell_type": "code",
   "execution_count": 68,
   "metadata": {
    "collapsed": false
   },
   "outputs": [
    {
     "name": "stdout",
     "output_type": "stream",
     "text": [
      "trimal -in 332591484300688.78_MT-CO1@MINIBC.fasta -gt 0.9\n",
      "trimal -in 332591484300688.78_MT-CO1@FOLMER.fasta -gt 0.9\n",
      "trimal -in 332591484300688.78_MT-CO1@ALL.fasta -gt 0.9\n"
     ]
    }
   ],
   "source": [
    "gt90trimal = TrimalConf(pj, \n",
    "                        method_name='gt90', \n",
    "                        program_name='trimal', \n",
    "                        cmd='trimal', \n",
    "                        alns=['MT-CO1@ALL', 'MT-CO1@FOLMER', 'MT-CO1@MINIBC'], \n",
    "                        trimal_commands={'gt': 0.9})"
   ]
  },
  {
   "cell_type": "code",
   "execution_count": 69,
   "metadata": {
    "collapsed": false
   },
   "outputs": [],
   "source": [
    "pj.trim([gt70trimal,gt80trimal,gt90trimal])"
   ]
  },
  {
   "cell_type": "code",
   "execution_count": 70,
   "metadata": {
    "collapsed": false
   },
   "outputs": [
    {
     "name": "stdout",
     "output_type": "stream",
     "text": [
      "TrimalConf named gt90 with ID 332591484300688.78\n",
      "Alignments: MT-CO1@MINIBC,MT-CO1@FOLMER,MT-CO1@ALL \n",
      "Created on: Fri Jan 13 09:44:48 2017\n",
      "Commands:\n",
      "MT-CO1@FOLMER@gt90: trimal -in 332591484300688.78_MT-CO1@FOLMER.fasta -gt 0.9\n",
      "MT-CO1@ALL@gt90: trimal -in 332591484300688.78_MT-CO1@ALL.fasta -gt 0.9\n",
      "MT-CO1@MINIBC@gt90: trimal -in 332591484300688.78_MT-CO1@MINIBC.fasta -gt 0.9\n",
      "\n",
      "Environment:Platform: Linux-4.4.0-53-generic-x86_64-with-Ubuntu-14.04-trusty\n",
      " Processor: x86_64\n",
      " Python build: defaultMar 22 2014 22:59:56\n",
      " Python compiler: GCC 4.8.2\n",
      " Python implementation: CPython\n",
      " Python version: 2.7.6\n",
      " ete2 version: 2.2.1072\n",
      " biopython version: 1.68\n",
      " dendropy version: 3.12.2\n",
      " cloud version: 2.8.5\n",
      " reprophylo version 1.3\n",
      " User: chrishah-OptiPlex-7040\n",
      " Program and version: trimAl 1.2rev59\n",
      " Program reference: Salvador Capella-Gutierrez; Jose M. Silla-Martinez; Toni Gabaldon. trimAl: a tool for automated alignment trimming in large-scale phylogenetic analyses. Bioinformatics 2009 25: 1972-1973.\n",
      "execution time:\n",
      "0.764511108398\n",
      "\n",
      "==============================\n",
      "Core Methods section sentence:\n",
      "==============================\n",
      "The alignment(s) MT-CO1@MINIBC;MT-CO1@FOLMER;MT-CO1@ALL were trimmed using the program trimAl 1.2rev59 [1].\n",
      "\n",
      "Reference:\n",
      "Salvador Capella-Gutierrez; Jose M. Silla-Martinez; Toni Gabaldon. trimAl: a tool for automated alignment trimming in large-scale phylogenetic analyses. Bioinformatics 2009 25: 1972-1973.\n",
      "\n"
     ]
    }
   ],
   "source": [
    "print pj.used_methods['gt90']"
   ]
  },
  {
   "cell_type": "code",
   "execution_count": 71,
   "metadata": {
    "collapsed": false
   },
   "outputs": [
    {
     "data": {
      "text/plain": [
       "['MT-CO1@MINIBC@gt80_trimmed_aln.fasta',\n",
       " 'MT-CO1@ALL@gt70_trimmed_aln.fasta',\n",
       " 'MT-CO1@MINIBC@gt90_trimmed_aln.fasta',\n",
       " 'MT-CO1@MINIBC@gt70_trimmed_aln.fasta',\n",
       " 'MT-CO1@ALL@gt80_trimmed_aln.fasta',\n",
       " 'MT-CO1@FOLMER@gt70_trimmed_aln.fasta',\n",
       " 'MT-CO1@ALL@gt90_trimmed_aln.fasta',\n",
       " 'MT-CO1@FOLMER@gt90_trimmed_aln.fasta',\n",
       " 'MT-CO1@FOLMER@gt80_trimmed_aln.fasta']"
      ]
     },
     "execution_count": 71,
     "metadata": {},
     "output_type": "execute_result"
    }
   ],
   "source": [
    "pj.write_trimmed_alns(id=['record_id', 'source_organism'], format='fasta')"
   ]
  },
  {
   "cell_type": "markdown",
   "metadata": {},
   "source": [
    "Configure tree building."
   ]
  },
  {
   "cell_type": "code",
   "execution_count": 72,
   "metadata": {
    "collapsed": false
   },
   "outputs": [
    {
     "name": "stdout",
     "output_type": "stream",
     "text": [
      "raxmlHPC-PTHREADS-SSE3 -f a -m GTRGAMMA -n 345621484300695.25_MT-CO1@MINIBC@gt800 -p 566 -s 345621484300695.25_MT-CO1@MINIBC@gt80.fasta -T 3 -x 554 -N 100\n",
      "raxmlHPC-PTHREADS-SSE3 -f a -m GTRGAMMA -n 345621484300695.25_MT-CO1@ALL@gt700 -p 738 -s 345621484300695.25_MT-CO1@ALL@gt70.fasta -T 3 -x 744 -N 100\n",
      "raxmlHPC-PTHREADS-SSE3 -f a -m GTRGAMMA -n 345621484300695.25_MT-CO1@MINIBC@gt900 -p 168 -s 345621484300695.25_MT-CO1@MINIBC@gt90.fasta -T 3 -x 941 -N 100\n",
      "raxmlHPC-PTHREADS-SSE3 -f a -m GTRGAMMA -n 345621484300695.25_MT-CO1@MINIBC@gt700 -p 348 -s 345621484300695.25_MT-CO1@MINIBC@gt70.fasta -T 3 -x 826 -N 100\n",
      "raxmlHPC-PTHREADS-SSE3 -f a -m GTRGAMMA -n 345621484300695.25_MT-CO1@ALL@gt800 -p 894 -s 345621484300695.25_MT-CO1@ALL@gt80.fasta -T 3 -x 144 -N 100\n",
      "raxmlHPC-PTHREADS-SSE3 -f a -m GTRGAMMA -n 345621484300695.25_MT-CO1@FOLMER@gt700 -p 469 -s 345621484300695.25_MT-CO1@FOLMER@gt70.fasta -T 3 -x 352 -N 100\n",
      "raxmlHPC-PTHREADS-SSE3 -f a -m GTRGAMMA -n 345621484300695.25_MT-CO1@ALL@gt900 -p 418 -s 345621484300695.25_MT-CO1@ALL@gt90.fasta -T 3 -x 288 -N 100\n",
      "raxmlHPC-PTHREADS-SSE3 -f a -m GTRGAMMA -n 345621484300695.25_MT-CO1@FOLMER@gt900 -p 137 -s 345621484300695.25_MT-CO1@FOLMER@gt90.fasta -T 3 -x 917 -N 100\n",
      "raxmlHPC-PTHREADS-SSE3 -f a -m GTRGAMMA -n 345621484300695.25_MT-CO1@FOLMER@gt800 -p 830 -s 345621484300695.25_MT-CO1@FOLMER@gt80.fasta -T 3 -x 527 -N 100\n"
     ]
    }
   ],
   "source": [
    "raxml = RaxmlConf(pj, method_name='mafftLinsi-trimal', \n",
    "                 program_name='raxmlHPC-PTHREADS-SSE3',\n",
    "                 keepfiles=True,\n",
    "                 cmd='raxmlHPC-PTHREADS-SSE3',\n",
    "                 preset='fa',\n",
    "                 alns=['MT-CO1@FOLMER@gt80','MT-CO1@ALL@gt80','MT-CO1@MINIBC@gt80',\n",
    "                      'MT-CO1@FOLMER@gt70','MT-CO1@ALL@gt70','MT-CO1@MINIBC@gt70',\n",
    "                      'MT-CO1@FOLMER@gt90','MT-CO1@ALL@gt90','MT-CO1@MINIBC@gt90'],\n",
    "                 model='GAMMA',\n",
    "                 threads=3,\n",
    "                 cline_args={'-#': 100})"
   ]
  },
  {
   "cell_type": "code",
   "execution_count": 73,
   "metadata": {
    "collapsed": true
   },
   "outputs": [],
   "source": [
    "pj.tree([raxml])"
   ]
  },
  {
   "cell_type": "code",
   "execution_count": 74,
   "metadata": {
    "collapsed": false
   },
   "outputs": [
    {
     "name": "stdout",
     "output_type": "stream",
     "text": [
      "RaxmlConf named mafftLinsi-trimal with ID 345621484300695.25\n",
      "Alignments: MT-CO1@MINIBC@gt80,MT-CO1@ALL@gt70,MT-CO1@MINIBC@gt90,MT-CO1@MINIBC@gt70,MT-CO1@ALL@gt80,MT-CO1@FOLMER@gt70,MT-CO1@ALL@gt90,MT-CO1@FOLMER@gt90,MT-CO1@FOLMER@gt80 \n",
      "Created on: Fri Jan 13 09:44:55 2017\n",
      "Commands:\n",
      "MT-CO1@MINIBC@gt80:\n",
      "raxmlHPC-PTHREADS-SSE3 -f a -m GTRGAMMA -n 345621484300695.25_MT-CO1@MINIBC@gt800 -p 566 -s 345621484300695.25_MT-CO1@MINIBC@gt80.fasta -T 3 -x 554 -N 100\n",
      "MT-CO1@ALL@gt70:\n",
      "raxmlHPC-PTHREADS-SSE3 -f a -m GTRGAMMA -n 345621484300695.25_MT-CO1@ALL@gt700 -p 738 -s 345621484300695.25_MT-CO1@ALL@gt70.fasta -T 3 -x 744 -N 100\n",
      "MT-CO1@MINIBC@gt90:\n",
      "raxmlHPC-PTHREADS-SSE3 -f a -m GTRGAMMA -n 345621484300695.25_MT-CO1@MINIBC@gt900 -p 168 -s 345621484300695.25_MT-CO1@MINIBC@gt90.fasta -T 3 -x 941 -N 100\n",
      "MT-CO1@MINIBC@gt70:\n",
      "raxmlHPC-PTHREADS-SSE3 -f a -m GTRGAMMA -n 345621484300695.25_MT-CO1@MINIBC@gt700 -p 348 -s 345621484300695.25_MT-CO1@MINIBC@gt70.fasta -T 3 -x 826 -N 100\n",
      "MT-CO1@ALL@gt80:\n",
      "raxmlHPC-PTHREADS-SSE3 -f a -m GTRGAMMA -n 345621484300695.25_MT-CO1@ALL@gt800 -p 894 -s 345621484300695.25_MT-CO1@ALL@gt80.fasta -T 3 -x 144 -N 100\n",
      "MT-CO1@FOLMER@gt70:\n",
      "raxmlHPC-PTHREADS-SSE3 -f a -m GTRGAMMA -n 345621484300695.25_MT-CO1@FOLMER@gt700 -p 469 -s 345621484300695.25_MT-CO1@FOLMER@gt70.fasta -T 3 -x 352 -N 100\n",
      "MT-CO1@ALL@gt90:\n",
      "raxmlHPC-PTHREADS-SSE3 -f a -m GTRGAMMA -n 345621484300695.25_MT-CO1@ALL@gt900 -p 418 -s 345621484300695.25_MT-CO1@ALL@gt90.fasta -T 3 -x 288 -N 100\n",
      "MT-CO1@FOLMER@gt90:\n",
      "raxmlHPC-PTHREADS-SSE3 -f a -m GTRGAMMA -n 345621484300695.25_MT-CO1@FOLMER@gt900 -p 137 -s 345621484300695.25_MT-CO1@FOLMER@gt90.fasta -T 3 -x 917 -N 100\n",
      "MT-CO1@FOLMER@gt80:\n",
      "raxmlHPC-PTHREADS-SSE3 -f a -m GTRGAMMA -n 345621484300695.25_MT-CO1@FOLMER@gt800 -p 830 -s 345621484300695.25_MT-CO1@FOLMER@gt80.fasta -T 3 -x 527 -N 100\n",
      "\n",
      "Environment:\n",
      "Platform: Linux-4.4.0-53-generic-x86_64-with-Ubuntu-14.04-trusty\n",
      " Processor: x86_64\n",
      " Python build: defaultMar 22 2014 22:59:56\n",
      " Python compiler: GCC 4.8.2\n",
      " Python implementation: CPython\n",
      " Python version: 2.7.6\n",
      " ete2 version: 2.2.1072\n",
      " biopython version: 1.68\n",
      " dendropy version: 3.12.2\n",
      " cloud version: 2.8.5\n",
      " reprophylo version 1.3\n",
      " User: chrishah-OptiPlex-7040\n",
      " Program and version: raxmlHPC-PTHREADS-SSE3RAxML version 8.0.12\n",
      " Program reference: A. Stamatakis: RAxML Version 8: A tool for Phylogenetic Analysis and Post-Analysis of Large Phylogenies. In Bioinformatics\n",
      " 2014.\n",
      "execution time:\n",
      "1588.31492305\n",
      "\n",
      "==============================\n",
      "Core Methods section sentence:\n",
      "==============================\n",
      "Phylogenetic trees were reconstructed from the dataset(s) MT-CO1@MINIBC@gt80;MT-CO1@ALL@gt70;MT-CO1@MINIBC@gt90;MT-CO1@MINIBC@gt70;MT-CO1@ALL@gt80;MT-CO1@FOLMER@gt70;MT-CO1@ALL@gt90;MT-CO1@FOLMER@gt90;MT-CO1@FOLMER@gt80 using the program raxmlHPC-PTHREADS-SSE3RAxML version 8.0.12 [1].\n",
      "\n",
      "Reference:\n",
      "A. Stamatakis: RAxML Version 8: A tool for Phylogenetic Analysis and Post-Analysis of Large Phylogenies. In Bioinformatics, 2014.\n",
      "\n"
     ]
    }
   ],
   "source": [
    "print pj.used_methods['mafftLinsi-trimal']"
   ]
  },
  {
   "cell_type": "markdown",
   "metadata": {},
   "source": [
    "Pickle the project."
   ]
  },
  {
   "cell_type": "code",
   "execution_count": 75,
   "metadata": {
    "collapsed": false
   },
   "outputs": [
    {
     "data": {
      "text/plain": [
       "'my_project.pickle'"
      ]
     },
     "execution_count": 75,
     "metadata": {},
     "output_type": "execute_result"
    }
   ],
   "source": [
    "pickle_pj(pj, 'my_project.pickle')"
   ]
  },
  {
   "cell_type": "markdown",
   "metadata": {},
   "source": [
    "Annotate ML trees."
   ]
  },
  {
   "cell_type": "markdown",
   "metadata": {},
   "source": [
    "Define outgroups."
   ]
  },
  {
   "cell_type": "code",
   "execution_count": 76,
   "metadata": {
    "collapsed": false
   },
   "outputs": [
    {
     "name": "stdout",
     "output_type": "stream",
     "text": [
      "species\tMT-CO1\r",
      "\r\n",
      "Gammarus balcanicus\t1\r",
      "\r\n",
      "Gammarus fossarum\t98\r",
      "\r\n",
      "Gammarus glabratus\t1\r",
      "\r\n",
      "Gammarus pulex\t16\r",
      "\r\n",
      "Gammarus roeselii\t1\r",
      "\r\n",
      "Gammarus tigrinus\t1\r",
      "\r\n"
     ]
    }
   ],
   "source": [
    "!cat species.csv"
   ]
  },
  {
   "cell_type": "code",
   "execution_count": 77,
   "metadata": {
    "collapsed": true
   },
   "outputs": [],
   "source": [
    "pj.add_qualifier_from_source('organism')\n"
   ]
  },
  {
   "cell_type": "code",
   "execution_count": 78,
   "metadata": {
    "collapsed": true
   },
   "outputs": [],
   "source": [
    "for species in ['balcanicus', 'glabratus', 'roeselii', 'tigrinus']:\n",
    "    pj.if_this_then_that(species, 'organism', 'outgroup', 'outgroup',\n",
    "                         mode='part')"
   ]
  },
  {
   "cell_type": "markdown",
   "metadata": {},
   "source": [
    "Specify colors for branchsupport."
   ]
  },
  {
   "cell_type": "code",
   "execution_count": 79,
   "metadata": {
    "collapsed": true
   },
   "outputs": [],
   "source": [
    "supports = {'black': [100,95],\n",
    "            'dimgray': [95,75],\n",
    "            'silver': [75,50]}\n"
   ]
  },
  {
   "cell_type": "markdown",
   "metadata": {},
   "source": [
    "Add a new qualifier 'origin' that contains either 'Sanger' or 'metabarcoding' for the newly generated sequences. Also we add another qualifier 'origin_abr' that contains the symbols * or +, respectively.\n",
    "\n"
   ]
  },
  {
   "cell_type": "code",
   "execution_count": null,
   "metadata": {
    "collapsed": false
   },
   "outputs": [],
   "source": [
    "for r in pj.records:\n",
    "    if 'denovo' in r.id:\n",
    "        print r.id\n",
    "        ## all the Sanger sequences contain the string 'HCO2198' in the sequence header\n",
    "        if 'HCO2198' in r.description:\n",
    "            print \"origin -> Sanger\"\n",
    "            for f in r.features:\n",
    "                f.qualifiers['origin'] = ['Sanger']\n",
    "                f.qualifiers['origin_abr'] = ['*']\n",
    "        ## if they are don't contain 'HCO2198' they originate from metabarcoding\n",
    "        else:\n",
    "            print \"origin -> metabarcoding\"\n",
    "            for f in r.features:\n",
    "                f.qualifiers['origin'] = ['metabarcoding']\n",
    "                f.qualifiers['origin_abr'] = ['+']\n",
    "    #if they are not 'denovo' then they were from a previous study\n",
    "    else:\n",
    "        print r.id\n",
    "        print \"origin -> previous study\"\n",
    "        for f in r.features:\n",
    "            f.qualifiers['origin'] = ['']\n",
    "            f.qualifiers['origin_abr'] = ['']"
   ]
  },
  {
   "cell_type": "code",
   "execution_count": 81,
   "metadata": {
    "collapsed": false
   },
   "outputs": [],
   "source": [
    "pj.propagate_metadata()"
   ]
  },
  {
   "cell_type": "code",
   "execution_count": null,
   "metadata": {
    "collapsed": true
   },
   "outputs": [],
   "source": []
  },
  {
   "cell_type": "markdown",
   "metadata": {},
   "source": [
    "Refine tree annotation."
   ]
  },
  {
   "cell_type": "markdown",
   "metadata": {},
   "source": [
    "Format tree to add symbols * or + to leaf name to indicate 'Sanger' or 'metabarcoding' sequences, respectively."
   ]
  },
  {
   "cell_type": "code",
   "execution_count": 82,
   "metadata": {
    "collapsed": false
   },
   "outputs": [],
   "source": [
    "pj.clear_tree_annotations()\n",
    "pj.annotate('.', 'outgroup', 'outroup', \n",
    "            ['source_organism', 'record_id','origin_abr'], \n",
    "            node_support_dict=supports, multifurc=50,\n",
    "            html='./mafftLinsi-trimal-raxml.html')"
   ]
  },
  {
   "cell_type": "markdown",
   "metadata": {},
   "source": [
    "Color the tree labels according to origin of the sequences."
   ]
  },
  {
   "cell_type": "code",
   "execution_count": 83,
   "metadata": {
    "collapsed": true
   },
   "outputs": [],
   "source": [
    "leaf_colors = {'Sanger':'red', 'metabarcoding': 'blue'}"
   ]
  },
  {
   "cell_type": "code",
   "execution_count": 84,
   "metadata": {
    "collapsed": false
   },
   "outputs": [],
   "source": [
    "pj.clear_tree_annotations()\n",
    "pj.annotate('.', 'mid', 'mid', \n",
    "            ['source_organism', 'record_id'], \n",
    "            node_support_dict=supports, multifurc=50, #None\n",
    "            leaf_node_color_meta = 'origin', leaf_label_colors = leaf_colors,\n",
    "            html='./mafftLinsi-trimal-raxml.html')"
   ]
  },
  {
   "cell_type": "markdown",
   "metadata": {},
   "source": [
    "Add haplotype abbreviations to records to be used as tree tip labels."
   ]
  },
  {
   "cell_type": "code",
   "execution_count": null,
   "metadata": {
    "collapsed": false
   },
   "outputs": [],
   "source": [
    "MB_count={'Gp':1, 'Gf':1}\n",
    "FO_count={'Gp':1, 'Gf':1}\n",
    "for r in pj.records:\n",
    "    print r.id,r.features[0].qualifiers['organism'][0]\n",
    "\n",
    "    if r.features[0].qualifiers['organism'][0].split(\" \")[1] in ['pulex','fossarum']:\n",
    "        sp_prefix = r.features[0].qualifiers['organism'][0].split(\" \")[0][0]+r.features[0].qualifiers['organism'][0].split(\" \")[1][0]\n",
    "        if 'denovo' in r.id:\n",
    "            if 'metabarcoding' in r.features[0].qualifiers['origin']:\n",
    "                for f in r.features:\n",
    "                    f.qualifiers['label'] = [r.description.split(\"|\")[1]]\n",
    "                print r.features[0].qualifiers['label']\n",
    "                MB_count[sp_prefix]+=1\n",
    "            if 'Sanger' in r.features[0].qualifiers['origin']:\n",
    "                for f in r.features:\n",
    "                    f.qualifiers['label'] = [sp_prefix+'_UK_Fo'+\"%02d\" %FO_count[sp_prefix]]\n",
    "                print r.features[0].qualifiers['label']\n",
    "                FO_count[sp_prefix]+=1\n",
    "        elif r.id.startswith('KR'): #These are the records from Copilas-Ciocianu & Petrusek 2015\n",
    "            for f in r.features:\n",
    "                f.qualifiers['label'] = [sp_prefix+'_'+r.features[0].qualifiers['country'][0][:3]+'_'+r.features[0].qualifiers['isolate'][0]]\n",
    "            print r.features[0].qualifiers['label']\n",
    "        elif r.id.startswith('KF'): #These are the records from Weiss et al. 2014\n",
    "            for f in r.features:\n",
    "                f.qualifiers['label'] = r.features[0].qualifiers['specimen_voucher']\n",
    "            print r.features[0].qualifiers['label']\n",
    "        else: #These are the remaining records from Hou et al. 2007 and Hou et al. 2011\n",
    "            for f in r.features:\n",
    "                f.qualifiers['label'] = [sp_prefix+'_'+r.features[0].qualifiers['country'][0][:3]+'_'+r.features[0].qualifiers['specimen_voucher'][0]]\n",
    "            print r.features[0].qualifiers['label']\n",
    "    else:\n",
    "        for f in r.features:\n",
    "            f.qualifiers['label'] = r.features[0].qualifiers['organism']\n",
    "        print r.features[0].qualifiers['label']"
   ]
  },
  {
   "cell_type": "code",
   "execution_count": 87,
   "metadata": {
    "collapsed": true
   },
   "outputs": [],
   "source": [
    "pj.propagate_metadata()"
   ]
  },
  {
   "cell_type": "code",
   "execution_count": 90,
   "metadata": {
    "collapsed": false
   },
   "outputs": [],
   "source": [
    "pj.clear_tree_annotations()\n",
    "pj.annotate('.', 'outgroup', 'outgroup', \n",
    "            ['label'], \n",
    "            node_support_dict=supports, multifurc=None,\n",
    "            leaf_node_color_meta = 'origin', leaf_label_colors = leaf_colors,\n",
    "            html='./mafftLinsi-trimal-raxml.html')"
   ]
  },
  {
   "cell_type": "markdown",
   "metadata": {},
   "source": [
    "Write out alignments again, adding the new label names."
   ]
  },
  {
   "cell_type": "code",
   "execution_count": 91,
   "metadata": {
    "collapsed": false
   },
   "outputs": [
    {
     "data": {
      "text/plain": [
       "['MT-CO1@MINIBC_aln.fasta', 'MT-CO1@FOLMER_aln.fasta', 'MT-CO1@ALL_aln.fasta']"
      ]
     },
     "execution_count": 91,
     "metadata": {},
     "output_type": "execute_result"
    }
   ],
   "source": [
    "pj.write_alns(id=['record_id', 'label'], format='fasta')"
   ]
  },
  {
   "cell_type": "code",
   "execution_count": 92,
   "metadata": {
    "collapsed": false
   },
   "outputs": [
    {
     "data": {
      "text/plain": [
       "['MT-CO1@MINIBC@gt80_trimmed_aln.fasta',\n",
       " 'MT-CO1@ALL@gt70_trimmed_aln.fasta',\n",
       " 'MT-CO1@MINIBC@gt90_trimmed_aln.fasta',\n",
       " 'MT-CO1@MINIBC@gt70_trimmed_aln.fasta',\n",
       " 'MT-CO1@ALL@gt80_trimmed_aln.fasta',\n",
       " 'MT-CO1@FOLMER@gt70_trimmed_aln.fasta',\n",
       " 'MT-CO1@ALL@gt90_trimmed_aln.fasta',\n",
       " 'MT-CO1@FOLMER@gt90_trimmed_aln.fasta',\n",
       " 'MT-CO1@FOLMER@gt80_trimmed_aln.fasta']"
      ]
     },
     "execution_count": 92,
     "metadata": {},
     "output_type": "execute_result"
    }
   ],
   "source": [
    "pj.write_trimmed_alns(id=['record_id', 'label'], format='fasta')"
   ]
  },
  {
   "cell_type": "markdown",
   "metadata": {},
   "source": [
    "Copy phylogenetic trees and underlying alignments in separate directory as supplement for the paper."
   ]
  },
  {
   "cell_type": "code",
   "execution_count": 96,
   "metadata": {
    "collapsed": true
   },
   "outputs": [],
   "source": [
    "mkdir supplementary"
   ]
  },
  {
   "cell_type": "code",
   "execution_count": 97,
   "metadata": {
    "collapsed": false
   },
   "outputs": [],
   "source": [
    "%%bash\n",
    "\n",
    "#copy and rename phylogenies\n",
    "for p in $(ls -1 *.png)\n",
    "do\n",
    "    base=$(echo $p | cut -d \"_\" -f 2-)\n",
    "    cp $p supplementary/RAxML_GTRGAMMA-$base\n",
    "done\n",
    "\n",
    "#copy alignments\n",
    "cp MT-CO1* supplementary/"
   ]
  },
  {
   "cell_type": "code",
   "execution_count": 152,
   "metadata": {
    "collapsed": true
   },
   "outputs": [],
   "source": [
    "!mkdir supplementary/RAxML/"
   ]
  },
  {
   "cell_type": "code",
   "execution_count": 153,
   "metadata": {
    "collapsed": true
   },
   "outputs": [],
   "source": [
    "!mv RAxML_* supplementary/RAxML/"
   ]
  },
  {
   "cell_type": "markdown",
   "metadata": {},
   "source": [
    "Pickle Reprophylo project for later."
   ]
  },
  {
   "cell_type": "code",
   "execution_count": 100,
   "metadata": {
    "collapsed": false
   },
   "outputs": [
    {
     "data": {
      "text/plain": [
       "'my_project.pickle'"
      ]
     },
     "execution_count": 100,
     "metadata": {},
     "output_type": "execute_result"
    }
   ],
   "source": [
    "pickle_pj(pj, 'my_project.pickle')"
   ]
  },
  {
   "cell_type": "code",
   "execution_count": 154,
   "metadata": {
    "collapsed": true
   },
   "outputs": [],
   "source": [
    "!cp my_project.pickle supplementary/"
   ]
  },
  {
   "cell_type": "markdown",
   "metadata": {},
   "source": [
    "Generate supplementary table linking haplotypes with accession numbers."
   ]
  },
  {
   "cell_type": "code",
   "execution_count": 4,
   "metadata": {
    "collapsed": false
   },
   "outputs": [
    {
     "name": "stdout",
     "output_type": "stream",
     "text": [
      "sequence id\tspecies\tGenbank accession\treference\n",
      "Gammarus balcanicus\tGammarus balcanicus\tJF965914.1\tHou et al. (2011)\n",
      "Gammarus glabratus\tGammarus glabratus\tEF570307.1\tHou et al. 2009\n",
      "Gammarus roeselii\tGammarus roeselii\tJF965952.1\tHou et al. (2011)\n",
      "Gammarus tigrinus\tGammarus tigrinus\tFJ581688.1\tRadulovici et al. (2009)\n",
      "Gf_BF_N1\tGammarus fossarum\tKF521829.1\tWeiss et al. (2013)\n",
      "Gf_BF_N2\tGammarus fossarum\tKF521828.1\tWeiss et al. (2013)\n",
      "Gf_BF_N3\tGammarus fossarum\tKF521827.1\tWeiss et al. (2013)\n",
      "Gf_BF_S1\tGammarus fossarum\tKF521832.1\tWeiss et al. (2013)\n",
      "Gf_BF_S2\tGammarus fossarum\tKF521831.1\tWeiss et al. (2013)\n",
      "Gf_BF_S3\tGammarus fossarum\tKF521830.1\tWeiss et al. (2013)\n",
      "Gf_Cro5_01\tGammarus fossarum\tKF521806.1\tWeiss et al. (2013)\n",
      "Gf_Cro5_02\tGammarus fossarum\tKF521805.1\tWeiss et al. (2013)\n",
      "Gf_Cro8_01\tGammarus fossarum\tKF521804.1\tWeiss et al. (2013)\n",
      "Gf_Cro8_02\tGammarus fossarum\tKF521803.1\tWeiss et al. (2013)\n",
      "Gf_Cro8_03\tGammarus fossarum\tKF521802.1\tWeiss et al. (2013)\n",
      "Gf_Ger6_01\tGammarus fossarum\tKF521822.1\tWeiss et al. (2013)\n",
      "Gf_Ger6_02\tGammarus fossarum\tKF521821.1\tWeiss et al. (2013)\n",
      "Gf_Ger6_03\tGammarus fossarum\tKF521820.1\tWeiss et al. (2013)\n",
      "Gf_Rom_1BAF\tGammarus fossarum\tKR061776.1\tCopilas-Ciocianu & Petrusek (2015)\n",
      "Gf_Rom_1BH15\tGammarus fossarum\tKR061778.1\tCopilas-Ciocianu & Petrusek (2015)\n",
      "Gf_Rom_1BI11\tGammarus fossarum\tKR061781.1\tCopilas-Ciocianu & Petrusek (2015)\n",
      "Gf_Rom_1BOC\tGammarus fossarum\tKR061784.1\tCopilas-Ciocianu & Petrusek (2015)\n",
      "Gf_Rom_1BOG\tGammarus fossarum\tKR061785.1\tCopilas-Ciocianu & Petrusek (2015)\n",
      "Gf_Rom_1C16\tGammarus fossarum\tKR061788.1\tCopilas-Ciocianu & Petrusek (2015)\n",
      "Gf_Rom_1CA1V\tGammarus fossarum\tKR061789.1\tCopilas-Ciocianu & Petrusek (2015)\n",
      "Gf_Rom_1CS101\tGammarus fossarum\tKR061792.1\tCopilas-Ciocianu & Petrusek (2015)\n",
      "Gf_Rom_1CS102\tGammarus fossarum\tKR061795.1\tCopilas-Ciocianu & Petrusek (2015)\n",
      "Gf_Rom_1CS12\tGammarus fossarum\tKR061797.1\tCopilas-Ciocianu & Petrusek (2015)\n",
      "Gf_Rom_1CS15\tGammarus fossarum\tKR061800.1\tCopilas-Ciocianu & Petrusek (2015)\n",
      "Gf_Rom_1CS17\tGammarus fossarum\tKR061802.1\tCopilas-Ciocianu & Petrusek (2015)\n",
      "Gf_Rom_1DO2\tGammarus fossarum\tKR061805.1\tCopilas-Ciocianu & Petrusek (2015)\n",
      "Gf_Rom_1GO25\tGammarus fossarum\tKR061842.1\tCopilas-Ciocianu & Petrusek (2015)\n",
      "Gf_Rom_1GO4A\tGammarus fossarum\tKR061808.1\tCopilas-Ciocianu & Petrusek (2015)\n",
      "Gf_Rom_1GO4B\tGammarus fossarum\tKR061810.1\tCopilas-Ciocianu & Petrusek (2015)\n",
      "Gf_Rom_1LO2\tGammarus fossarum\tKR061812.1\tCopilas-Ciocianu & Petrusek (2015)\n",
      "Gf_Rom_1MON\tGammarus fossarum\tKR061813.1\tCopilas-Ciocianu & Petrusek (2015)\n",
      "Gf_Rom_1NE3\tGammarus fossarum\tKR061815.1\tCopilas-Ciocianu & Petrusek (2015)\n",
      "Gf_Rom_1PC6\tGammarus fossarum\tKR061817.1\tCopilas-Ciocianu & Petrusek (2015)\n",
      "Gf_Rom_1PL7\tGammarus fossarum\tKR061838.1\tCopilas-Ciocianu & Petrusek (2015)\n",
      "Gf_Rom_1PLO\tGammarus fossarum\tKR061840.1\tCopilas-Ciocianu & Petrusek (2015)\n",
      "Gf_Rom_1PM2\tGammarus fossarum\tKR061843.1\tCopilas-Ciocianu & Petrusek (2015)\n",
      "Gf_Rom_1RE04\tGammarus fossarum\tKR061820.1\tCopilas-Ciocianu & Petrusek (2015)\n",
      "Gf_Rom_1RE05\tGammarus fossarum\tKR061823.1\tCopilas-Ciocianu & Petrusek (2015)\n",
      "Gf_Rom_1SIG3\tGammarus fossarum\tKR061825.1\tCopilas-Ciocianu & Petrusek (2015)\n",
      "Gf_Rom_1TA25\tGammarus fossarum\tKR061827.1\tCopilas-Ciocianu & Petrusek (2015)\n",
      "Gf_Rom_1TM104\tGammarus fossarum\tKR061830.1\tCopilas-Ciocianu & Petrusek (2015)\n",
      "Gf_Rom_1VA5\tGammarus fossarum\tKR061833.1\tCopilas-Ciocianu & Petrusek (2015)\n",
      "Gf_Rom_1VA6\tGammarus fossarum\tKR061836.1\tCopilas-Ciocianu & Petrusek (2015)\n",
      "Gf_Rom_2BH15\tGammarus fossarum\tKR061779.1\tCopilas-Ciocianu & Petrusek (2015)\n",
      "Gf_Rom_2BI11\tGammarus fossarum\tKR061782.1\tCopilas-Ciocianu & Petrusek (2015)\n",
      "Gf_Rom_2BOG\tGammarus fossarum\tKR061786.1\tCopilas-Ciocianu & Petrusek (2015)\n",
      "Gf_Rom_2CA1V\tGammarus fossarum\tKR061790.1\tCopilas-Ciocianu & Petrusek (2015)\n",
      "Gf_Rom_2CS101\tGammarus fossarum\tKR061793.1\tCopilas-Ciocianu & Petrusek (2015)\n",
      "Gf_Rom_2CS102\tGammarus fossarum\tKR061796.1\tCopilas-Ciocianu & Petrusek (2015)\n",
      "Gf_Rom_2CS12\tGammarus fossarum\tKR061798.1\tCopilas-Ciocianu & Petrusek (2015)\n",
      "Gf_Rom_2CS15\tGammarus fossarum\tKR061801.1\tCopilas-Ciocianu & Petrusek (2015)\n",
      "Gf_Rom_2CS17\tGammarus fossarum\tKR061803.1\tCopilas-Ciocianu & Petrusek (2015)\n",
      "Gf_Rom_2DO2\tGammarus fossarum\tKR061806.1\tCopilas-Ciocianu & Petrusek (2015)\n",
      "Gf_Rom_2GO4A\tGammarus fossarum\tKR061809.1\tCopilas-Ciocianu & Petrusek (2015)\n",
      "Gf_Rom_2GO4B\tGammarus fossarum\tKR061811.1\tCopilas-Ciocianu & Petrusek (2015)\n",
      "Gf_Rom_2MON\tGammarus fossarum\tKR061814.1\tCopilas-Ciocianu & Petrusek (2015)\n",
      "Gf_Rom_2PC6\tGammarus fossarum\tKR061818.1\tCopilas-Ciocianu & Petrusek (2015)\n",
      "Gf_Rom_2PL7\tGammarus fossarum\tKR061839.1\tCopilas-Ciocianu & Petrusek (2015)\n",
      "Gf_Rom_2PLO\tGammarus fossarum\tKR061841.1\tCopilas-Ciocianu & Petrusek (2015)\n",
      "Gf_Rom_2PM2\tGammarus fossarum\tKR061844.1\tCopilas-Ciocianu & Petrusek (2015)\n",
      "Gf_Rom_2RE04\tGammarus fossarum\tKR061821.1\tCopilas-Ciocianu & Petrusek (2015)\n",
      "Gf_Rom_2SIG3\tGammarus fossarum\tKR061826.1\tCopilas-Ciocianu & Petrusek (2015)\n",
      "Gf_Rom_2TA25\tGammarus fossarum\tKR061828.1\tCopilas-Ciocianu & Petrusek (2015)\n",
      "Gf_Rom_2TA4\tGammarus fossarum\tKR061846.1\tCopilas-Ciocianu & Petrusek (2015)\n",
      "Gf_Rom_2TM104\tGammarus fossarum\tKR061831.1\tCopilas-Ciocianu & Petrusek (2015)\n",
      "Gf_Rom_2VA5\tGammarus fossarum\tKR061834.1\tCopilas-Ciocianu & Petrusek (2015)\n",
      "Gf_Rom_2VA6\tGammarus fossarum\tKR061837.1\tCopilas-Ciocianu & Petrusek (2015)\n",
      "Gf_Rom_3BAF\tGammarus fossarum\tKR061777.1\tCopilas-Ciocianu & Petrusek (2015)\n",
      "Gf_Rom_3BH15\tGammarus fossarum\tKR061780.1\tCopilas-Ciocianu & Petrusek (2015)\n",
      "Gf_Rom_3BI11\tGammarus fossarum\tKR061783.1\tCopilas-Ciocianu & Petrusek (2015)\n",
      "Gf_Rom_3BOG\tGammarus fossarum\tKR061787.1\tCopilas-Ciocianu & Petrusek (2015)\n",
      "Gf_Rom_3CA1V\tGammarus fossarum\tKR061791.1\tCopilas-Ciocianu & Petrusek (2015)\n",
      "Gf_Rom_3CS101\tGammarus fossarum\tKR061794.1\tCopilas-Ciocianu & Petrusek (2015)\n",
      "Gf_Rom_3CS12\tGammarus fossarum\tKR061799.1\tCopilas-Ciocianu & Petrusek (2015)\n",
      "Gf_Rom_3CS17\tGammarus fossarum\tKR061804.1\tCopilas-Ciocianu & Petrusek (2015)\n",
      "Gf_Rom_3DO2\tGammarus fossarum\tKR061807.1\tCopilas-Ciocianu & Petrusek (2015)\n",
      "Gf_Rom_3NE3\tGammarus fossarum\tKR061816.1\tCopilas-Ciocianu & Petrusek (2015)\n",
      "Gf_Rom_3PM2\tGammarus fossarum\tKR061845.1\tCopilas-Ciocianu & Petrusek (2015)\n",
      "Gf_Rom_3RE04\tGammarus fossarum\tKR061822.1\tCopilas-Ciocianu & Petrusek (2015)\n",
      "Gf_Rom_3RE05\tGammarus fossarum\tKR061824.1\tCopilas-Ciocianu & Petrusek (2015)\n",
      "Gf_Rom_3TA25\tGammarus fossarum\tKR061829.1\tCopilas-Ciocianu & Petrusek (2015)\n",
      "Gf_Rom_3TA4\tGammarus fossarum\tKR061847.1\tCopilas-Ciocianu & Petrusek (2015)\n",
      "Gf_Rom_3TM104\tGammarus fossarum\tKR061832.1\tCopilas-Ciocianu & Petrusek (2015)\n",
      "Gf_Rom_3VA5\tGammarus fossarum\tKR061835.1\tCopilas-Ciocianu & Petrusek (2015)\n",
      "Gf_Rom_CM17\tGammarus fossarum\tKR061819.1\tCopilas-Ciocianu & Petrusek (2015)\n",
      "Gf_Sl_O1\tGammarus fossarum\tKF521835.1\tWeiss et al. (2013)\n",
      "Gf_Sl_W1\tGammarus fossarum\tKF521833.1\tWeiss et al. (2013)\n",
      "Gf_Sl_W2\tGammarus fossarum\tKF521834.1\tWeiss et al. (2013)\n",
      "Gf_UK_Fo01\tGammarus fossarum\tKY464960\tcurrent study\n",
      "Gf_UK_Fo02\tGammarus fossarum\tKY464961\tcurrent study\n",
      "Gf_UK_Fo03\tGammarus fossarum\tKY464962\tcurrent study\n",
      "Gf_UK_Fo04\tGammarus fossarum\tKY464963\tcurrent study\n",
      "Gf_UK_Mb01\tGammarus fossarum\tKY464973\tcurrent study\n",
      "Gf_UK_Mb02\tGammarus fossarum\tKY464974\tcurrent study\n",
      "Gf_UK_Mb03\tGammarus fossarum\tKY464975\tcurrent study\n",
      "Gf_UK_Mb04\tGammarus fossarum\tKY464976\tcurrent study\n",
      "Gf_UK_Mb05\tGammarus fossarum\tKY464977\tcurrent study\n",
      "Gp_Fra_SLOCHN154\tGammarus pulex\tJF965941.1\tHou et al. (2011)\n",
      "Gp_Fra_SLOCHN155\tGammarus pulex\tJF965942.1\tHou et al. (2011)\n",
      "Gp_Ger_SLOCHN105\tGammarus pulex\tJF965940.1\tHou et al. (2011)\n",
      "Gp_Net_610\tGammarus pulex\tEF570334.1\tHou et al. (2007)\n",
      "Gp_Swe_SLOCHN022\tGammarus pulex\tJF965939.1\tHou et al. (2011)\n",
      "Gp_Swe_SLOCHN176\tGammarus pulex\tJF965943.1\tHou et al. (2011)\n",
      "Gp_UK_Fo01\tGammarus pulex\tKY464959\tcurrent study\n",
      "Gp_UK_Mb01\tGammarus pulex\tKY464964\tcurrent study\n",
      "Gp_UK_Mb02\tGammarus pulex\tKY464965\tcurrent study\n",
      "Gp_UK_Mb03\tGammarus pulex\tKY464966\tcurrent study\n",
      "Gp_UK_Mb04\tGammarus pulex\tKY464967\tcurrent study\n",
      "Gp_UK_Mb05\tGammarus pulex\tKY464968\tcurrent study\n",
      "Gp_UK_Mb06\tGammarus pulex\tKY464969\tcurrent study\n",
      "Gp_UK_Mb07\tGammarus pulex\tKY464970\tcurrent study\n",
      "Gp_UK_Mb08\tGammarus pulex\tKY464971\tcurrent study\n",
      "Gp_UK_Mb09\tGammarus pulex\tKY464972\tcurrent study\n",
      "\n"
     ]
    }
   ],
   "source": [
    "references = {}\n",
    "\n",
    "#previously published sequences used in the phylogeny\n",
    "refs = open('../1-download_references/phylogeny_refseqs.csv','r')\n",
    "refs.next()\n",
    "for r in refs:\n",
    "    cols=r.strip().split(\",\")\n",
    "    references[cols[1]] = cols[2]\n",
    "\n",
    "hts = {}   \n",
    "\n",
    "#read in Genbank accessions for sequences produced in this study from text file\n",
    "acc_fh = open('supplementary/this_study_ht_to_accessions.tsv')\n",
    "ht_to_new_accs = {}\n",
    "for ht in acc_fh:\n",
    "    ht_to_new_accs[ht.strip().split(\"\\t\")[0]] = ht.strip().split(\"\\t\")[1]\n",
    "\n",
    "#\n",
    "for r in pj.records:\n",
    "    hts[r.features[0].qualifiers['label'][0]] = \"%s\" %r.features[0].qualifiers['organism'][0]\n",
    "    \n",
    "    if \".\".join(r.id.split(\".\")[:-1]) in references:\n",
    "        hts[r.features[0].qualifiers['label'][0]]+= \"\\t%s\\t%s\" %(r.id, references[\".\".join(r.id.split(\".\")[:-1])])\n",
    "\n",
    "    else:\n",
    "        hts[r.features[0].qualifiers['label'][0]]+= \"\\t\"+ht_to_new_accs[r.features[0].qualifiers['label'][0]]+\"\\tcurrent study\"\n",
    "\n",
    "\n",
    "out='sequence id\\tspecies\\tGenbank accession\\treference\\n'\n",
    "for s in sorted(hts.keys()):\n",
    "    out+=\"%s\\t%s\\n\" %(s, hts[s])\n",
    "\n",
    "print out\n",
    "\n",
    "outfh=open('supplementary/ht_accessions.tsv','w')\n",
    "outfh.write(out)\n",
    "outfh.close()"
   ]
  },
  {
   "cell_type": "code",
   "execution_count": null,
   "metadata": {
    "collapsed": true
   },
   "outputs": [],
   "source": []
  }
 ],
 "metadata": {
  "kernelspec": {
   "display_name": "Python 2",
   "language": "python",
   "name": "python2"
  },
  "language_info": {
   "codemirror_mode": {
    "name": "ipython",
    "version": 2
   },
   "file_extension": ".py",
   "mimetype": "text/x-python",
   "name": "python",
   "nbconvert_exporter": "python",
   "pygments_lexer": "ipython2",
   "version": "2.7.6"
  }
 },
 "nbformat": 4,
 "nbformat_minor": 0
}
