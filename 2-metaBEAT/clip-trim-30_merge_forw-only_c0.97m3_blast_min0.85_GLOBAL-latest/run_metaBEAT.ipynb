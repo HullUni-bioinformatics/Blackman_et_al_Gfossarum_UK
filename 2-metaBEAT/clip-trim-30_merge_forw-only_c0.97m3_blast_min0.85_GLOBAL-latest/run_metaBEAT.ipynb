{
 "cells": [
  {
   "cell_type": "markdown",
   "metadata": {},
   "source": [
    "### Illumina read processing and taxonomic classification of query sequences ##"
   ]
  },
  {
   "cell_type": "markdown",
   "metadata": {},
   "source": [
    "We are using our custom pipeline [metaBEAT](https://github.com/HullUni-bioinformatics/metaBEAT) to process the Illumina data and taxonomically identify query sequences. \n",
    "\n",
    "For full reproducibility metaBEAT was run inside a docker container - [here](https://hub.docker.com/r/chrishah/metabeat/).\n",
    "\n",
    "After initial read quality trimming, -merging and clustering, query sequences are blasted against a custom reference database composed of COI sequences of _Gammarus_ sp. as well as the positive controls _Harmonia axyridis_ and _Triops cancriformis_ (all downloaded from Genbank as described [here]()). Taxonomic assignment was perfored using a lowest commong ancestor (LCA) approach based on the BLAST results, as described in the paper.\n",
    "\n",
    "The file `Querymap.txt` contains the sampleIDs and the location of the Illumina read files, plus the barcodes and instructions to clip off the first 30 bases of both the forward and reverse reads, in order to remove any primers.\n",
    "\n",
    "The file `REFlist.txt` points towards the reference sequences."
   ]
  },
  {
   "cell_type": "code",
   "execution_count": 3,
   "metadata": {
    "collapsed": false
   },
   "outputs": [
    {
     "name": "stdout",
     "output_type": "stream",
     "text": [
      "INV001D\tfastq\t../../raw_data/Rosie/INV001D_S1_L001_R1_001.fastq.gz\t../../raw_data/Rosie/INV001D_S1_L001_R2_001.fastq.gz\tTCGCCTTA\tTAGATCGC\t30\t30\r\n",
      "INV002D\tfastq\t../../raw_data/Rosie/INV002D_S2_L001_R1_001.fastq.gz\t../../raw_data/Rosie/INV002D_S2_L001_R2_001.fastq.gz\tTCGCCTTA\tCTCTCTAT\t30\t30\r\n",
      "INV003D\tfastq\t../../raw_data/Rosie/INV003D_S3_L001_R1_001.fastq.gz\t../../raw_data/Rosie/INV003D_S3_L001_R2_001.fastq.gz\tTCGCCTTA\tTATCCTCT\t30\t30\r\n",
      "INV004D\tfastq\t../../raw_data/Rosie/INV004D_S4_L001_R1_001.fastq.gz\t../../raw_data/Rosie/INV004D_S4_L001_R2_001.fastq.gz\tTCGCCTTA\tAGAGTAGA\t30\t30\r\n",
      "INV005\tfastq\t../../raw_data/Rosie/INV005_S5_L001_R1_001.fastq.gz\t../../raw_data/Rosie/INV005_S5_L001_R2_001.fastq.gz\tTCGCCTTA\tGTAAGGAG\t30\t30\r\n",
      "INV006\tfastq\t../../raw_data/Rosie/INV006_S6_L001_R1_001.fastq.gz\t../../raw_data/Rosie/INV006_S6_L001_R2_001.fastq.gz\tTCGCCTTA\tACTGCATA\t30\t30\r\n",
      "INV007D\tfastq\t../../raw_data/Rosie/INV007D_S7_L001_R1_001.fastq.gz\t../../raw_data/Rosie/INV007D_S7_L001_R2_001.fastq.gz\tTCGCCTTA\tAAGGAGTA\t30\t30\r\n",
      "INV008D\tfastq\t../../raw_data/Rosie/INV008D_S8_L001_R1_001.fastq.gz\t../../raw_data/Rosie/INV008D_S8_L001_R2_001.fastq.gz\tTCGCCTTA\tCTAAGCCT\t30\t30\r\n",
      "INV009D\tfastq\t../../raw_data/Rosie/INV009D_S9_L001_R1_001.fastq.gz\t../../raw_data/Rosie/INV009D_S9_L001_R2_001.fastq.gz\tCTAGTACG\tTAGATCGC\t30\t30\r\n",
      "INV010\tfastq\t../../raw_data/Rosie/INV010_S10_L001_R1_001.fastq.gz\t../../raw_data/Rosie/INV010_S10_L001_R2_001.fastq.gz\tCTAGTACG\tCTCTCTAT\t30\t30\r\n"
     ]
    }
   ],
   "source": [
    "!head QUERYmap.txt"
   ]
  },
  {
   "cell_type": "markdown",
   "metadata": {},
   "source": [
    "Prepare list of reference files."
   ]
  },
  {
   "cell_type": "code",
   "execution_count": 5,
   "metadata": {
    "collapsed": false
   },
   "outputs": [],
   "source": [
    "%%bash\n",
    "\n",
    "for gb in $(ls -1 ../../1-download_references/*.gb | grep \"refseqs\" -v)\n",
    "do\n",
    "    echo -e \"$gb\\tgb\"\n",
    "done > REFlist.txt"
   ]
  },
  {
   "cell_type": "code",
   "execution_count": 6,
   "metadata": {
    "collapsed": false
   },
   "outputs": [
    {
     "name": "stdout",
     "output_type": "stream",
     "text": [
      "../../1-download_references/Gammarus_COI_Weiss_et_al_2013.gb\tgb\r\n",
      "../../1-download_references/positive_controls.gb\tgb\r\n"
     ]
    }
   ],
   "source": [
    "!cat REFlist.txt"
   ]
  },
  {
   "cell_type": "markdown",
   "metadata": {},
   "source": [
    "Run the metaBEAT pipeline."
   ]
  },
  {
   "cell_type": "code",
   "execution_count": 7,
   "metadata": {
    "collapsed": false
   },
   "outputs": [
    {
     "name": "stdout",
     "output_type": "stream",
     "text": [
      "0.97.7-global\r\n"
     ]
    }
   ],
   "source": [
    "!metaBEAT_global.py --version"
   ]
  },
  {
   "cell_type": "code",
   "execution_count": 8,
   "metadata": {
    "collapsed": false
   },
   "outputs": [],
   "source": [
    "!metaBEAT_global.py \\\n",
    "-Q QUERYmap.txt \\\n",
    "-R REFlist.txt \\\n",
    "--trim_minlength 100 \\\n",
    "--trim_qual 30 \\\n",
    "--merge --product_length 350 \\\n",
    "--forward_only \\\n",
    "--cluster --clust_match 0.97 --clust_cov 3 \\\n",
    "--length_filter 313 --length_deviation 0.05 \\\n",
    "--blast --min_ident 0.95 \\\n",
    "-m COI -n 3 -v -@ c.hahn@hull.ac.uk \\\n",
    "-o COI_160307_clip_trim-30_merge_forw-only_c0.97m3_blast_min0.85_GLOBAL > metaBEAT.log"
   ]
  },
  {
   "cell_type": "markdown",
   "metadata": {
    "collapsed": true
   },
   "source": [
    "A summary of the read counts throughout the read processing stages can be found in the file:\n",
    "\n",
    "`COI_160307_clip_trim-30_merge_forw-only_c0.97m3_blast_min0.85_GLOBAL_read_stats.csv`.\n",
    "\n",
    "The final OTU table can be found in the file: \n",
    "\n",
    "`GLOBAL/BLAST_0.95/COI_160307_clip_trim-30_merge_forw-only_c0.97m3_blast_min0.85_GLOBAL-by-taxonomy-readcounts.blast.tsv`.\n"
   ]
  },
  {
   "cell_type": "markdown",
   "metadata": {},
   "source": [
    "Extract from read stats file the proportions of reads have been removed by the minimum cluster size filter."
   ]
  },
  {
   "cell_type": "code",
   "execution_count": 71,
   "metadata": {
    "collapsed": false
   },
   "outputs": [
    {
     "name": "stdout",
     "output_type": "stream",
     "text": [
      "average proportion of reads removed by filter: 12.495 %\n",
      "average proportion of clusters removed by filter: 70.202 %\n"
     ]
    }
   ],
   "source": [
    "import numpy as np\n",
    "\n",
    "rp = []\n",
    "cp = []\n",
    "\n",
    "fh = open('COI_160307_clip_trim-30_merge_forw-only_c0.97m3_blast_min0.85_GLOBAL_read_stats.csv','r')\n",
    "fh.next()\n",
    "\n",
    "for l in fh:\n",
    "    r_prefilter = int(l.strip().split(\",\")[5])/2\n",
    "    c_prefilter = int(l.strip().split(\",\")[7])\n",
    "    r_postfilter = int(l.strip().split(\",\")[-1])\n",
    "    c_postfilter = int(l.strip().split(\",\")[-2])\n",
    "    \n",
    "#    print r_prefilter,r_postfilter\n",
    "    if not r_postfilter == 0:\n",
    "#        print r_prefilter,r_postfilter,100-float(r_postfilter)/r_prefilter*100\n",
    "#        print c_prefilter,c_postfilter,100-float(c_postfilter)/c_prefilter*100\n",
    "        rp.append(100-float(r_postfilter)/r_prefilter*100)\n",
    "        cp.append(100-float(c_postfilter)/c_prefilter*100)\n",
    "        \n",
    "print \"average proportion of reads removed by filter: %.3f %%\" %np.average(rp)\n",
    "print \"average proportion of clusters removed by filter: %.3f %%\" %np.average(cp)\n"
   ]
  },
  {
   "cell_type": "code",
   "execution_count": null,
   "metadata": {
    "collapsed": true
   },
   "outputs": [],
   "source": []
  },
  {
   "cell_type": "code",
   "execution_count": 72,
   "metadata": {
    "collapsed": true
   },
   "outputs": [],
   "source": [
    "import metaBEAT_global_misc_functions as mb"
   ]
  },
  {
   "cell_type": "markdown",
   "metadata": {},
   "source": [
    "Identify sites which contained reads assigned to _G. fossarum_ before filtering."
   ]
  },
  {
   "cell_type": "code",
   "execution_count": 73,
   "metadata": {
    "collapsed": false
   },
   "outputs": [
    {
     "name": "stdout",
     "output_type": "stream",
     "text": [
      "\n",
      "Specified BIOM input format 'json' - ok!\n",
      "BLANK-1.blast\t(16.9811 %)\n",
      "INV004D.blast\t(0.3456 %)\n",
      "INV005.blast\t(99.8875 %)\n",
      "INV010.blast\t(98.8542 %)\n",
      "INV019.blast\t(0.2357 %)\n",
      "INV021.blast\t(0.1204 %)\n",
      "INV027.blast\t(93.5046 %)\n",
      "INV028.blast\t(89.6334 %)\n",
      "INV029.blast\t(100.0000 %)\n",
      "INV030.blast\t(99.5250 %)\n",
      "INV031D.blast\t(19.8005 %)\n",
      "INV033.blast\t(1.6838 %)\n",
      "INV034D.blast\t(11.3552 %)\n",
      "INV035.blast\t(100.0000 %)\n",
      "INV036.blast\t(99.9187 %)\n",
      "INV037.blast\t(99.6670 %)\n",
      "INV038.blast\t(100.0000 %)\n",
      "INV039.blast\t(100.0000 %)\n",
      "INV040.blast\t(98.7659 %)\n",
      "INV041.blast\t(99.8786 %)\n",
      "INV042.blast\t(76.3237 %)\n",
      "INV043.blast\t(0.1853 %)\n",
      "INV049.blast\t(5.0641 %)\n",
      "INV053.blast\t(95.4602 %)\n",
      "INV055.blast\t(99.6733 %)\n",
      "INV056.blast\t(94.5860 %)\n",
      "INV057.blast\t(99.6347 %)\n",
      "INV058.blast\t(0.2272 %)\n",
      "INV059.blast\t(99.2910 %)\n",
      "INV060.blast\t(0.8555 %)\n",
      "INV062.blast\t(97.4181 %)\n",
      "INV063.blast\t(3.0410 %)\n",
      "SOI005.blast\t(12.0603 %)\n",
      "SOI024.blast\t(0.3726 %)\n",
      "SOI028.blast\t(0.3363 %)\n",
      "SOI029.blast\t(1.6717 %)\n",
      "SOI030.blast\t(0.0120 %)\n",
      "SOI031.blast\t(0.0069 %)\n",
      "SOI032.blast\t(0.1895 %)\n",
      "SOI035.blast\t(7.4979 %)\n",
      "SOI036.blast\t(0.2760 %)\n",
      "SOI037.blast\t(1.5997 %)\n",
      "SOI038.blast\t(2.1773 %)\n",
      "SOI039.blast\t(5.7220 %)\n",
      "SOI040.blast\t(1.6327 %)\n",
      "SOI055.blast\t(0.2353 %)\n",
      "SOI057.blast\t(18.0574 %)\n",
      "SOI062.blast\t(2.1505 %)\n",
      "WAT028.blast\t(0.1035 %)\n",
      "WAT029.blast\t(5.4529 %)\n",
      "WAT035.blast\t(8.4507 %)\n",
      "WAT036.blast\t(4.3562 %)\n",
      "WAT037.blast\t(13.5390 %)\n",
      "WAT038.blast\t(2.9046 %)\n",
      "WAT039.blast\t(4.1534 %)\n",
      "WAT040.blast\t(1.6793 %)\n",
      "WAT041.blast\t(55.3569 %)\n",
      "WAT056.blast\t(0.4165 %)\n",
      "WAT059D.blast\t(0.1845 %)\n",
      "WAT062D.blast\t(0.9911 %)\n"
     ]
    }
   ],
   "source": [
    "mb.find_target(BIOM=mb.load_BIOM('GLOBAL/BLAST_0.95/COI_160307_clip_trim-30_merge_forw-only_c0.97m3_blast_min0.85_GLOBAL-by-taxonomy-readcounts.blast.biom'), \n",
    "               target='Gammarus_fossarum')"
   ]
  },
  {
   "cell_type": "markdown",
   "metadata": {},
   "source": [
    "Filter raw OTU table - in a given sample remove OTUs that were not supported by at least 1% of the reads."
   ]
  },
  {
   "cell_type": "code",
   "execution_count": 81,
   "metadata": {
    "collapsed": false
   },
   "outputs": [
    {
     "name": "stdout",
     "output_type": "stream",
     "text": [
      "\n",
      "Specified BIOM input format 'json' - ok!\n",
      "\n",
      "Filtering at level: 1.0 %\n",
      "\n",
      "Removing 5600 OTUs for lack of support\n",
      "\n",
      "Writing 'filtered.biom'\n",
      "Writing 'filtered.tsv'\n",
      "Writing 'filtered-collapsed.biom'\n",
      "Writing 'filtered-collapsed.tsv'\n"
     ]
    }
   ],
   "source": [
    "#load raw OTU table\n",
    "to_filter = mb.load_BIOM(table='GLOBAL/BLAST_0.95/COI_160307_clip_trim-30_merge_forw-only_c0.97m3_blast_min0.85_GLOBAL-OTU-taxonomy.blast.biom')\n",
    "\n",
    "#filter at 1%\n",
    "filtered = mb.filter_BIOM_by_per_sample_read_prop(BIOM=to_filter, min_prop=0.01)\n",
    "\n",
    "#write to file\n",
    "mb.write_BIOM(filtered, target_prefix='filtered' )\n",
    "\n",
    "#collapse OTUs by taxonomy\n",
    "filtered_collapsed = mb.collapse_biom_by_taxonomy(in_table=filtered)\n",
    "\n",
    "#write to file\n",
    "mb.write_BIOM(filtered_collapsed, target_prefix='filtered-collapsed')"
   ]
  },
  {
   "cell_type": "markdown",
   "metadata": {},
   "source": [
    "Identify samples containing sequences assigned to _G. fossarum_."
   ]
  },
  {
   "cell_type": "code",
   "execution_count": 77,
   "metadata": {
    "collapsed": false
   },
   "outputs": [
    {
     "name": "stdout",
     "output_type": "stream",
     "text": [
      "BLANK-1.blast\t(16.9811 %)\n",
      "INV005.blast\t(100.0000 %)\n",
      "INV010.blast\t(100.0000 %)\n",
      "INV027.blast\t(95.2122 %)\n",
      "INV028.blast\t(90.8974 %)\n",
      "INV029.blast\t(100.0000 %)\n",
      "INV030.blast\t(100.0000 %)\n",
      "INV031D.blast\t(20.4174 %)\n",
      "INV033.blast\t(1.7705 %)\n",
      "INV034D.blast\t(11.9880 %)\n",
      "INV035.blast\t(100.0000 %)\n",
      "INV036.blast\t(100.0000 %)\n",
      "INV037.blast\t(100.0000 %)\n",
      "INV038.blast\t(100.0000 %)\n",
      "INV039.blast\t(100.0000 %)\n",
      "INV040.blast\t(100.0000 %)\n",
      "INV041.blast\t(100.0000 %)\n",
      "INV042.blast\t(77.0550 %)\n",
      "INV049.blast\t(5.4598 %)\n",
      "INV053.blast\t(98.1144 %)\n",
      "INV055.blast\t(100.0000 %)\n",
      "INV056.blast\t(94.5860 %)\n",
      "INV057.blast\t(100.0000 %)\n",
      "INV059.blast\t(100.0000 %)\n",
      "INV062.blast\t(98.7500 %)\n",
      "INV063.blast\t(3.2258 %)\n",
      "SOI005.blast\t(12.7321 %)\n",
      "SOI029.blast\t(1.8174 %)\n",
      "SOI035.blast\t(8.1596 %)\n",
      "SOI037.blast\t(1.7464 %)\n",
      "SOI038.blast\t(3.4930 %)\n",
      "SOI039.blast\t(6.1993 %)\n",
      "SOI040.blast\t(1.8638 %)\n",
      "SOI057.blast\t(25.7233 %)\n",
      "SOI062.blast\t(3.6036 %)\n",
      "WAT029.blast\t(7.9436 %)\n",
      "WAT035.blast\t(11.7241 %)\n",
      "WAT036.blast\t(7.8764 %)\n",
      "WAT037.blast\t(24.8268 %)\n",
      "WAT038.blast\t(4.8209 %)\n",
      "WAT039.blast\t(5.6893 %)\n",
      "WAT040.blast\t(3.4936 %)\n",
      "WAT041.blast\t(70.7878 %)\n"
     ]
    }
   ],
   "source": [
    "mb.find_target(filtered_collapsed, target='Gammarus_fossarum')"
   ]
  },
  {
   "cell_type": "markdown",
   "metadata": {},
   "source": [
    "Identify samples containing sequences assigned to _G. fossarum_."
   ]
  },
  {
   "cell_type": "code",
   "execution_count": 78,
   "metadata": {
    "collapsed": false
   },
   "outputs": [
    {
     "name": "stdout",
     "output_type": "stream",
     "text": [
      "BLANK-1.blast\t(62.8931 %)\n",
      "INV011.blast\t(81.1340 %)\n",
      "INV013.blast\t(20.7633 %)\n",
      "INV015.blast\t(16.6021 %)\n",
      "INV016.blast\t(56.4469 %)\n",
      "INV017.blast\t(3.2396 %)\n",
      "INV018.blast\t(8.0049 %)\n",
      "INV019.blast\t(18.4542 %)\n",
      "INV021.blast\t(68.8352 %)\n",
      "INV023.blast\t(100.0000 %)\n",
      "INV025.blast\t(50.0000 %)\n",
      "INV026.blast\t(39.3834 %)\n",
      "INV042.blast\t(5.1437 %)\n",
      "INV043.blast\t(54.0541 %)\n",
      "INV044.blast\t(16.1581 %)\n",
      "INV046.blast\t(4.1423 %)\n",
      "INV048.blast\t(12.3082 %)\n",
      "INV049.blast\t(5.8096 %)\n",
      "INV050.blast\t(1.8329 %)\n",
      "INV051.blast\t(91.4938 %)\n",
      "INV052.blast\t(70.9160 %)\n",
      "INV054.blast\t(65.6038 %)\n",
      "INV056.blast\t(4.1401 %)\n",
      "INV058.blast\t(1.4144 %)\n",
      "INV060.blast\t(76.6568 %)\n",
      "INV061.blast\t(15.2616 %)\n",
      "INV063.blast\t(20.0000 %)\n",
      "INV064.blast\t(4.0670 %)\n"
     ]
    }
   ],
   "source": [
    "mb.find_target(filtered_collapsed, target='Gammarus_pulex')"
   ]
  },
  {
   "cell_type": "code",
   "execution_count": null,
   "metadata": {
    "collapsed": true
   },
   "outputs": [],
   "source": []
  }
 ],
 "metadata": {
  "kernelspec": {
   "display_name": "Python 2",
   "language": "python",
   "name": "python2"
  },
  "language_info": {
   "codemirror_mode": {
    "name": "ipython",
    "version": 2
   },
   "file_extension": ".py",
   "mimetype": "text/x-python",
   "name": "python",
   "nbconvert_exporter": "python",
   "pygments_lexer": "ipython2",
   "version": "2.7.6"
  }
 },
 "nbformat": 4,
 "nbformat_minor": 0
}
