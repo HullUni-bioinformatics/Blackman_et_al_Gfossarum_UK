{
 "cells": [
  {
   "cell_type": "markdown",
   "metadata": {},
   "source": [
    "### Illumina read processing and taxonomic classification of query sequences ##"
   ]
  },
  {
   "cell_type": "markdown",
   "metadata": {},
   "source": [
    "We are using our custom pipeline [metaBEAT](https://github.com/HullUni-bioinformatics/metaBEAT) to process the Illumina data and taxonomically identify query sequences. \n",
    "\n",
    "For full reproducibility metaBEAT was run inside a docker container - [here](https://hub.docker.com/r/chrishah/metabeat/).\n",
    "\n",
    "After initial read quality trimming, -merging and clustering, query sequences are blasted against a custom reference database composed of COI sequences of _Gammarus_ sp. as well as the positive controls _Harmonia axyridis_ and _Triops cancriformis_ (all downloaded from Genbank as described [here]()). Taxonomic assignment was perfored using a lowest commong ancestor (LCA) approach based on the BLAST results, as described in the paper.\n",
    "\n",
    "The file `Querymap.txt` contains the sampleIDs and the location of the Illumina read files, plus the barcodes and instructions to clip off the first 30 bases of both the forward and reverse reads, in order to remove any primers.\n",
    "\n",
    "The file `REFlist.txt` points towards the reference sequences."
   ]
  },
  {
   "cell_type": "code",
   "execution_count": 1,
   "metadata": {
    "collapsed": false
   },
   "outputs": [],
   "source": [
    "%%bash\n",
    "\n",
    "for gb in $(ls -1 ../../1-download_reference/*.gb)\n",
    "do\n",
    "    echo -e \"$gb\\tgb\"\n",
    "done > REFlist.txt"
   ]
  },
  {
   "cell_type": "code",
   "execution_count": 2,
   "metadata": {
    "collapsed": false
   },
   "outputs": [
    {
     "name": "stdout",
     "output_type": "stream",
     "text": [
      "../../1-download_reference/Gammarus_COI_Weiss_et_al_2013.gb\tgb\r\n",
      "../../1-download_reference/positive_controls.gb\tgb\r\n"
     ]
    }
   ],
   "source": [
    "!cat REFlist.txt"
   ]
  },
  {
   "cell_type": "markdown",
   "metadata": {},
   "source": [
    "Run the metaBEAT pipeline."
   ]
  },
  {
   "cell_type": "code",
   "execution_count": 4,
   "metadata": {
    "collapsed": false
   },
   "outputs": [],
   "source": [
    "!metaBEAT_global.py \\\n",
    "-Q QUERYmap.txt \\\n",
    "-R REFlist.txt \\\n",
    "--trim_minlength 100 \\\n",
    "--trim_qual 30 \\\n",
    "--merge --product_length 350 \\\n",
    "--forward_only \\\n",
    "--cluster --clust_match 0.97 --clust_cov 3 \\\n",
    "--length_filter 313 --length_deviation 0.05 \\\n",
    "--blast --min_ident 0.95 \\\n",
    "-m COI -n 5 \\\n",
    "-o COI_160307_clip_trim-30_merge_forw-only_c0.97m3_blast_min0.85_GLOBAL > metaBEAT.log"
   ]
  },
  {
   "cell_type": "markdown",
   "metadata": {
    "collapsed": true
   },
   "source": [
    "A summary of the read counts throughout the read processing stages can be found in the file:\n",
    "\n",
    "`COI_160307_clip_trim-30_merge_forw-only_c0.97m3_blast_min0.85_GLOBAL_read_stats.csv`.\n",
    "\n",
    "The final OTU table can be found in the file: \n",
    "\n",
    "`GLOBAL/BLAST_0.95/COI_160307_clip_trim-30_merge_forw-only_c0.97m3_blast_min0.85_GLOBAL-by-taxonomy-readcounts.blast.tsv`.\n"
   ]
  },
  {
   "cell_type": "code",
   "execution_count": 5,
   "metadata": {
    "collapsed": true
   },
   "outputs": [],
   "source": [
    "import metaBEAT_global_misc_functions as mb"
   ]
  },
  {
   "cell_type": "markdown",
   "metadata": {},
   "source": [
    "Identify sites which contained reads assigned to _G. fossarum_ before filtering."
   ]
  },
  {
   "cell_type": "code",
   "execution_count": 6,
   "metadata": {
    "collapsed": false
   },
   "outputs": [
    {
     "name": "stdout",
     "output_type": "stream",
     "text": [
      "BLANK-1\t(16.9811 %)\n",
      "INV004D\t(0.3456 %)\n",
      "INV005\t(99.8875 %)\n",
      "INV010\t(98.8542 %)\n",
      "INV019\t(0.2357 %)\n",
      "INV021\t(0.1204 %)\n",
      "INV027\t(93.5046 %)\n",
      "INV028\t(89.6334 %)\n",
      "INV029\t(100.0000 %)\n",
      "INV030\t(99.5250 %)\n",
      "INV031D\t(19.8005 %)\n",
      "INV033\t(1.6838 %)\n",
      "INV034D\t(11.3552 %)\n",
      "INV035\t(100.0000 %)\n",
      "INV036\t(99.9187 %)\n",
      "INV037\t(99.6670 %)\n",
      "INV038\t(100.0000 %)\n",
      "INV039\t(100.0000 %)\n",
      "INV040\t(98.7659 %)\n",
      "INV041\t(99.8786 %)\n",
      "INV042\t(76.3237 %)\n",
      "INV043\t(0.1853 %)\n",
      "INV049\t(5.0641 %)\n",
      "INV053\t(95.4602 %)\n",
      "INV055\t(99.6733 %)\n",
      "INV056\t(94.5860 %)\n",
      "INV057\t(99.6347 %)\n",
      "INV058\t(0.2272 %)\n",
      "INV059\t(99.2910 %)\n",
      "INV060\t(0.8555 %)\n",
      "INV062\t(97.4181 %)\n",
      "INV063\t(3.0410 %)\n",
      "SOI005\t(12.0603 %)\n",
      "SOI024\t(0.3726 %)\n",
      "SOI028\t(0.3363 %)\n",
      "SOI029\t(1.6717 %)\n",
      "SOI030\t(0.0120 %)\n",
      "SOI031\t(0.0069 %)\n",
      "SOI032\t(0.1895 %)\n",
      "SOI035\t(7.4979 %)\n",
      "SOI036\t(0.2760 %)\n",
      "SOI037\t(1.5997 %)\n",
      "SOI038\t(2.1773 %)\n",
      "SOI039\t(5.7220 %)\n",
      "SOI040\t(1.6327 %)\n",
      "SOI055\t(0.2353 %)\n",
      "SOI057\t(18.0574 %)\n",
      "SOI062\t(2.1505 %)\n",
      "WAT028\t(0.1035 %)\n",
      "WAT029\t(5.4529 %)\n",
      "WAT035\t(8.4507 %)\n",
      "WAT036\t(4.3562 %)\n",
      "WAT037\t(13.5390 %)\n",
      "WAT038\t(2.9046 %)\n",
      "WAT039\t(4.1534 %)\n",
      "WAT040\t(1.6793 %)\n",
      "WAT041\t(55.3569 %)\n",
      "WAT056\t(0.4165 %)\n",
      "WAT059D\t(0.1845 %)\n",
      "WAT062D\t(0.9911 %)\n"
     ]
    }
   ],
   "source": [
    "mb.find_target(BIOM=mb.load_BIOM('GLOBAL/BLAST_0.95/COI_160307_clip_trim-30_merge_forw-only_c0.97m3_blast_min0.85_GLOBAL-by-taxonomy-readcounts.blast.biom'), target='Gammarus_fossarum')"
   ]
  },
  {
   "cell_type": "markdown",
   "metadata": {},
   "source": [
    "Filter raw OTU table - in a given sample remove OTUs that were not supported by at least 1% of the reads."
   ]
  },
  {
   "cell_type": "code",
   "execution_count": 7,
   "metadata": {
    "collapsed": false
   },
   "outputs": [
    {
     "name": "stdout",
     "output_type": "stream",
     "text": [
      "\n",
      "Filtering at level: 1.0 %\n",
      "\n",
      "Removing 5600 OTUs for lack of support\n",
      "\n"
     ]
    }
   ],
   "source": [
    "#load raw OTU table\n",
    "to_filter = mb.load_BIOM(table='GLOBAL/BLAST_0.95/COI_160307_clip_trim-30_merge_forw-only_c0.97m3_blast_min0.85_GLOBAL-OTU-taxonomy.blast.biom')\n",
    "\n",
    "#filter at 1%\n",
    "filtered = mb.filter_BIOM_by_per_sample_read_prop(BIOM=to_filter, min_prop=0.01)\n",
    "\n",
    "#write to file\n",
    "mb.write_BIOM(filtered, target_file='filtered' )\n",
    "\n",
    "#collapse OTUs by taxonomy\n",
    "filtered_collapsed = mb.collapse_biom_by_taxonomy(in_table=filtered)\n",
    "\n",
    "#write to file\n",
    "mb.write_BIOM(filtered_collapsed, target_file='filtered-collapsed' )"
   ]
  },
  {
   "cell_type": "markdown",
   "metadata": {},
   "source": [
    "Identify samples containing sequences assigned to _G. fossarum_."
   ]
  },
  {
   "cell_type": "code",
   "execution_count": 8,
   "metadata": {
    "collapsed": false
   },
   "outputs": [
    {
     "name": "stdout",
     "output_type": "stream",
     "text": [
      "BLANK-1\t(16.9811 %)\n",
      "INV005\t(100.0000 %)\n",
      "INV010\t(100.0000 %)\n",
      "INV027\t(95.2122 %)\n",
      "INV028\t(90.8974 %)\n",
      "INV029\t(100.0000 %)\n",
      "INV030\t(100.0000 %)\n",
      "INV031D\t(20.4174 %)\n",
      "INV033\t(1.7705 %)\n",
      "INV034D\t(11.9880 %)\n",
      "INV035\t(100.0000 %)\n",
      "INV036\t(100.0000 %)\n",
      "INV037\t(100.0000 %)\n",
      "INV038\t(100.0000 %)\n",
      "INV039\t(100.0000 %)\n",
      "INV040\t(100.0000 %)\n",
      "INV041\t(100.0000 %)\n",
      "INV042\t(77.0550 %)\n",
      "INV049\t(5.4598 %)\n",
      "INV053\t(98.1144 %)\n",
      "INV055\t(100.0000 %)\n",
      "INV056\t(94.5860 %)\n",
      "INV057\t(100.0000 %)\n",
      "INV059\t(100.0000 %)\n",
      "INV062\t(98.7500 %)\n",
      "INV063\t(3.2258 %)\n",
      "SOI005\t(12.7321 %)\n",
      "SOI029\t(1.8174 %)\n",
      "SOI035\t(8.1596 %)\n",
      "SOI037\t(1.7464 %)\n",
      "SOI038\t(3.4930 %)\n",
      "SOI039\t(6.1993 %)\n",
      "SOI040\t(1.8638 %)\n",
      "SOI057\t(25.7233 %)\n",
      "SOI062\t(3.6036 %)\n",
      "WAT029\t(7.9436 %)\n",
      "WAT035\t(11.7241 %)\n",
      "WAT036\t(7.8764 %)\n",
      "WAT037\t(24.8268 %)\n",
      "WAT038\t(4.8209 %)\n",
      "WAT039\t(5.6893 %)\n",
      "WAT040\t(3.4936 %)\n",
      "WAT041\t(70.7878 %)\n"
     ]
    }
   ],
   "source": [
    "mb.find_target(filtered_collapsed, target='Gammarus_fossarum')"
   ]
  },
  {
   "cell_type": "markdown",
   "metadata": {},
   "source": [
    "Identify samples containing sequences assigned to _G. fossarum_."
   ]
  },
  {
   "cell_type": "code",
   "execution_count": 9,
   "metadata": {
    "collapsed": false
   },
   "outputs": [
    {
     "name": "stdout",
     "output_type": "stream",
     "text": [
      "BLANK-1\t(62.8931 %)\n",
      "INV011\t(81.1340 %)\n",
      "INV013\t(20.7633 %)\n",
      "INV015\t(16.6021 %)\n",
      "INV016\t(56.4469 %)\n",
      "INV017\t(3.2396 %)\n",
      "INV018\t(8.0049 %)\n",
      "INV019\t(18.4542 %)\n",
      "INV021\t(68.8352 %)\n",
      "INV023\t(100.0000 %)\n",
      "INV025\t(50.0000 %)\n",
      "INV026\t(39.3834 %)\n",
      "INV042\t(5.1437 %)\n",
      "INV043\t(54.0541 %)\n",
      "INV044\t(16.1581 %)\n",
      "INV046\t(4.1423 %)\n",
      "INV048\t(12.3082 %)\n",
      "INV049\t(5.8096 %)\n",
      "INV050\t(1.8329 %)\n",
      "INV051\t(91.4938 %)\n",
      "INV052\t(70.9160 %)\n",
      "INV054\t(65.6038 %)\n",
      "INV056\t(4.1401 %)\n",
      "INV058\t(1.4144 %)\n",
      "INV060\t(76.6568 %)\n",
      "INV061\t(15.2616 %)\n",
      "INV063\t(20.0000 %)\n",
      "INV064\t(4.0670 %)\n"
     ]
    }
   ],
   "source": [
    "mb.find_target(filtered_collapsed, target='Gammarus_pulex')"
   ]
  }
 ],
 "metadata": {
  "kernelspec": {
   "display_name": "Python 2",
   "language": "python",
   "name": "python2"
  },
  "language_info": {
   "codemirror_mode": {
    "name": "ipython",
    "version": 2
   },
   "file_extension": ".py",
   "mimetype": "text/x-python",
   "name": "python",
   "nbconvert_exporter": "python",
   "pygments_lexer": "ipython2",
   "version": "2.7.6"
  }
 },
 "nbformat": 4,
 "nbformat_minor": 0
}
