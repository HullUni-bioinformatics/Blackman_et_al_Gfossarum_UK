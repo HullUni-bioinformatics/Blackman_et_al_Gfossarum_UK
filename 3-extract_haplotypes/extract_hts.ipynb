{
 "cells": [
  {
   "cell_type": "markdown",
   "metadata": {},
   "source": [
    "### Extract _Gammarus_ sp. haplotypes from metabarcoding data."
   ]
  },
  {
   "cell_type": "markdown",
   "metadata": {},
   "source": [
    "Import functions."
   ]
  },
  {
   "cell_type": "code",
   "execution_count": 1,
   "metadata": {
    "collapsed": true
   },
   "outputs": [],
   "source": [
    "import metaBEAT_global_misc_functions as mb"
   ]
  },
  {
   "cell_type": "markdown",
   "metadata": {},
   "source": [
    "Extract OTU ids for relevant species."
   ]
  },
  {
   "cell_type": "code",
   "execution_count": 2,
   "metadata": {
    "collapsed": false
   },
   "outputs": [
    {
     "name": "stdout",
     "output_type": "stream",
     "text": [
      "SEARCH TERM: 'Gammarus_fossarum'\n",
      "Found taxonomy metadata with OTUs - ok!\n",
      "Screening at taxonomic level: 'species'\n",
      "\n",
      "\n",
      "Identified 1 OTU(s) assigned to 'Gammarus_fossarum'.\n",
      "SEARCH TERM: 'Gammarus_pulex'\n",
      "Found taxonomy metadata with OTUs - ok!\n",
      "Screening at taxonomic level: 'species'\n",
      "\n",
      "\n",
      "Identified 1 OTU(s) assigned to 'Gammarus_pulex'.\n",
      "\n",
      "{'Gammarus_pulex': [u'INV049|1_2107_17799_10892_1_ex'], 'Gammarus_fossarum': [u'INV010|1_2109_14978_12581_1_ex']}\n",
      "\n",
      "OTU list:\n",
      "[u'INV049|1_2107_17799_10892_1_ex', u'INV010|1_2109_14978_12581_1_ex']\n"
     ]
    }
   ],
   "source": [
    "OTU_table = mb.load_BIOM('../2-metaBEAT/clip-trim-30_merge_forw-only_c0.97m3_blast_min0.85_GLOBAL-latest/filtered.biom')\n",
    "\n",
    "dictionary = mb.find_target_OTUs_by_taxonomy(OTU_table, target='Gammarus_fossarum', level='species')\n",
    "\n",
    "OTUs = {}\n",
    "OTUs['Gammarus_fossarum'] = dictionary.keys()\n",
    "\n",
    "dictionary = mb.find_target_OTUs_by_taxonomy(OTU_table, target='Gammarus_pulex', level='species')\n",
    "\n",
    "OTUs['Gammarus_pulex'] = dictionary.keys()\n",
    "\n",
    "print \"\"\n",
    "print OTUs\n",
    "\n",
    "\n",
    "OTUs_as_list = []\n",
    "for sp in OTUs:\n",
    "    OTUs_as_list.extend(OTUs[sp])\n",
    "\n",
    "print \"\\nOTU list:\"\n",
    "print OTUs_as_list"
   ]
  },
  {
   "cell_type": "markdown",
   "metadata": {},
   "source": [
    "Identify samples contributing to each of the OTUs."
   ]
  },
  {
   "cell_type": "code",
   "execution_count": 3,
   "metadata": {
    "collapsed": false
   },
   "outputs": [
    {
     "name": "stdout",
     "output_type": "stream",
     "text": [
      "INV010|1_2109_14978_12581_1_ex 43\n",
      "INV049|1_2107_17799_10892_1_ex 28\n"
     ]
    }
   ],
   "source": [
    "per_OTU_samples={}\n",
    "\n",
    "samples = OTU_table.ids(axis='sample')\n",
    "\n",
    "for OTU in OTUs_as_list:\n",
    "#    print OTU\n",
    "    per_OTU_samples[OTU] = []\n",
    "    obs = OTU_table.data(OTU, axis='observation')\n",
    "    for i in range(len(obs)):\n",
    "        if int(obs[i]) > 0:\n",
    "#            print \"\\t%s\" %samples[i]\n",
    "            per_OTU_samples[OTU].append(samples[i])\n",
    "\n",
    "for OTU in per_OTU_samples:\n",
    "    print OTU,len(per_OTU_samples[OTU])"
   ]
  },
  {
   "cell_type": "markdown",
   "metadata": {},
   "source": [
    "Identify centroids for the relevant OTUs."
   ]
  },
  {
   "cell_type": "code",
   "execution_count": 4,
   "metadata": {
    "collapsed": false
   },
   "outputs": [
    {
     "name": "stdout",
     "output_type": "stream",
     "text": [
      "INV010|1_2109_14978_12581_1_ex 43\n",
      "INV049|1_2107_17799_10892_1_ex 28\n",
      "#######\n",
      "\n",
      "INV010|1_2109_14978_12581_1_ex 48\n",
      "\tBLANK-1|1_2101_9027_9556_1_ex\n",
      "\tINV005|1_1106_18377_11598_1_ex\n",
      "\tINV010|1_2109_14978_12581_1_ex\n",
      "\tINV027|1_1107_16209_9821_1_ex\n",
      "\tINV028|1_2114_10440_22302_1_ex\n",
      "\tINV029|1_1101_28409_12373_1_ex\n",
      "\tINV030|1_1106_14472_24032_1_ex\n",
      "\tINV031D|1_1103_3131_11859_1_ex\n",
      "\tINV033|1_1104_13337_5897_1_ex\n",
      "\tINV034D|1_1106_13703_15463_1_ex\n",
      "\tINV035|1_2110_28465_13888_1_ex\n",
      "\tINV036|1_1112_25865_20502_1_ex\n",
      "\tINV037|1_1105_10909_24517_1_ex\n",
      "\tINV038|1_1106_12622_16967_1_ex\n",
      "\tINV039|1_1102_27662_21209_1_ex\n",
      "\tINV040|1_1107_17072_25379_1_ex\n",
      "\tINV041|1_1104_21482_9292_1_ex\n",
      "\tINV041|1_2103_8694_15742_1_ex\n",
      "\tINV041|1_2112_26301_17798_1_ex\n",
      "\tINV042|1_2107_16725_11828_1_ex\n",
      "\tINV049|1_1103_24362_13935_1_ex\n",
      "\tINV053|1_2110_9028_9223_1_ex\n",
      "\tINV055|1_1103_14425_5743_1_ex\n",
      "\tINV056|1_1107_16230_7411_1_ex\n",
      "\tINV057|1_1101_11216_15815_1_ex\n",
      "\tINV059|1_1107_8049_11919_1_ex\n",
      "\tINV059|1_2114_14976_14354_1_ex\n",
      "\tINV062|1_1104_24665_13340_1_ex\n",
      "\tINV062|1_1106_12640_10265_1_ex\n",
      "\tINV063|1_1102_21669_19849_1_ex\n",
      "\tINV063|1_2114_18748_17425_1_ex\n",
      "\tSOI005|1_1106_22622_9858_1_ex\n",
      "\tSOI029|1_1101_11654_7487_1_ex\n",
      "\tSOI035|1_1101_19166_9941_1_ex\n",
      "\tSOI037|1_2104_23191_10887_1_ex\n",
      "\tSOI038|1_2113_17451_4938_1_ex\n",
      "\tSOI039|1_1104_25031_8068_1_ex\n",
      "\tSOI040|1_2109_14768_25125_1_ex\n",
      "\tSOI057|1_2102_11492_11054_1_ex\n",
      "\tSOI062|1_1102_10235_23337_1_ex\n",
      "\tWAT029|1_1105_12227_21340_1_ex\n",
      "\tWAT035|1_1111_13843_6328_1_ex\n",
      "\tWAT036|1_1103_15482_21372_1_ex\n",
      "\tWAT037|1_2107_22741_19391_1_ex\n",
      "\tWAT038|1_1102_16719_16487_1_ex\n",
      "\tWAT039|1_1111_22992_25295_1_ex\n",
      "\tWAT040|1_1102_16001_17971_1_ex\n",
      "\tWAT041|1_1104_23332_14571_1_ex\n",
      "INV049|1_2107_17799_10892_1_ex 32\n",
      "\tBLANK-1|1_1102_11370_2649_1_ex\n",
      "\tBLANK-1|1_1109_8988_10312_1_ex\n",
      "\tBLANK-1|1_2111_7410_18010_1_ex\n",
      "\tINV011|1_2103_25498_11893_1_ex\n",
      "\tINV013|1_1101_27068_10038_1_ex\n",
      "\tINV015|1_1112_15826_13498_1_ex\n",
      "\tINV016|1_1111_25608_6565_1_ex\n",
      "\tINV017|1_1109_10283_8984_1_ex\n",
      "\tINV018|1_1102_12328_25835_1_ex\n",
      "\tINV019|1_1114_10840_13308_1_ex\n",
      "\tINV021|1_2105_26990_14476_1_ex\n",
      "\tINV023|1_1107_19300_15791_1_ex\n",
      "\tINV025|1_1101_14417_18746_1_ex\n",
      "\tINV025|1_2111_26324_15085_1_ex\n",
      "\tINV026|1_1101_27949_17244_1_ex\n",
      "\tINV042|1_1106_16486_14466_1_ex\n",
      "\tINV043|1_1101_12887_24094_1_ex\n",
      "\tINV044|1_1102_14457_5375_1_ex\n",
      "\tINV044|1_1108_12132_11060_1_ex\n",
      "\tINV046|1_1101_13182_25499_1_ex\n",
      "\tINV048|1_1103_16666_18248_1_ex\n",
      "\tINV049|1_2107_17799_10892_1_ex\n",
      "\tINV050|1_1104_10364_17688_1_ex\n",
      "\tINV051|1_1104_7901_6284_1_ex\n",
      "\tINV052|1_1111_15041_18571_1_ex\n",
      "\tINV054|1_1101_22601_23084_1_ex\n",
      "\tINV056|1_1103_7488_23092_1_ex\n",
      "\tINV058|1_1102_21658_8372_1_ex\n",
      "\tINV060|1_1111_17998_8529_1_ex\n",
      "\tINV061|1_1107_22150_26420_1_ex\n",
      "\tINV063|1_1102_16736_25357_1_ex\n",
      "\tINV064|1_1111_7619_8440_1_ex\n"
     ]
    }
   ],
   "source": [
    "per_OTU_centroids={}\n",
    "\n",
    "for OTU in per_OTU_samples:\n",
    "    print OTU,len(per_OTU_samples[OTU])\n",
    "print \"#######\\n\"\n",
    "\n",
    "uc=open('../2-metaBEAT/clip-trim-30_merge_forw-only_c0.97m3_blast_min0.85_GLOBAL-latest/GLOBAL/global.uc', 'r')\n",
    "\n",
    "for line in uc:\n",
    "    if line.startswith('H'):\n",
    "        if line.strip().split(\"\\t\")[9] in OTUs_as_list:\n",
    "#            print \"hit: %s\\t%s\" %(line.strip().split(\"\\t\")[9],line.strip().split(\"\\t\")[8])\n",
    "            if not per_OTU_centroids.has_key(line.strip().split(\"\\t\")[9]):\n",
    "                per_OTU_centroids[line.strip().split(\"\\t\")[9]]=[line.strip().split(\"\\t\")[9]]\n",
    "                \n",
    "            if line.strip().split(\"\\t\")[8].split(\"|\")[0] in per_OTU_samples[line.strip().split(\"\\t\")[9]]:\n",
    "                per_OTU_centroids[line.strip().split(\"\\t\")[9]].append(line.strip().split(\"\\t\")[8])\n",
    "\n",
    "uc.close()\n",
    "\n",
    "#print per_OTU_centroids\n",
    "\n",
    "for OTU in per_OTU_centroids:\n",
    "    print OTU,str(len(per_OTU_centroids[OTU]))\n",
    "    for c in sorted(per_OTU_centroids[OTU]):\n",
    "        print \"\\t\"+c\n",
    "#print per_OTU_centroids"
   ]
  },
  {
   "cell_type": "markdown",
   "metadata": {},
   "source": [
    "Specify a unique haplotype id for each OTU."
   ]
  },
  {
   "cell_type": "code",
   "execution_count": 5,
   "metadata": {
    "collapsed": false
   },
   "outputs": [
    {
     "name": "stdout",
     "output_type": "stream",
     "text": [
      "[u'INV049|1_2107_17799_10892_1_ex', u'INV010|1_2109_14978_12581_1_ex']\n",
      "['Gammarus_pulex_0_MB', 'Gammarus_fossarum_0_MB']\n"
     ]
    }
   ],
   "source": [
    "OTUs_synonyms = []\n",
    "for sp in OTUs:\n",
    "    count=0\n",
    "#    OTUs_as_list.extend(OTUs[sp])\n",
    "    \n",
    "    for otu in OTUs[sp]:\n",
    "        OTUs_synonyms.append(sp+'_'+str(count)+'_MB')\n",
    "        count+=1\n",
    "    \n",
    "print OTUs_as_list\n",
    "print OTUs_synonyms"
   ]
  },
  {
   "cell_type": "markdown",
   "metadata": {},
   "source": [
    "Identify samples contributing to each of the OTUs."
   ]
  },
  {
   "cell_type": "code",
   "execution_count": 6,
   "metadata": {
    "collapsed": false
   },
   "outputs": [
    {
     "name": "stdout",
     "output_type": "stream",
     "text": [
      "\n",
      "INV010|1_2109_14978_12581_1_ex 43 ['BLANK-1', 'INV005', 'INV010', 'INV027', 'INV028', 'INV029', 'INV030', 'INV031D', 'INV033', 'INV034D', 'INV035', 'INV036', 'INV037', 'INV038', 'INV039', 'INV040', 'INV041', 'INV042', 'INV049', 'INV053', 'INV055', 'INV056', 'INV057', 'INV059', 'INV062', 'INV063', 'SOI005', 'SOI029', 'SOI035', 'SOI037', 'SOI038', 'SOI039', 'SOI040', 'SOI057', 'SOI062', 'WAT029', 'WAT035', 'WAT036', 'WAT037', 'WAT038', 'WAT039', 'WAT040', 'WAT041']\n",
      "\n",
      "INV049|1_2107_17799_10892_1_ex 28 ['BLANK-1', 'INV011', 'INV013', 'INV015', 'INV016', 'INV017', 'INV018', 'INV019', 'INV021', 'INV023', 'INV025', 'INV026', 'INV042', 'INV043', 'INV044', 'INV046', 'INV048', 'INV049', 'INV050', 'INV051', 'INV052', 'INV054', 'INV056', 'INV058', 'INV060', 'INV061', 'INV063', 'INV064']\n"
     ]
    }
   ],
   "source": [
    "per_OTU_samples={}\n",
    "            \n",
    "for otu in per_OTU_centroids:\n",
    "    per_OTU_samples[otu] = []\n",
    "    for centroid in per_OTU_centroids[otu]:\n",
    "        per_OTU_samples[otu].append(centroid.split(\"|\")[0])\n",
    "    \n",
    "\n",
    "    per_OTU_samples[otu]=list(set(per_OTU_samples[otu]))\n",
    "    print \"\\n\"+otu,len(per_OTU_samples[otu]),sorted(per_OTU_samples[otu])\n"
   ]
  },
  {
   "cell_type": "markdown",
   "metadata": {},
   "source": [
    "Create global fasta file containing all reads for each OTU and also create separate fasta files containing all sequences contributing to the same OTU per sample."
   ]
  },
  {
   "cell_type": "code",
   "execution_count": 7,
   "metadata": {
    "collapsed": false
   },
   "outputs": [
    {
     "name": "stdout",
     "output_type": "stream",
     "text": [
      "OTU: INV049|1_2107_17799_10892_1_ex -> Gammarus_pulex_0_MB.fa\n",
      "OTU: INV010|1_2109_14978_12581_1_ex -> Gammarus_fossarum_0_MB.fa\n"
     ]
    }
   ],
   "source": [
    "\n",
    "from Bio import SeqIO\n",
    "\n",
    "for i in range(len(OTUs_as_list)):\n",
    "    otu=OTUs_as_list[i]\n",
    "    syn=OTUs_synonyms[i]\n",
    "    print \"OTU: %s -> %s.fa\" %(otu,syn)\n",
    "    read_ids_per_OTU=[]\n",
    "    seqs_per_OTU=[]\n",
    "    for sample in per_OTU_samples[otu]:\n",
    "        seqs_per_sample=[]\n",
    "#        print \"Sample: %s\" %sample\n",
    "        read_ids=[]\n",
    "        #collect relevant centroids\n",
    "        centroids=[]\n",
    "        for c in per_OTU_centroids[otu]:\n",
    "#            print c\n",
    "            if c.startswith(sample+'|'):\n",
    "                for c_ind in c.split(\"|\")[1:]:\n",
    "                    centroids.append(c_ind)\n",
    "                \n",
    "#        print \"Cenroids: %s\" %centroids\n",
    "        \n",
    "        #extract read ids from uc file\n",
    "        read_ids.extend(centroids[:])\n",
    "        uc=open('../2-metaBEAT/clip-trim-30_merge_forw-only_c0.97m3_blast_min0.85_GLOBAL-latest/'+sample+'/'+sample+'.uc', 'r')\n",
    "        for line in uc:\n",
    "            if line.startswith('H'):\n",
    "                if line.strip().split(\"\\t\")[9] in centroids:\n",
    "#                    print line\n",
    "                    read_ids.append(line.strip().split(\"\\t\")[8])\n",
    "        uc.close()            \n",
    "#        print \"READ IDS: %i\" %len(read_ids)\n",
    "        \n",
    "        #extract reads and write to seqrec object\n",
    "        \n",
    "        fasta=open('../2-metaBEAT/clip-trim-30_merge_forw-only_c0.97m3_blast_min0.85_GLOBAL-latest/'+sample+'/'+sample+'_trimmed.fasta', 'r')\n",
    "        for r in SeqIO.parse(fasta, 'fasta'):\n",
    "            if r.id in read_ids:\n",
    "                r.id = sample+'|'+r.id\n",
    "                r.description = r.id\n",
    "                seqs_per_sample.append(r)\n",
    "                \n",
    "            \n",
    "        fasta.close()\n",
    "        \n",
    "        out=open(sample+'_'+syn+'.fasta', 'w')\n",
    "        SeqIO.write(seqs_per_sample, out, 'fasta')\n",
    "        out.close()\n",
    "        \n",
    "        seqs_per_OTU.extend(seqs_per_sample[:])\n",
    "        \n",
    "        \n",
    "    #Write out global fasta per OTU, containing all reads across all samples\n",
    "    out=open(syn+'.fa', 'w')\n",
    "    SeqIO.write(seqs_per_OTU, out, 'fasta')\n",
    "    out.close()"
   ]
  },
  {
   "cell_type": "markdown",
   "metadata": {},
   "source": [
    "For each OTU cluster all reads at 100% identity per sample and extract the most abundant happlotype."
   ]
  },
  {
   "cell_type": "markdown",
   "metadata": {
    "collapsed": true
   },
   "source": [
    "Identify most abundant haplotype per sample."
   ]
  },
  {
   "cell_type": "code",
   "execution_count": 8,
   "metadata": {
    "collapsed": false,
    "scrolled": true
   },
   "outputs": [
    {
     "name": "stdout",
     "output_type": "stream",
     "text": [
      "Gammarus_pulex_0_MB\n",
      "\tINV017_Gammarus_pulex_0_MB.fasta  - longest: INV017|1_1101_7484_24995_1_ex - cleanup\n",
      "\tINV060_Gammarus_pulex_0_MB.fasta  - longest: INV060|1_1102_18269_3301_1_ex - cleanup\n",
      "\tINV061_Gammarus_pulex_0_MB.fasta  - longest: INV061|1_1107_22150_26420_1_ex - cleanup\n",
      "\tINV054_Gammarus_pulex_0_MB.fasta  - longest: INV054|1_1106_16595_20226_1_ex - cleanup\n",
      "\tINV026_Gammarus_pulex_0_MB.fasta  - longest: INV026|1_1112_20443_19711_1_ex - cleanup\n",
      "\tINV019_Gammarus_pulex_0_MB.fasta  - longest: INV019|1_1110_2257_17196_1_ex - cleanup\n",
      "\tINV056_Gammarus_pulex_0_MB.fasta  - longest: INV056|1_1101_18907_8328_1_ex - cleanup\n",
      "\tINV018_Gammarus_pulex_0_MB.fasta  - longest: INV018|1_1102_12328_25835_1_ex - cleanup\n",
      "\tINV015_Gammarus_pulex_0_MB.fasta  - longest: INV015|1_1102_12580_11576_1_ex - cleanup\n",
      "\tINV043_Gammarus_pulex_0_MB.fasta  - longest: INV043|1_1104_29375_14583_1_ex - cleanup\n",
      "\tINV023_Gammarus_pulex_0_MB.fasta  - longest: INV023|1_1114_5345_10453_1_ex - cleanup\n",
      "\tINV050_Gammarus_pulex_0_MB.fasta  - longest: INV050|1_1107_8048_9831_1_ex - cleanup\n",
      "\tINV051_Gammarus_pulex_0_MB.fasta  - longest: INV051|1_1103_21853_25029_1_ex - cleanup\n",
      "\tINV048_Gammarus_pulex_0_MB.fasta  - longest: INV048|1_1103_16666_18248_1_ex - cleanup\n",
      "\tINV013_Gammarus_pulex_0_MB.fasta  - longest: INV013|1_1103_7773_17662_1_ex - cleanup\n",
      "\tINV042_Gammarus_pulex_0_MB.fasta  - longest: INV042|1_1106_16486_14466_1_ex - cleanup\n",
      "\tINV049_Gammarus_pulex_0_MB.fasta  - longest: INV049|1_2107_17799_10892_1_ex - cleanup\n",
      "\tINV025_Gammarus_pulex_0_MB.fasta  - longest: INV025|1_1101_21258_26915_1_ex - cleanup\n",
      "\tINV064_Gammarus_pulex_0_MB.fasta  - longest: INV064|1_1111_7619_8440_1_ex - cleanup\n",
      "\tINV021_Gammarus_pulex_0_MB.fasta  - longest: INV021|1_2105_26990_14476_1_ex - cleanup\n",
      "\tINV063_Gammarus_pulex_0_MB.fasta  - longest: INV063|1_1102_16736_25357_1_ex - cleanup\n",
      "\tINV046_Gammarus_pulex_0_MB.fasta  - longest: INV046|1_1102_16546_6394_1_ex - cleanup\n",
      "\tINV058_Gammarus_pulex_0_MB.fasta  - longest: INV058|1_2112_27605_16285_1_ex - cleanup\n",
      "\tINV052_Gammarus_pulex_0_MB.fasta  - longest: INV052|1_1103_7191_13923_1_ex - cleanup\n",
      "\tINV016_Gammarus_pulex_0_MB.fasta  - longest: INV016|1_1107_9738_23511_1_ex - cleanup\n",
      "\tBLANK-1_Gammarus_pulex_0_MB.fasta  - longest: BLANK-1|1_1114_4038_16239_1_ex - cleanup\n",
      "\tINV044_Gammarus_pulex_0_MB.fasta  - longest: INV044|1_1104_24445_7779_1_ex - cleanup\n",
      "\tINV011_Gammarus_pulex_0_MB.fasta  - longest: INV011|1_2103_25498_11893_1_ex - cleanup\n",
      "extracting hts for Gammarus_pulex_0_MB -> Gammarus_pulex_0_MB_hts.fasta\n",
      "final cleanup ..  DONE!\n",
      "\n",
      "Gammarus_fossarum_0_MB\n",
      "\tINV031D_Gammarus_fossarum_0_MB.fasta  - longest: INV031D|1_1111_23122_11245_1_ex - cleanup\n",
      "\tINV027_Gammarus_fossarum_0_MB.fasta  - longest: INV027|1_1104_12802_4869_1_ex - cleanup\n",
      "\tINV038_Gammarus_fossarum_0_MB.fasta  - longest: INV038|1_1104_10036_19771_1_ex - cleanup\n",
      "\tINV062_Gammarus_fossarum_0_MB.fasta  - longest: INV062|1_2103_3735_14719_1_ex - cleanup\n",
      "\tINV041_Gammarus_fossarum_0_MB.fasta  - longest: INV041|1_1106_22258_26075_1_ex - cleanup\n",
      "\tINV042_Gammarus_fossarum_0_MB.fasta  - longest: INV042|1_1101_28479_20848_1_ex - cleanup\n",
      "\tINV057_Gammarus_fossarum_0_MB.fasta  - longest: INV057|1_1102_28951_14984_1_ex - cleanup\n",
      "\tINV029_Gammarus_fossarum_0_MB.fasta  - longest: INV029|1_1101_28409_12373_1_ex - cleanup\n",
      "\tWAT038_Gammarus_fossarum_0_MB.fasta  - longest: WAT038|1_1110_12597_25627_1_ex - cleanup\n",
      "\tINV036_Gammarus_fossarum_0_MB.fasta  - longest: INV036|1_1101_15674_20766_1_ex - cleanup\n",
      "\tINV049_Gammarus_fossarum_0_MB.fasta  - longest: INV049|1_1103_24362_13935_1_ex - cleanup\n",
      "\tINV056_Gammarus_fossarum_0_MB.fasta  - longest: INV056|1_2103_19324_14240_1_ex - cleanup\n",
      "\tWAT040_Gammarus_fossarum_0_MB.fasta  - longest: WAT040|1_1102_19498_13543_1_ex - cleanup\n",
      "\tBLANK-1_Gammarus_fossarum_0_MB.fasta  - longest: BLANK-1|1_1102_19302_8482_1_ex - cleanup\n",
      "\tINV028_Gammarus_fossarum_0_MB.fasta  - longest: INV028|1_1103_12741_26094_1_ex - cleanup\n",
      "\tINV010_Gammarus_fossarum_0_MB.fasta  - longest: INV010|1_1114_12961_16402_1_ex - cleanup\n",
      "\tINV063_Gammarus_fossarum_0_MB.fasta  - longest: INV063|1_1102_17618_23487_1_ex - cleanup\n",
      "\tWAT036_Gammarus_fossarum_0_MB.fasta  - longest: WAT036|1_1103_15482_21372_1_ex - cleanup\n",
      "\tINV033_Gammarus_fossarum_0_MB.fasta  - longest: INV033|1_1111_14009_17023_1_ex - cleanup\n",
      "\tINV034D_Gammarus_fossarum_0_MB.fasta  - longest: INV034D|1_1108_22582_14762_1_ex - cleanup\n",
      "\tSOI035_Gammarus_fossarum_0_MB.fasta  - longest: SOI035|1_1102_27333_9242_1_ex - cleanup\n",
      "\tSOI029_Gammarus_fossarum_0_MB.fasta  - longest: SOI029|1_1101_8182_23604_1_ex - cleanup\n",
      "\tINV039_Gammarus_fossarum_0_MB.fasta  - longest: INV039|1_1108_5673_17339_1_ex - cleanup\n",
      "\tSOI057_Gammarus_fossarum_0_MB.fasta  - longest: SOI057|1_1110_26237_22846_1_ex - cleanup\n",
      "\tINV053_Gammarus_fossarum_0_MB.fasta  - longest: INV053|1_1103_21402_26228_1_ex - cleanup\n",
      "\tINV035_Gammarus_fossarum_0_MB.fasta  - longest: INV035|1_1110_24613_18820_1_ex - cleanup\n",
      "\tSOI039_Gammarus_fossarum_0_MB.fasta  - longest: SOI039|1_1106_27544_15053_1_ex - cleanup\n",
      "\tSOI037_Gammarus_fossarum_0_MB.fasta  - longest: SOI037|1_1101_22116_8856_1_ex - cleanup\n",
      "\tWAT037_Gammarus_fossarum_0_MB.fasta  - longest: WAT037|1_1102_12730_17752_1_ex - cleanup\n",
      "\tINV037_Gammarus_fossarum_0_MB.fasta  - longest: INV037|1_1113_5331_18296_1_ex - cleanup\n",
      "\tINV005_Gammarus_fossarum_0_MB.fasta  - longest: INV005|1_2101_16856_7177_1_ex - cleanup\n",
      "\tWAT041_Gammarus_fossarum_0_MB.fasta  - longest: WAT041|1_1101_16634_8026_1_ex - cleanup\n",
      "\tINV055_Gammarus_fossarum_0_MB.fasta  - longest: INV055|1_1101_19756_21541_1_ex - cleanup\n",
      "\tINV040_Gammarus_fossarum_0_MB.fasta  - longest: INV040|1_1101_13715_8101_1_ex - cleanup\n",
      "\tSOI062_Gammarus_fossarum_0_MB.fasta  - longest: SOI062|1_2101_13542_23192_1_ex - cleanup\n",
      "\tSOI040_Gammarus_fossarum_0_MB.fasta  - longest: SOI040|1_1101_12679_16889_1_ex - cleanup\n",
      "\tWAT039_Gammarus_fossarum_0_MB.fasta  - longest: WAT039|1_2111_25354_20390_1_ex - cleanup\n",
      "\tSOI005_Gammarus_fossarum_0_MB.fasta  - longest: SOI005|1_1113_18360_11874_1_ex - cleanup\n",
      "\tINV059_Gammarus_fossarum_0_MB.fasta  - longest: INV059|1_1104_13296_8467_1_ex - cleanup\n",
      "\tWAT029_Gammarus_fossarum_0_MB.fasta  - longest: WAT029|1_1101_9847_16884_1_ex - cleanup\n",
      "\tSOI038_Gammarus_fossarum_0_MB.fasta  - longest: SOI038|1_2113_17451_4938_1_ex - cleanup\n",
      "\tWAT035_Gammarus_fossarum_0_MB.fasta  - longest: WAT035|1_1111_13843_6328_1_ex - cleanup\n",
      "\tINV030_Gammarus_fossarum_0_MB.fasta  - longest: INV030|1_1104_26765_17501_1_ex - cleanup\n",
      "extracting hts for Gammarus_fossarum_0_MB -> Gammarus_fossarum_0_MB_hts.fasta\n",
      "final cleanup ..  DONE!\n",
      "\n"
     ]
    }
   ],
   "source": [
    "import glob\n",
    "import os\n",
    "\n",
    "for i in range(len(OTUs_synonyms)):\n",
    "    print OTUs_synonyms[i]\n",
    "    hts_per_OTU=[]\n",
    "    seqs_per_OTU=[]\n",
    "    for f in glob.glob('*_'+OTUs_synonyms[i]+\".fasta\"):\n",
    "        print \"\\t\"+f,\n",
    "        #cluster at 100% similarity full length\n",
    "        mb.vsearch_cluster_full_length(infile=f, cluster_match=float(1), threads=5, sampleID=f)\n",
    "\n",
    "        hts_per_OTU.append(mb.find_most_abundant_seq_from_uc(uc=f+'.uc'))\n",
    "        print \" - longest: %s - cleanup\" %hts_per_OTU[-1]\n",
    "        os.remove(f+'.uc')\n",
    "        os.remove(f+'_centroids.fasta')\n",
    "        os.remove(f)\n",
    "\n",
    "    print \"extracting hts for %s -> %s\" %(OTUs_synonyms[i],OTUs_synonyms[i]+'_hts.fasta')\n",
    "    for r in SeqIO.parse(OTUs_synonyms[i]+'.fa', 'fasta'):\n",
    "        if r.id in hts_per_OTU:\n",
    "            seqs_per_OTU.append(r)\n",
    "                \n",
    "    fasta.close()\n",
    "    print \"final cleanup .. \",\n",
    "    os.remove(OTUs_synonyms[i]+'.fa')\n",
    "    print \"DONE!\\n\"\n",
    "        \n",
    "    out=open(OTUs_synonyms[i]+'_hts.fasta', 'w')\n",
    "    SeqIO.write(seqs_per_OTU, out, 'fasta')\n",
    "    out.close()"
   ]
  },
  {
   "cell_type": "markdown",
   "metadata": {},
   "source": [
    "Cluster all haplotypes at 97 % to identify single representative sequence."
   ]
  },
  {
   "cell_type": "markdown",
   "metadata": {},
   "source": [
    "___G. fossarum___"
   ]
  },
  {
   "cell_type": "code",
   "execution_count": 9,
   "metadata": {
    "collapsed": false
   },
   "outputs": [],
   "source": [
    "!cat Gammarus_fossarum_* > Gammarus_fossarum_hts.fasta"
   ]
  },
  {
   "cell_type": "code",
   "execution_count": 10,
   "metadata": {
    "collapsed": false
   },
   "outputs": [],
   "source": [
    "mb.vsearch_cluster_full_length(infile='Gammarus_fossarum_hts.fasta', cluster_match=float(0.97), threads=5, sampleID='Gammarus_fossarum_hts')"
   ]
  },
  {
   "cell_type": "markdown",
   "metadata": {},
   "source": [
    "___G. pulex___"
   ]
  },
  {
   "cell_type": "code",
   "execution_count": 11,
   "metadata": {
    "collapsed": true
   },
   "outputs": [],
   "source": [
    "!cat Gammarus_pulex_0_MB_hts.fasta > Gammarus_pulex_hts.fasta"
   ]
  },
  {
   "cell_type": "code",
   "execution_count": 12,
   "metadata": {
    "collapsed": true
   },
   "outputs": [],
   "source": [
    "mb.vsearch_cluster_full_length(infile='Gammarus_pulex_hts.fasta', cluster_match=float(0.97), threads=5, sampleID='Gammarus_pulex_hts')"
   ]
  },
  {
   "cell_type": "markdown",
   "metadata": {},
   "source": [
    "Collapse haplotypes to single file and rename."
   ]
  },
  {
   "cell_type": "code",
   "execution_count": 13,
   "metadata": {
    "collapsed": false
   },
   "outputs": [
    {
     "name": "stdout",
     "output_type": "stream",
     "text": [
      "Gammarus_pulex\n",
      "Gammarus_fossarum\n"
     ]
    }
   ],
   "source": [
    "from Bio import SeqIO\n",
    "import glob\n",
    "\n",
    "seqs = []\n",
    "for sp in OTUs:\n",
    "    print sp\n",
    "    for r in SeqIO.parse(open(sp+'_hts_centroids.fasta'), 'fasta'):\n",
    "        r.description = sp+'|'+r.id\n",
    "        r.id = r.description\n",
    "        seqs.append(r)\n",
    "        \n",
    "out=open('Gammarus_sp_from_metaBEAT.fasta', 'w')\n",
    "SeqIO.write(seqs, out, 'fasta')\n",
    "out.close()"
   ]
  }
 ],
 "metadata": {
  "kernelspec": {
   "display_name": "Python 2",
   "language": "python",
   "name": "python2"
  },
  "language_info": {
   "codemirror_mode": {
    "name": "ipython",
    "version": 2
   },
   "file_extension": ".py",
   "mimetype": "text/x-python",
   "name": "python",
   "nbconvert_exporter": "python",
   "pygments_lexer": "ipython2",
   "version": "2.7.6"
  }
 },
 "nbformat": 4,
 "nbformat_minor": 0
}
