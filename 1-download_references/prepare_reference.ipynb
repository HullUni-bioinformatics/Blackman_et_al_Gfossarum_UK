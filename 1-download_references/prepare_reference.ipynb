{
 "cells": [
  {
   "cell_type": "markdown",
   "metadata": {},
   "source": [
    "Download Gammarus spp. COI seqeunces from Genbank to be used as reference database for taxonomic assignment of metabarcoding data. COI sequence accessions from Weiss et al. 2013 have been prepared in the file `Gammarus_COI_Weiss_et_al_2013_accessions.txt`."
   ]
  },
  {
   "cell_type": "code",
   "execution_count": 1,
   "metadata": {
    "collapsed": false
   },
   "outputs": [
    {
     "name": "stdout",
     "output_type": "stream",
     "text": [
      "KF521826.1\r\n",
      "KF521827.1\r\n",
      "KF521828.1\r\n",
      "KF521829.1\r\n",
      "KF521830.1\r\n",
      "KF521831.1\r\n",
      "KF521832.1\r\n",
      "KF521833.1\r\n",
      "KF521834.1\r\n",
      "KF521835.1\r\n"
     ]
    }
   ],
   "source": [
    "!tail Gammarus_COI_Weiss_et_al_2013_accessions.txt"
   ]
  },
  {
   "cell_type": "markdown",
   "metadata": {},
   "source": [
    "Do the downloading."
   ]
  },
  {
   "cell_type": "code",
   "execution_count": null,
   "metadata": {
    "collapsed": false,
    "scrolled": true
   },
   "outputs": [],
   "source": [
    "%%bash\n",
    "\n",
    "for acc in $(cat Gammarus_COI_Weiss_et_al_2013_accessions.txt | sort -n | uniq)\n",
    "do \n",
    "    wget -O - \"http://eutils.ncbi.nlm.nih.gov/entrez/eutils/efetch.fcgi?db=nucleotide&id=${acc}&rettype=gb\"\n",
    "done > Gammarus_COI_Weiss_et_al_2013.gb"
   ]
  },
  {
   "cell_type": "markdown",
   "metadata": {},
   "source": [
    "Download COI sequences of organisms used as postive controls, by Genbank accessions.\n",
    "\n",
    "_Harmonia axyridis_:\n",
    " - KU188381.1\n",
    " - KU188380.1\n",
    " \n",
    "_Triops cancriformis_:\n",
    " - EF189678.1\n",
    " - JX110644.1"
   ]
  },
  {
   "cell_type": "code",
   "execution_count": 4,
   "metadata": {
    "collapsed": false
   },
   "outputs": [
    {
     "name": "stdout",
     "output_type": "stream",
     "text": [
      "KU188381.1\r\n",
      "KU188380.1\r\n",
      "EF189678.1\r\n",
      "JX110644.1\r\n"
     ]
    }
   ],
   "source": [
    "!head positive_controls_accessions.txt"
   ]
  },
  {
   "cell_type": "code",
   "execution_count": null,
   "metadata": {
    "collapsed": false
   },
   "outputs": [],
   "source": [
    "%%bash\n",
    "\n",
    "for acc in $(cat positive_controls_accessions.txt | sort -n | uniq)\n",
    "do \n",
    "    wget -O - \"http://eutils.ncbi.nlm.nih.gov/entrez/eutils/efetch.fcgi?db=nucleotide&id=${acc}&rettype=gb\"\n",
    "done > positive_controls.gb"
   ]
  },
  {
   "cell_type": "code",
   "execution_count": null,
   "metadata": {
    "collapsed": true
   },
   "outputs": [],
   "source": []
  },
  {
   "cell_type": "markdown",
   "metadata": {},
   "source": [
    "Download _Gammarus_ spp. COI dataset for phylogenetic inference based on Genbank accession numbers prepared in the file `phylogeny_refseqs.csv`. "
   ]
  },
  {
   "cell_type": "code",
   "execution_count": 6,
   "metadata": {
    "collapsed": false
   },
   "outputs": [
    {
     "name": "stdout",
     "output_type": "stream",
     "text": [
      "Taxon,COI,Source\r\n",
      "G. fossarum,KR061823,Copilas-Ciocianu & Petrusek (2015)\r\n",
      "G. fossarum,KR061824,Copilas-Ciocianu & Petrusek (2015)\r\n",
      "G. fossarum,KR061820,Copilas-Ciocianu & Petrusek (2015)\r\n",
      "G. fossarum,KR061821,Copilas-Ciocianu & Petrusek (2015)\r\n",
      "G. fossarum,KR061822,Copilas-Ciocianu & Petrusek (2015)\r\n",
      "G. fossarum,KR061819,Copilas-Ciocianu & Petrusek (2015)\r\n",
      "G. fossarum,KR061781,Copilas-Ciocianu & Petrusek (2015)\r\n",
      "G. fossarum,KR061782,Copilas-Ciocianu & Petrusek (2015)\r\n",
      "G. fossarum,KR061783,Copilas-Ciocianu & Petrusek (2015)\r\n"
     ]
    }
   ],
   "source": [
    "!head phylogeny_refseqs.csv "
   ]
  },
  {
   "cell_type": "markdown",
   "metadata": {},
   "source": [
    "Do the downloading."
   ]
  },
  {
   "cell_type": "code",
   "execution_count": null,
   "metadata": {
    "collapsed": false,
    "scrolled": true
   },
   "outputs": [],
   "source": [
    "%%bash\n",
    "\n",
    "for acc in $(cat phylogeny_refseqs.csv | cut -d \",\" -f 2 | grep \"COI\" -v | sort -n | uniq)\n",
    "do \n",
    "    wget -O - \"http://eutils.ncbi.nlm.nih.gov/entrez/eutils/efetch.fcgi?db=nucleotide&id=${acc}&rettype=gb\"\n",
    "done > Gammarus_COI_refseqs.gb"
   ]
  },
  {
   "cell_type": "code",
   "execution_count": null,
   "metadata": {
    "collapsed": true
   },
   "outputs": [],
   "source": []
  }
 ],
 "metadata": {
  "kernelspec": {
   "display_name": "Python 2",
   "language": "python",
   "name": "python2"
  },
  "language_info": {
   "codemirror_mode": {
    "name": "ipython",
    "version": 2
   },
   "file_extension": ".py",
   "mimetype": "text/x-python",
   "name": "python",
   "nbconvert_exporter": "python",
   "pygments_lexer": "ipython2",
   "version": "2.7.6"
  }
 },
 "nbformat": 4,
 "nbformat_minor": 0
}
